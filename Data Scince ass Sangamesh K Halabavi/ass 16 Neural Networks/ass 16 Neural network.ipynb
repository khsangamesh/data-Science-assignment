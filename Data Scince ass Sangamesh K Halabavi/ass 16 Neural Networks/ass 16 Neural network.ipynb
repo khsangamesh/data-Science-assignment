{
 "cells": [
  {
   "cell_type": "code",
   "execution_count": 14,
   "id": "fd41cebd",
   "metadata": {},
   "outputs": [],
   "source": [
    "import pandas as pd\n",
    "import keras\n",
    "from sklearn.model_selection import GridSearchCV, KFold\n",
    "from keras.models import Sequential\n",
    "from keras.layers import Dense\n",
    "from scikeras.wrappers import KerasClassifier\n",
    "from scikeras.wrappers import KerasRegressor\n",
    "from keras.optimizers import Adam"
   ]
  },
  {
   "cell_type": "code",
   "execution_count": 2,
   "id": "1b42a8be",
   "metadata": {},
   "outputs": [],
   "source": [
    "##loading the dataset\n",
    "data= pd.read_csv('forestfires.csv')\n",
    "data=data.drop(['month','day'],axis=1)"
   ]
  },
  {
   "cell_type": "code",
   "execution_count": 3,
   "id": "e649b7dc",
   "metadata": {},
   "outputs": [
    {
     "name": "stdout",
     "output_type": "stream",
     "text": [
      "<class 'pandas.core.frame.DataFrame'>\n",
      "RangeIndex: 517 entries, 0 to 516\n",
      "Data columns (total 29 columns):\n",
      " #   Column         Non-Null Count  Dtype  \n",
      "---  ------         --------------  -----  \n",
      " 0   FFMC           517 non-null    float64\n",
      " 1   DMC            517 non-null    float64\n",
      " 2   DC             517 non-null    float64\n",
      " 3   ISI            517 non-null    float64\n",
      " 4   temp           517 non-null    float64\n",
      " 5   RH             517 non-null    int64  \n",
      " 6   wind           517 non-null    float64\n",
      " 7   rain           517 non-null    float64\n",
      " 8   area           517 non-null    float64\n",
      " 9   dayfri         517 non-null    int64  \n",
      " 10  daymon         517 non-null    int64  \n",
      " 11  daysat         517 non-null    int64  \n",
      " 12  daysun         517 non-null    int64  \n",
      " 13  daythu         517 non-null    int64  \n",
      " 14  daytue         517 non-null    int64  \n",
      " 15  daywed         517 non-null    int64  \n",
      " 16  monthapr       517 non-null    int64  \n",
      " 17  monthaug       517 non-null    int64  \n",
      " 18  monthdec       517 non-null    int64  \n",
      " 19  monthfeb       517 non-null    int64  \n",
      " 20  monthjan       517 non-null    int64  \n",
      " 21  monthjul       517 non-null    int64  \n",
      " 22  monthjun       517 non-null    int64  \n",
      " 23  monthmar       517 non-null    int64  \n",
      " 24  monthmay       517 non-null    int64  \n",
      " 25  monthnov       517 non-null    int64  \n",
      " 26  monthoct       517 non-null    int64  \n",
      " 27  monthsep       517 non-null    int64  \n",
      " 28  size_category  517 non-null    object \n",
      "dtypes: float64(8), int64(20), object(1)\n",
      "memory usage: 117.3+ KB\n"
     ]
    }
   ],
   "source": [
    "data.info()"
   ]
  },
  {
   "cell_type": "code",
   "execution_count": 5,
   "id": "bafc9f49",
   "metadata": {},
   "outputs": [
    {
     "data": {
      "text/plain": [
       "(517, 28)"
      ]
     },
     "execution_count": 5,
     "metadata": {},
     "output_type": "execute_result"
    }
   ],
   "source": [
    "### splitting the data\n",
    "x=data.drop('size_category',axis=1)\n",
    "y=data['size_category']\n",
    "x.shape"
   ]
  },
  {
   "cell_type": "code",
   "execution_count": 6,
   "id": "c618ed25",
   "metadata": {},
   "outputs": [],
   "source": [
    "# create model\n",
    "def create_model():\n",
    "    model = Sequential()\n",
    "    model.add(Dense(12, input_dim=28, kernel_initializer='uniform', activation='relu'))\n",
    "    model.add(Dense(8, kernel_initializer='uniform', activation='relu'))\n",
    "    model.add(Dense(1, kernel_initializer='uniform', activation='sigmoid'))\n",
    "    \n",
    "    adam=Adam(lr=0.01)\n",
    "    model.compile(loss='binary_crossentropy', optimizer=adam, metrics=['accuracy'])\n",
    "    return model"
   ]
  },
  {
   "cell_type": "code",
   "execution_count": 8,
   "id": "a0f0cb93",
   "metadata": {},
   "outputs": [
    {
     "name": "stdout",
     "output_type": "stream",
     "text": [
      "Fitting 5 folds for each of 9 candidates, totalling 45 fits\n",
      "[CV 1/5; 1/9] START batch_size=10, epochs=10....................................\n"
     ]
    },
    {
     "name": "stderr",
     "output_type": "stream",
     "text": [
      "C:\\Users\\khsan\\anaconda3\\lib\\site-packages\\scikeras\\wrappers.py:915: UserWarning: ``build_fn`` will be renamed to ``model`` in a future release, at which point use of ``build_fn`` will raise an Error instead.\n",
      "  X, y = self._initialize(X, y)\n",
      "WARNING:absl:`lr` is deprecated in Keras optimizer, please use `learning_rate` or use the legacy optimizer, e.g.,tf.keras.optimizers.legacy.Adam.\n",
      "C:\\Users\\khsan\\anaconda3\\lib\\site-packages\\scikeras\\wrappers.py:915: UserWarning: ``build_fn`` will be renamed to ``model`` in a future release, at which point use of ``build_fn`` will raise an Error instead.\n",
      "  X, y = self._initialize(X, y)\n",
      "WARNING:absl:`lr` is deprecated in Keras optimizer, please use `learning_rate` or use the legacy optimizer, e.g.,tf.keras.optimizers.legacy.Adam.\n"
     ]
    },
    {
     "name": "stdout",
     "output_type": "stream",
     "text": [
      "[CV 1/5; 1/9] END .....batch_size=10, epochs=10;, score=1.000 total time=   4.4s\n",
      "[CV 2/5; 1/9] START batch_size=10, epochs=10....................................\n"
     ]
    },
    {
     "name": "stderr",
     "output_type": "stream",
     "text": [
      "C:\\Users\\khsan\\anaconda3\\lib\\site-packages\\scikeras\\wrappers.py:915: UserWarning: ``build_fn`` will be renamed to ``model`` in a future release, at which point use of ``build_fn`` will raise an Error instead.\n",
      "  X, y = self._initialize(X, y)\n",
      "WARNING:absl:`lr` is deprecated in Keras optimizer, please use `learning_rate` or use the legacy optimizer, e.g.,tf.keras.optimizers.legacy.Adam.\n"
     ]
    },
    {
     "name": "stdout",
     "output_type": "stream",
     "text": [
      "[CV 2/5; 1/9] END .....batch_size=10, epochs=10;, score=0.894 total time=   3.7s\n",
      "[CV 3/5; 1/9] START batch_size=10, epochs=10....................................\n"
     ]
    },
    {
     "name": "stderr",
     "output_type": "stream",
     "text": [
      "C:\\Users\\khsan\\anaconda3\\lib\\site-packages\\scikeras\\wrappers.py:915: UserWarning: ``build_fn`` will be renamed to ``model`` in a future release, at which point use of ``build_fn`` will raise an Error instead.\n",
      "  X, y = self._initialize(X, y)\n",
      "WARNING:absl:`lr` is deprecated in Keras optimizer, please use `learning_rate` or use the legacy optimizer, e.g.,tf.keras.optimizers.legacy.Adam.\n"
     ]
    },
    {
     "name": "stdout",
     "output_type": "stream",
     "text": [
      "[CV 3/5; 1/9] END .....batch_size=10, epochs=10;, score=0.874 total time=   3.7s\n",
      "[CV 4/5; 1/9] START batch_size=10, epochs=10....................................\n"
     ]
    },
    {
     "name": "stderr",
     "output_type": "stream",
     "text": [
      "C:\\Users\\khsan\\anaconda3\\lib\\site-packages\\scikeras\\wrappers.py:915: UserWarning: ``build_fn`` will be renamed to ``model`` in a future release, at which point use of ``build_fn`` will raise an Error instead.\n",
      "  X, y = self._initialize(X, y)\n",
      "WARNING:absl:`lr` is deprecated in Keras optimizer, please use `learning_rate` or use the legacy optimizer, e.g.,tf.keras.optimizers.legacy.Adam.\n"
     ]
    },
    {
     "name": "stdout",
     "output_type": "stream",
     "text": [
      "[CV 4/5; 1/9] END .....batch_size=10, epochs=10;, score=0.903 total time=   3.8s\n",
      "[CV 5/5; 1/9] START batch_size=10, epochs=10....................................\n"
     ]
    },
    {
     "name": "stderr",
     "output_type": "stream",
     "text": [
      "C:\\Users\\khsan\\anaconda3\\lib\\site-packages\\scikeras\\wrappers.py:915: UserWarning: ``build_fn`` will be renamed to ``model`` in a future release, at which point use of ``build_fn`` will raise an Error instead.\n",
      "  X, y = self._initialize(X, y)\n",
      "WARNING:absl:`lr` is deprecated in Keras optimizer, please use `learning_rate` or use the legacy optimizer, e.g.,tf.keras.optimizers.legacy.Adam.\n"
     ]
    },
    {
     "name": "stdout",
     "output_type": "stream",
     "text": [
      "[CV 5/5; 1/9] END .....batch_size=10, epochs=10;, score=0.942 total time=   4.2s\n",
      "[CV 1/5; 2/9] START batch_size=10, epochs=50....................................\n"
     ]
    },
    {
     "name": "stderr",
     "output_type": "stream",
     "text": [
      "C:\\Users\\khsan\\anaconda3\\lib\\site-packages\\scikeras\\wrappers.py:915: UserWarning: ``build_fn`` will be renamed to ``model`` in a future release, at which point use of ``build_fn`` will raise an Error instead.\n",
      "  X, y = self._initialize(X, y)\n",
      "WARNING:absl:`lr` is deprecated in Keras optimizer, please use `learning_rate` or use the legacy optimizer, e.g.,tf.keras.optimizers.legacy.Adam.\n"
     ]
    },
    {
     "name": "stdout",
     "output_type": "stream",
     "text": [
      "[CV 1/5; 2/9] END .....batch_size=10, epochs=50;, score=1.000 total time=   9.5s\n",
      "[CV 2/5; 2/9] START batch_size=10, epochs=50....................................\n"
     ]
    },
    {
     "name": "stderr",
     "output_type": "stream",
     "text": [
      "C:\\Users\\khsan\\anaconda3\\lib\\site-packages\\scikeras\\wrappers.py:915: UserWarning: ``build_fn`` will be renamed to ``model`` in a future release, at which point use of ``build_fn`` will raise an Error instead.\n",
      "  X, y = self._initialize(X, y)\n",
      "WARNING:absl:`lr` is deprecated in Keras optimizer, please use `learning_rate` or use the legacy optimizer, e.g.,tf.keras.optimizers.legacy.Adam.\n"
     ]
    },
    {
     "name": "stdout",
     "output_type": "stream",
     "text": [
      "[CV 2/5; 2/9] END .....batch_size=10, epochs=50;, score=1.000 total time=   9.4s\n",
      "[CV 3/5; 2/9] START batch_size=10, epochs=50....................................\n"
     ]
    },
    {
     "name": "stderr",
     "output_type": "stream",
     "text": [
      "C:\\Users\\khsan\\anaconda3\\lib\\site-packages\\scikeras\\wrappers.py:915: UserWarning: ``build_fn`` will be renamed to ``model`` in a future release, at which point use of ``build_fn`` will raise an Error instead.\n",
      "  X, y = self._initialize(X, y)\n",
      "WARNING:absl:`lr` is deprecated in Keras optimizer, please use `learning_rate` or use the legacy optimizer, e.g.,tf.keras.optimizers.legacy.Adam.\n"
     ]
    },
    {
     "name": "stdout",
     "output_type": "stream",
     "text": [
      "[CV 3/5; 2/9] END .....batch_size=10, epochs=50;, score=0.961 total time=   9.3s\n",
      "[CV 4/5; 2/9] START batch_size=10, epochs=50....................................\n"
     ]
    },
    {
     "name": "stderr",
     "output_type": "stream",
     "text": [
      "C:\\Users\\khsan\\anaconda3\\lib\\site-packages\\scikeras\\wrappers.py:915: UserWarning: ``build_fn`` will be renamed to ``model`` in a future release, at which point use of ``build_fn`` will raise an Error instead.\n",
      "  X, y = self._initialize(X, y)\n",
      "WARNING:absl:`lr` is deprecated in Keras optimizer, please use `learning_rate` or use the legacy optimizer, e.g.,tf.keras.optimizers.legacy.Adam.\n"
     ]
    },
    {
     "name": "stdout",
     "output_type": "stream",
     "text": [
      "[CV 4/5; 2/9] END .....batch_size=10, epochs=50;, score=0.971 total time=   9.6s\n",
      "[CV 5/5; 2/9] START batch_size=10, epochs=50....................................\n"
     ]
    },
    {
     "name": "stderr",
     "output_type": "stream",
     "text": [
      "C:\\Users\\khsan\\anaconda3\\lib\\site-packages\\scikeras\\wrappers.py:915: UserWarning: ``build_fn`` will be renamed to ``model`` in a future release, at which point use of ``build_fn`` will raise an Error instead.\n",
      "  X, y = self._initialize(X, y)\n",
      "WARNING:absl:`lr` is deprecated in Keras optimizer, please use `learning_rate` or use the legacy optimizer, e.g.,tf.keras.optimizers.legacy.Adam.\n"
     ]
    },
    {
     "name": "stdout",
     "output_type": "stream",
     "text": [
      "[CV 5/5; 2/9] END .....batch_size=10, epochs=50;, score=0.981 total time=   9.4s\n",
      "[CV 1/5; 3/9] START batch_size=10, epochs=100...................................\n"
     ]
    },
    {
     "name": "stderr",
     "output_type": "stream",
     "text": [
      "C:\\Users\\khsan\\anaconda3\\lib\\site-packages\\scikeras\\wrappers.py:915: UserWarning: ``build_fn`` will be renamed to ``model`` in a future release, at which point use of ``build_fn`` will raise an Error instead.\n",
      "  X, y = self._initialize(X, y)\n",
      "WARNING:absl:`lr` is deprecated in Keras optimizer, please use `learning_rate` or use the legacy optimizer, e.g.,tf.keras.optimizers.legacy.Adam.\n"
     ]
    },
    {
     "name": "stdout",
     "output_type": "stream",
     "text": [
      "[CV 1/5; 3/9] END ....batch_size=10, epochs=100;, score=1.000 total time=  16.6s\n",
      "[CV 2/5; 3/9] START batch_size=10, epochs=100...................................\n"
     ]
    },
    {
     "name": "stderr",
     "output_type": "stream",
     "text": [
      "C:\\Users\\khsan\\anaconda3\\lib\\site-packages\\scikeras\\wrappers.py:915: UserWarning: ``build_fn`` will be renamed to ``model`` in a future release, at which point use of ``build_fn`` will raise an Error instead.\n",
      "  X, y = self._initialize(X, y)\n",
      "WARNING:absl:`lr` is deprecated in Keras optimizer, please use `learning_rate` or use the legacy optimizer, e.g.,tf.keras.optimizers.legacy.Adam.\n"
     ]
    },
    {
     "name": "stdout",
     "output_type": "stream",
     "text": [
      "[CV 2/5; 3/9] END ....batch_size=10, epochs=100;, score=0.981 total time=  17.4s\n",
      "[CV 3/5; 3/9] START batch_size=10, epochs=100...................................\n"
     ]
    },
    {
     "name": "stderr",
     "output_type": "stream",
     "text": [
      "C:\\Users\\khsan\\anaconda3\\lib\\site-packages\\scikeras\\wrappers.py:915: UserWarning: ``build_fn`` will be renamed to ``model`` in a future release, at which point use of ``build_fn`` will raise an Error instead.\n",
      "  X, y = self._initialize(X, y)\n",
      "WARNING:absl:`lr` is deprecated in Keras optimizer, please use `learning_rate` or use the legacy optimizer, e.g.,tf.keras.optimizers.legacy.Adam.\n"
     ]
    },
    {
     "name": "stdout",
     "output_type": "stream",
     "text": [
      "[CV 3/5; 3/9] END ....batch_size=10, epochs=100;, score=1.000 total time=  16.6s\n",
      "[CV 4/5; 3/9] START batch_size=10, epochs=100...................................\n"
     ]
    },
    {
     "name": "stderr",
     "output_type": "stream",
     "text": [
      "C:\\Users\\khsan\\anaconda3\\lib\\site-packages\\scikeras\\wrappers.py:915: UserWarning: ``build_fn`` will be renamed to ``model`` in a future release, at which point use of ``build_fn`` will raise an Error instead.\n",
      "  X, y = self._initialize(X, y)\n",
      "WARNING:absl:`lr` is deprecated in Keras optimizer, please use `learning_rate` or use the legacy optimizer, e.g.,tf.keras.optimizers.legacy.Adam.\n"
     ]
    },
    {
     "name": "stdout",
     "output_type": "stream",
     "text": [
      "[CV 4/5; 3/9] END ....batch_size=10, epochs=100;, score=0.942 total time=  16.2s\n",
      "[CV 5/5; 3/9] START batch_size=10, epochs=100...................................\n"
     ]
    },
    {
     "name": "stderr",
     "output_type": "stream",
     "text": [
      "C:\\Users\\khsan\\anaconda3\\lib\\site-packages\\scikeras\\wrappers.py:915: UserWarning: ``build_fn`` will be renamed to ``model`` in a future release, at which point use of ``build_fn`` will raise an Error instead.\n",
      "  X, y = self._initialize(X, y)\n",
      "WARNING:absl:`lr` is deprecated in Keras optimizer, please use `learning_rate` or use the legacy optimizer, e.g.,tf.keras.optimizers.legacy.Adam.\n"
     ]
    },
    {
     "name": "stdout",
     "output_type": "stream",
     "text": [
      "[CV 5/5; 3/9] END ....batch_size=10, epochs=100;, score=0.981 total time=  16.5s\n",
      "[CV 1/5; 4/9] START batch_size=20, epochs=10....................................\n"
     ]
    },
    {
     "name": "stderr",
     "output_type": "stream",
     "text": [
      "C:\\Users\\khsan\\anaconda3\\lib\\site-packages\\scikeras\\wrappers.py:915: UserWarning: ``build_fn`` will be renamed to ``model`` in a future release, at which point use of ``build_fn`` will raise an Error instead.\n",
      "  X, y = self._initialize(X, y)\n",
      "WARNING:absl:`lr` is deprecated in Keras optimizer, please use `learning_rate` or use the legacy optimizer, e.g.,tf.keras.optimizers.legacy.Adam.\n"
     ]
    },
    {
     "name": "stdout",
     "output_type": "stream",
     "text": [
      "[CV 1/5; 4/9] END .....batch_size=20, epochs=10;, score=1.000 total time=   3.0s\n",
      "[CV 2/5; 4/9] START batch_size=20, epochs=10....................................\n"
     ]
    },
    {
     "name": "stderr",
     "output_type": "stream",
     "text": [
      "C:\\Users\\khsan\\anaconda3\\lib\\site-packages\\scikeras\\wrappers.py:915: UserWarning: ``build_fn`` will be renamed to ``model`` in a future release, at which point use of ``build_fn`` will raise an Error instead.\n",
      "  X, y = self._initialize(X, y)\n",
      "WARNING:absl:`lr` is deprecated in Keras optimizer, please use `learning_rate` or use the legacy optimizer, e.g.,tf.keras.optimizers.legacy.Adam.\n"
     ]
    },
    {
     "name": "stdout",
     "output_type": "stream",
     "text": [
      "[CV 2/5; 4/9] END .....batch_size=20, epochs=10;, score=0.904 total time=   3.1s\n",
      "[CV 3/5; 4/9] START batch_size=20, epochs=10....................................\n"
     ]
    },
    {
     "name": "stderr",
     "output_type": "stream",
     "text": [
      "C:\\Users\\khsan\\anaconda3\\lib\\site-packages\\scikeras\\wrappers.py:915: UserWarning: ``build_fn`` will be renamed to ``model`` in a future release, at which point use of ``build_fn`` will raise an Error instead.\n",
      "  X, y = self._initialize(X, y)\n",
      "WARNING:absl:`lr` is deprecated in Keras optimizer, please use `learning_rate` or use the legacy optimizer, e.g.,tf.keras.optimizers.legacy.Adam.\n"
     ]
    },
    {
     "name": "stdout",
     "output_type": "stream",
     "text": [
      "[CV 3/5; 4/9] END .....batch_size=20, epochs=10;, score=0.738 total time=   3.8s\n",
      "[CV 4/5; 4/9] START batch_size=20, epochs=10....................................\n"
     ]
    },
    {
     "name": "stderr",
     "output_type": "stream",
     "text": [
      "C:\\Users\\khsan\\anaconda3\\lib\\site-packages\\scikeras\\wrappers.py:915: UserWarning: ``build_fn`` will be renamed to ``model`` in a future release, at which point use of ``build_fn`` will raise an Error instead.\n",
      "  X, y = self._initialize(X, y)\n",
      "WARNING:absl:`lr` is deprecated in Keras optimizer, please use `learning_rate` or use the legacy optimizer, e.g.,tf.keras.optimizers.legacy.Adam.\n"
     ]
    },
    {
     "name": "stdout",
     "output_type": "stream",
     "text": [
      "[CV 4/5; 4/9] END .....batch_size=20, epochs=10;, score=0.864 total time=   3.0s\n",
      "[CV 5/5; 4/9] START batch_size=20, epochs=10....................................\n"
     ]
    },
    {
     "name": "stderr",
     "output_type": "stream",
     "text": [
      "C:\\Users\\khsan\\anaconda3\\lib\\site-packages\\scikeras\\wrappers.py:915: UserWarning: ``build_fn`` will be renamed to ``model`` in a future release, at which point use of ``build_fn`` will raise an Error instead.\n",
      "  X, y = self._initialize(X, y)\n",
      "WARNING:absl:`lr` is deprecated in Keras optimizer, please use `learning_rate` or use the legacy optimizer, e.g.,tf.keras.optimizers.legacy.Adam.\n"
     ]
    },
    {
     "name": "stdout",
     "output_type": "stream",
     "text": [
      "[CV 5/5; 4/9] END .....batch_size=20, epochs=10;, score=0.845 total time=   3.0s\n",
      "[CV 1/5; 5/9] START batch_size=20, epochs=50....................................\n"
     ]
    },
    {
     "name": "stderr",
     "output_type": "stream",
     "text": [
      "C:\\Users\\khsan\\anaconda3\\lib\\site-packages\\scikeras\\wrappers.py:915: UserWarning: ``build_fn`` will be renamed to ``model`` in a future release, at which point use of ``build_fn`` will raise an Error instead.\n",
      "  X, y = self._initialize(X, y)\n",
      "WARNING:absl:`lr` is deprecated in Keras optimizer, please use `learning_rate` or use the legacy optimizer, e.g.,tf.keras.optimizers.legacy.Adam.\n"
     ]
    },
    {
     "name": "stdout",
     "output_type": "stream",
     "text": [
      "[CV 1/5; 5/9] END .....batch_size=20, epochs=50;, score=1.000 total time=   6.1s\n",
      "[CV 2/5; 5/9] START batch_size=20, epochs=50....................................\n"
     ]
    },
    {
     "name": "stderr",
     "output_type": "stream",
     "text": [
      "C:\\Users\\khsan\\anaconda3\\lib\\site-packages\\scikeras\\wrappers.py:915: UserWarning: ``build_fn`` will be renamed to ``model`` in a future release, at which point use of ``build_fn`` will raise an Error instead.\n",
      "  X, y = self._initialize(X, y)\n",
      "WARNING:absl:`lr` is deprecated in Keras optimizer, please use `learning_rate` or use the legacy optimizer, e.g.,tf.keras.optimizers.legacy.Adam.\n"
     ]
    },
    {
     "name": "stdout",
     "output_type": "stream",
     "text": [
      "[CV 2/5; 5/9] END .....batch_size=20, epochs=50;, score=0.952 total time=   6.5s\n",
      "[CV 3/5; 5/9] START batch_size=20, epochs=50....................................\n"
     ]
    },
    {
     "name": "stderr",
     "output_type": "stream",
     "text": [
      "C:\\Users\\khsan\\anaconda3\\lib\\site-packages\\scikeras\\wrappers.py:915: UserWarning: ``build_fn`` will be renamed to ``model`` in a future release, at which point use of ``build_fn`` will raise an Error instead.\n",
      "  X, y = self._initialize(X, y)\n",
      "WARNING:absl:`lr` is deprecated in Keras optimizer, please use `learning_rate` or use the legacy optimizer, e.g.,tf.keras.optimizers.legacy.Adam.\n"
     ]
    },
    {
     "name": "stdout",
     "output_type": "stream",
     "text": [
      "[CV 3/5; 5/9] END .....batch_size=20, epochs=50;, score=0.990 total time=   6.3s\n",
      "[CV 4/5; 5/9] START batch_size=20, epochs=50....................................\n"
     ]
    },
    {
     "name": "stderr",
     "output_type": "stream",
     "text": [
      "C:\\Users\\khsan\\anaconda3\\lib\\site-packages\\scikeras\\wrappers.py:915: UserWarning: ``build_fn`` will be renamed to ``model`` in a future release, at which point use of ``build_fn`` will raise an Error instead.\n",
      "  X, y = self._initialize(X, y)\n",
      "WARNING:absl:`lr` is deprecated in Keras optimizer, please use `learning_rate` or use the legacy optimizer, e.g.,tf.keras.optimizers.legacy.Adam.\n"
     ]
    },
    {
     "name": "stdout",
     "output_type": "stream",
     "text": [
      "[CV 4/5; 5/9] END .....batch_size=20, epochs=50;, score=0.942 total time=   6.2s\n",
      "[CV 5/5; 5/9] START batch_size=20, epochs=50....................................\n"
     ]
    },
    {
     "name": "stderr",
     "output_type": "stream",
     "text": [
      "C:\\Users\\khsan\\anaconda3\\lib\\site-packages\\scikeras\\wrappers.py:915: UserWarning: ``build_fn`` will be renamed to ``model`` in a future release, at which point use of ``build_fn`` will raise an Error instead.\n",
      "  X, y = self._initialize(X, y)\n",
      "WARNING:absl:`lr` is deprecated in Keras optimizer, please use `learning_rate` or use the legacy optimizer, e.g.,tf.keras.optimizers.legacy.Adam.\n"
     ]
    },
    {
     "name": "stdout",
     "output_type": "stream",
     "text": [
      "[CV 5/5; 5/9] END .....batch_size=20, epochs=50;, score=0.961 total time=   6.3s\n",
      "[CV 1/5; 6/9] START batch_size=20, epochs=100...................................\n"
     ]
    },
    {
     "name": "stderr",
     "output_type": "stream",
     "text": [
      "C:\\Users\\khsan\\anaconda3\\lib\\site-packages\\scikeras\\wrappers.py:915: UserWarning: ``build_fn`` will be renamed to ``model`` in a future release, at which point use of ``build_fn`` will raise an Error instead.\n",
      "  X, y = self._initialize(X, y)\n",
      "WARNING:absl:`lr` is deprecated in Keras optimizer, please use `learning_rate` or use the legacy optimizer, e.g.,tf.keras.optimizers.legacy.Adam.\n"
     ]
    },
    {
     "name": "stdout",
     "output_type": "stream",
     "text": [
      "[CV 1/5; 6/9] END ....batch_size=20, epochs=100;, score=1.000 total time=  10.2s\n",
      "[CV 2/5; 6/9] START batch_size=20, epochs=100...................................\n"
     ]
    },
    {
     "name": "stderr",
     "output_type": "stream",
     "text": [
      "C:\\Users\\khsan\\anaconda3\\lib\\site-packages\\scikeras\\wrappers.py:915: UserWarning: ``build_fn`` will be renamed to ``model`` in a future release, at which point use of ``build_fn`` will raise an Error instead.\n",
      "  X, y = self._initialize(X, y)\n",
      "WARNING:absl:`lr` is deprecated in Keras optimizer, please use `learning_rate` or use the legacy optimizer, e.g.,tf.keras.optimizers.legacy.Adam.\n"
     ]
    },
    {
     "name": "stdout",
     "output_type": "stream",
     "text": [
      "[CV 2/5; 6/9] END ....batch_size=20, epochs=100;, score=0.990 total time=   9.6s\n",
      "[CV 3/5; 6/9] START batch_size=20, epochs=100...................................\n"
     ]
    },
    {
     "name": "stderr",
     "output_type": "stream",
     "text": [
      "C:\\Users\\khsan\\anaconda3\\lib\\site-packages\\scikeras\\wrappers.py:915: UserWarning: ``build_fn`` will be renamed to ``model`` in a future release, at which point use of ``build_fn`` will raise an Error instead.\n",
      "  X, y = self._initialize(X, y)\n",
      "WARNING:absl:`lr` is deprecated in Keras optimizer, please use `learning_rate` or use the legacy optimizer, e.g.,tf.keras.optimizers.legacy.Adam.\n"
     ]
    },
    {
     "name": "stdout",
     "output_type": "stream",
     "text": [
      "[CV 3/5; 6/9] END ....batch_size=20, epochs=100;, score=1.000 total time=   9.8s\n",
      "[CV 4/5; 6/9] START batch_size=20, epochs=100...................................\n"
     ]
    },
    {
     "name": "stderr",
     "output_type": "stream",
     "text": [
      "C:\\Users\\khsan\\anaconda3\\lib\\site-packages\\scikeras\\wrappers.py:915: UserWarning: ``build_fn`` will be renamed to ``model`` in a future release, at which point use of ``build_fn`` will raise an Error instead.\n",
      "  X, y = self._initialize(X, y)\n",
      "WARNING:absl:`lr` is deprecated in Keras optimizer, please use `learning_rate` or use the legacy optimizer, e.g.,tf.keras.optimizers.legacy.Adam.\n"
     ]
    },
    {
     "name": "stdout",
     "output_type": "stream",
     "text": [
      "[CV 4/5; 6/9] END ....batch_size=20, epochs=100;, score=0.961 total time=   9.7s\n",
      "[CV 5/5; 6/9] START batch_size=20, epochs=100...................................\n"
     ]
    },
    {
     "name": "stderr",
     "output_type": "stream",
     "text": [
      "C:\\Users\\khsan\\anaconda3\\lib\\site-packages\\scikeras\\wrappers.py:915: UserWarning: ``build_fn`` will be renamed to ``model`` in a future release, at which point use of ``build_fn`` will raise an Error instead.\n",
      "  X, y = self._initialize(X, y)\n",
      "WARNING:absl:`lr` is deprecated in Keras optimizer, please use `learning_rate` or use the legacy optimizer, e.g.,tf.keras.optimizers.legacy.Adam.\n"
     ]
    },
    {
     "name": "stdout",
     "output_type": "stream",
     "text": [
      "[CV 5/5; 6/9] END ....batch_size=20, epochs=100;, score=0.951 total time=  10.0s\n",
      "[CV 1/5; 7/9] START batch_size=40, epochs=10....................................\n"
     ]
    },
    {
     "name": "stderr",
     "output_type": "stream",
     "text": [
      "C:\\Users\\khsan\\anaconda3\\lib\\site-packages\\scikeras\\wrappers.py:915: UserWarning: ``build_fn`` will be renamed to ``model`` in a future release, at which point use of ``build_fn`` will raise an Error instead.\n",
      "  X, y = self._initialize(X, y)\n",
      "WARNING:absl:`lr` is deprecated in Keras optimizer, please use `learning_rate` or use the legacy optimizer, e.g.,tf.keras.optimizers.legacy.Adam.\n"
     ]
    },
    {
     "name": "stdout",
     "output_type": "stream",
     "text": [
      "[CV 1/5; 7/9] END .....batch_size=40, epochs=10;, score=1.000 total time=   2.8s\n",
      "[CV 2/5; 7/9] START batch_size=40, epochs=10....................................\n"
     ]
    },
    {
     "name": "stderr",
     "output_type": "stream",
     "text": [
      "C:\\Users\\khsan\\anaconda3\\lib\\site-packages\\scikeras\\wrappers.py:915: UserWarning: ``build_fn`` will be renamed to ``model`` in a future release, at which point use of ``build_fn`` will raise an Error instead.\n",
      "  X, y = self._initialize(X, y)\n",
      "WARNING:absl:`lr` is deprecated in Keras optimizer, please use `learning_rate` or use the legacy optimizer, e.g.,tf.keras.optimizers.legacy.Adam.\n"
     ]
    },
    {
     "name": "stdout",
     "output_type": "stream",
     "text": [
      "[CV 2/5; 7/9] END .....batch_size=40, epochs=10;, score=0.750 total time=   2.7s\n",
      "[CV 3/5; 7/9] START batch_size=40, epochs=10....................................\n"
     ]
    },
    {
     "name": "stderr",
     "output_type": "stream",
     "text": [
      "C:\\Users\\khsan\\anaconda3\\lib\\site-packages\\scikeras\\wrappers.py:915: UserWarning: ``build_fn`` will be renamed to ``model`` in a future release, at which point use of ``build_fn`` will raise an Error instead.\n",
      "  X, y = self._initialize(X, y)\n",
      "WARNING:absl:`lr` is deprecated in Keras optimizer, please use `learning_rate` or use the legacy optimizer, e.g.,tf.keras.optimizers.legacy.Adam.\n"
     ]
    },
    {
     "name": "stdout",
     "output_type": "stream",
     "text": [
      "[CV 3/5; 7/9] END .....batch_size=40, epochs=10;, score=0.534 total time=   2.7s\n",
      "[CV 4/5; 7/9] START batch_size=40, epochs=10....................................\n",
      "WARNING:tensorflow:5 out of the last 16 calls to <function Model.make_predict_function.<locals>.predict_function at 0x0000019AF3517520> triggered tf.function retracing. Tracing is expensive and the excessive number of tracings could be due to (1) creating @tf.function repeatedly in a loop, (2) passing tensors with different shapes, (3) passing Python objects instead of tensors. For (1), please define your @tf.function outside of the loop. For (2), @tf.function has reduce_retracing=True option that can avoid unnecessary retracing. For (3), please refer to https://www.tensorflow.org/guide/function#controlling_retracing and https://www.tensorflow.org/api_docs/python/tf/function for  more details.\n"
     ]
    },
    {
     "name": "stderr",
     "output_type": "stream",
     "text": [
      "WARNING:tensorflow:5 out of the last 16 calls to <function Model.make_predict_function.<locals>.predict_function at 0x0000019AF3517520> triggered tf.function retracing. Tracing is expensive and the excessive number of tracings could be due to (1) creating @tf.function repeatedly in a loop, (2) passing tensors with different shapes, (3) passing Python objects instead of tensors. For (1), please define your @tf.function outside of the loop. For (2), @tf.function has reduce_retracing=True option that can avoid unnecessary retracing. For (3), please refer to https://www.tensorflow.org/guide/function#controlling_retracing and https://www.tensorflow.org/api_docs/python/tf/function for  more details.\n",
      "C:\\Users\\khsan\\anaconda3\\lib\\site-packages\\scikeras\\wrappers.py:915: UserWarning: ``build_fn`` will be renamed to ``model`` in a future release, at which point use of ``build_fn`` will raise an Error instead.\n",
      "  X, y = self._initialize(X, y)\n",
      "WARNING:absl:`lr` is deprecated in Keras optimizer, please use `learning_rate` or use the legacy optimizer, e.g.,tf.keras.optimizers.legacy.Adam.\n"
     ]
    },
    {
     "name": "stdout",
     "output_type": "stream",
     "text": [
      "[CV 4/5; 7/9] END .....batch_size=40, epochs=10;, score=0.718 total time=   3.4s\n",
      "[CV 5/5; 7/9] START batch_size=40, epochs=10....................................\n",
      "WARNING:tensorflow:5 out of the last 13 calls to <function Model.make_predict_function.<locals>.predict_function at 0x0000019AF3515AB0> triggered tf.function retracing. Tracing is expensive and the excessive number of tracings could be due to (1) creating @tf.function repeatedly in a loop, (2) passing tensors with different shapes, (3) passing Python objects instead of tensors. For (1), please define your @tf.function outside of the loop. For (2), @tf.function has reduce_retracing=True option that can avoid unnecessary retracing. For (3), please refer to https://www.tensorflow.org/guide/function#controlling_retracing and https://www.tensorflow.org/api_docs/python/tf/function for  more details.\n"
     ]
    },
    {
     "name": "stderr",
     "output_type": "stream",
     "text": [
      "WARNING:tensorflow:5 out of the last 13 calls to <function Model.make_predict_function.<locals>.predict_function at 0x0000019AF3515AB0> triggered tf.function retracing. Tracing is expensive and the excessive number of tracings could be due to (1) creating @tf.function repeatedly in a loop, (2) passing tensors with different shapes, (3) passing Python objects instead of tensors. For (1), please define your @tf.function outside of the loop. For (2), @tf.function has reduce_retracing=True option that can avoid unnecessary retracing. For (3), please refer to https://www.tensorflow.org/guide/function#controlling_retracing and https://www.tensorflow.org/api_docs/python/tf/function for  more details.\n",
      "C:\\Users\\khsan\\anaconda3\\lib\\site-packages\\scikeras\\wrappers.py:915: UserWarning: ``build_fn`` will be renamed to ``model`` in a future release, at which point use of ``build_fn`` will raise an Error instead.\n",
      "  X, y = self._initialize(X, y)\n",
      "WARNING:absl:`lr` is deprecated in Keras optimizer, please use `learning_rate` or use the legacy optimizer, e.g.,tf.keras.optimizers.legacy.Adam.\n"
     ]
    },
    {
     "name": "stdout",
     "output_type": "stream",
     "text": [
      "[CV 5/5; 7/9] END .....batch_size=40, epochs=10;, score=0.757 total time=   2.7s\n",
      "[CV 1/5; 8/9] START batch_size=40, epochs=50....................................\n"
     ]
    },
    {
     "name": "stderr",
     "output_type": "stream",
     "text": [
      "C:\\Users\\khsan\\anaconda3\\lib\\site-packages\\scikeras\\wrappers.py:915: UserWarning: ``build_fn`` will be renamed to ``model`` in a future release, at which point use of ``build_fn`` will raise an Error instead.\n",
      "  X, y = self._initialize(X, y)\n",
      "WARNING:absl:`lr` is deprecated in Keras optimizer, please use `learning_rate` or use the legacy optimizer, e.g.,tf.keras.optimizers.legacy.Adam.\n"
     ]
    },
    {
     "name": "stdout",
     "output_type": "stream",
     "text": [
      "[CV 1/5; 8/9] END .....batch_size=40, epochs=50;, score=1.000 total time=   4.6s\n",
      "[CV 2/5; 8/9] START batch_size=40, epochs=50....................................\n"
     ]
    },
    {
     "name": "stderr",
     "output_type": "stream",
     "text": [
      "C:\\Users\\khsan\\anaconda3\\lib\\site-packages\\scikeras\\wrappers.py:915: UserWarning: ``build_fn`` will be renamed to ``model`` in a future release, at which point use of ``build_fn`` will raise an Error instead.\n",
      "  X, y = self._initialize(X, y)\n",
      "WARNING:absl:`lr` is deprecated in Keras optimizer, please use `learning_rate` or use the legacy optimizer, e.g.,tf.keras.optimizers.legacy.Adam.\n"
     ]
    },
    {
     "name": "stdout",
     "output_type": "stream",
     "text": [
      "[CV 2/5; 8/9] END .....batch_size=40, epochs=50;, score=0.913 total time=   4.6s\n",
      "[CV 3/5; 8/9] START batch_size=40, epochs=50....................................\n"
     ]
    },
    {
     "name": "stderr",
     "output_type": "stream",
     "text": [
      "C:\\Users\\khsan\\anaconda3\\lib\\site-packages\\scikeras\\wrappers.py:915: UserWarning: ``build_fn`` will be renamed to ``model`` in a future release, at which point use of ``build_fn`` will raise an Error instead.\n",
      "  X, y = self._initialize(X, y)\n",
      "WARNING:absl:`lr` is deprecated in Keras optimizer, please use `learning_rate` or use the legacy optimizer, e.g.,tf.keras.optimizers.legacy.Adam.\n"
     ]
    },
    {
     "name": "stdout",
     "output_type": "stream",
     "text": [
      "[CV 3/5; 8/9] END .....batch_size=40, epochs=50;, score=0.981 total time=   4.4s\n",
      "[CV 4/5; 8/9] START batch_size=40, epochs=50....................................\n"
     ]
    },
    {
     "name": "stderr",
     "output_type": "stream",
     "text": [
      "C:\\Users\\khsan\\anaconda3\\lib\\site-packages\\scikeras\\wrappers.py:915: UserWarning: ``build_fn`` will be renamed to ``model`` in a future release, at which point use of ``build_fn`` will raise an Error instead.\n",
      "  X, y = self._initialize(X, y)\n",
      "WARNING:absl:`lr` is deprecated in Keras optimizer, please use `learning_rate` or use the legacy optimizer, e.g.,tf.keras.optimizers.legacy.Adam.\n"
     ]
    },
    {
     "name": "stdout",
     "output_type": "stream",
     "text": [
      "[CV 4/5; 8/9] END .....batch_size=40, epochs=50;, score=0.942 total time=   4.8s\n",
      "[CV 5/5; 8/9] START batch_size=40, epochs=50....................................\n"
     ]
    },
    {
     "name": "stderr",
     "output_type": "stream",
     "text": [
      "C:\\Users\\khsan\\anaconda3\\lib\\site-packages\\scikeras\\wrappers.py:915: UserWarning: ``build_fn`` will be renamed to ``model`` in a future release, at which point use of ``build_fn`` will raise an Error instead.\n",
      "  X, y = self._initialize(X, y)\n",
      "WARNING:absl:`lr` is deprecated in Keras optimizer, please use `learning_rate` or use the legacy optimizer, e.g.,tf.keras.optimizers.legacy.Adam.\n"
     ]
    },
    {
     "name": "stdout",
     "output_type": "stream",
     "text": [
      "[CV 5/5; 8/9] END .....batch_size=40, epochs=50;, score=0.971 total time=   4.5s\n",
      "[CV 1/5; 9/9] START batch_size=40, epochs=100...................................\n"
     ]
    },
    {
     "name": "stderr",
     "output_type": "stream",
     "text": [
      "C:\\Users\\khsan\\anaconda3\\lib\\site-packages\\scikeras\\wrappers.py:915: UserWarning: ``build_fn`` will be renamed to ``model`` in a future release, at which point use of ``build_fn`` will raise an Error instead.\n",
      "  X, y = self._initialize(X, y)\n",
      "WARNING:absl:`lr` is deprecated in Keras optimizer, please use `learning_rate` or use the legacy optimizer, e.g.,tf.keras.optimizers.legacy.Adam.\n"
     ]
    },
    {
     "name": "stdout",
     "output_type": "stream",
     "text": [
      "[CV 1/5; 9/9] END ....batch_size=40, epochs=100;, score=1.000 total time=   6.8s\n",
      "[CV 2/5; 9/9] START batch_size=40, epochs=100...................................\n"
     ]
    },
    {
     "name": "stderr",
     "output_type": "stream",
     "text": [
      "C:\\Users\\khsan\\anaconda3\\lib\\site-packages\\scikeras\\wrappers.py:915: UserWarning: ``build_fn`` will be renamed to ``model`` in a future release, at which point use of ``build_fn`` will raise an Error instead.\n",
      "  X, y = self._initialize(X, y)\n",
      "WARNING:absl:`lr` is deprecated in Keras optimizer, please use `learning_rate` or use the legacy optimizer, e.g.,tf.keras.optimizers.legacy.Adam.\n"
     ]
    },
    {
     "name": "stdout",
     "output_type": "stream",
     "text": [
      "[CV 2/5; 9/9] END ....batch_size=40, epochs=100;, score=0.971 total time=   6.5s\n",
      "[CV 3/5; 9/9] START batch_size=40, epochs=100...................................\n"
     ]
    },
    {
     "name": "stderr",
     "output_type": "stream",
     "text": [
      "C:\\Users\\khsan\\anaconda3\\lib\\site-packages\\scikeras\\wrappers.py:915: UserWarning: ``build_fn`` will be renamed to ``model`` in a future release, at which point use of ``build_fn`` will raise an Error instead.\n",
      "  X, y = self._initialize(X, y)\n",
      "WARNING:absl:`lr` is deprecated in Keras optimizer, please use `learning_rate` or use the legacy optimizer, e.g.,tf.keras.optimizers.legacy.Adam.\n"
     ]
    },
    {
     "name": "stdout",
     "output_type": "stream",
     "text": [
      "[CV 3/5; 9/9] END ....batch_size=40, epochs=100;, score=0.990 total time=   6.6s\n",
      "[CV 4/5; 9/9] START batch_size=40, epochs=100...................................\n"
     ]
    },
    {
     "name": "stderr",
     "output_type": "stream",
     "text": [
      "C:\\Users\\khsan\\anaconda3\\lib\\site-packages\\scikeras\\wrappers.py:915: UserWarning: ``build_fn`` will be renamed to ``model`` in a future release, at which point use of ``build_fn`` will raise an Error instead.\n",
      "  X, y = self._initialize(X, y)\n",
      "WARNING:absl:`lr` is deprecated in Keras optimizer, please use `learning_rate` or use the legacy optimizer, e.g.,tf.keras.optimizers.legacy.Adam.\n"
     ]
    },
    {
     "name": "stdout",
     "output_type": "stream",
     "text": [
      "[CV 4/5; 9/9] END ....batch_size=40, epochs=100;, score=0.951 total time=   6.7s\n",
      "[CV 5/5; 9/9] START batch_size=40, epochs=100...................................\n"
     ]
    },
    {
     "name": "stderr",
     "output_type": "stream",
     "text": [
      "C:\\Users\\khsan\\anaconda3\\lib\\site-packages\\scikeras\\wrappers.py:915: UserWarning: ``build_fn`` will be renamed to ``model`` in a future release, at which point use of ``build_fn`` will raise an Error instead.\n",
      "  X, y = self._initialize(X, y)\n",
      "WARNING:absl:`lr` is deprecated in Keras optimizer, please use `learning_rate` or use the legacy optimizer, e.g.,tf.keras.optimizers.legacy.Adam.\n"
     ]
    },
    {
     "name": "stdout",
     "output_type": "stream",
     "text": [
      "[CV 5/5; 9/9] END ....batch_size=40, epochs=100;, score=0.951 total time=   6.6s\n"
     ]
    }
   ],
   "source": [
    "# Create the model\n",
    "model = KerasClassifier(build_fn = create_model,verbose = 0)\n",
    "# Define the grid search parameters\n",
    "batch_size = [10,20,40]\n",
    "epochs = [10,50,100]\n",
    "# Make a dictionary of the grid search parameters\n",
    "param_grid = dict(batch_size = batch_size,epochs = epochs)\n",
    "# Build and fit the GridSearchCV\n",
    "grid = GridSearchCV(estimator = model,param_grid = param_grid,cv = KFold(),verbose = 10)\n",
    "grid_result = grid.fit(x,y)"
   ]
  },
  {
   "cell_type": "code",
   "execution_count": 11,
   "id": "1af147e4",
   "metadata": {},
   "outputs": [
    {
     "name": "stderr",
     "output_type": "stream",
     "text": [
      "C:\\Users\\khsan\\anaconda3\\lib\\site-packages\\scikeras\\wrappers.py:915: UserWarning: ``build_fn`` will be renamed to ``model`` in a future release, at which point use of ``build_fn`` will raise an Error instead.\n",
      "  X, y = self._initialize(X, y)\n",
      "WARNING:absl:`lr` is deprecated in Keras optimizer, please use `learning_rate` or use the legacy optimizer, e.g.,tf.keras.optimizers.legacy.Adam.\n"
     ]
    },
    {
     "data": {
      "text/html": [
       "<style>#sk-container-id-2 {color: black;background-color: white;}#sk-container-id-2 pre{padding: 0;}#sk-container-id-2 div.sk-toggleable {background-color: white;}#sk-container-id-2 label.sk-toggleable__label {cursor: pointer;display: block;width: 100%;margin-bottom: 0;padding: 0.3em;box-sizing: border-box;text-align: center;}#sk-container-id-2 label.sk-toggleable__label-arrow:before {content: \"▸\";float: left;margin-right: 0.25em;color: #696969;}#sk-container-id-2 label.sk-toggleable__label-arrow:hover:before {color: black;}#sk-container-id-2 div.sk-estimator:hover label.sk-toggleable__label-arrow:before {color: black;}#sk-container-id-2 div.sk-toggleable__content {max-height: 0;max-width: 0;overflow: hidden;text-align: left;background-color: #f0f8ff;}#sk-container-id-2 div.sk-toggleable__content pre {margin: 0.2em;color: black;border-radius: 0.25em;background-color: #f0f8ff;}#sk-container-id-2 input.sk-toggleable__control:checked~div.sk-toggleable__content {max-height: 200px;max-width: 100%;overflow: auto;}#sk-container-id-2 input.sk-toggleable__control:checked~label.sk-toggleable__label-arrow:before {content: \"▾\";}#sk-container-id-2 div.sk-estimator input.sk-toggleable__control:checked~label.sk-toggleable__label {background-color: #d4ebff;}#sk-container-id-2 div.sk-label input.sk-toggleable__control:checked~label.sk-toggleable__label {background-color: #d4ebff;}#sk-container-id-2 input.sk-hidden--visually {border: 0;clip: rect(1px 1px 1px 1px);clip: rect(1px, 1px, 1px, 1px);height: 1px;margin: -1px;overflow: hidden;padding: 0;position: absolute;width: 1px;}#sk-container-id-2 div.sk-estimator {font-family: monospace;background-color: #f0f8ff;border: 1px dotted black;border-radius: 0.25em;box-sizing: border-box;margin-bottom: 0.5em;}#sk-container-id-2 div.sk-estimator:hover {background-color: #d4ebff;}#sk-container-id-2 div.sk-parallel-item::after {content: \"\";width: 100%;border-bottom: 1px solid gray;flex-grow: 1;}#sk-container-id-2 div.sk-label:hover label.sk-toggleable__label {background-color: #d4ebff;}#sk-container-id-2 div.sk-serial::before {content: \"\";position: absolute;border-left: 1px solid gray;box-sizing: border-box;top: 0;bottom: 0;left: 50%;z-index: 0;}#sk-container-id-2 div.sk-serial {display: flex;flex-direction: column;align-items: center;background-color: white;padding-right: 0.2em;padding-left: 0.2em;position: relative;}#sk-container-id-2 div.sk-item {position: relative;z-index: 1;}#sk-container-id-2 div.sk-parallel {display: flex;align-items: stretch;justify-content: center;background-color: white;position: relative;}#sk-container-id-2 div.sk-item::before, #sk-container-id-2 div.sk-parallel-item::before {content: \"\";position: absolute;border-left: 1px solid gray;box-sizing: border-box;top: 0;bottom: 0;left: 50%;z-index: -1;}#sk-container-id-2 div.sk-parallel-item {display: flex;flex-direction: column;z-index: 1;position: relative;background-color: white;}#sk-container-id-2 div.sk-parallel-item:first-child::after {align-self: flex-end;width: 50%;}#sk-container-id-2 div.sk-parallel-item:last-child::after {align-self: flex-start;width: 50%;}#sk-container-id-2 div.sk-parallel-item:only-child::after {width: 0;}#sk-container-id-2 div.sk-dashed-wrapped {border: 1px dashed gray;margin: 0 0.4em 0.5em 0.4em;box-sizing: border-box;padding-bottom: 0.4em;background-color: white;}#sk-container-id-2 div.sk-label label {font-family: monospace;font-weight: bold;display: inline-block;line-height: 1.2em;}#sk-container-id-2 div.sk-label-container {text-align: center;}#sk-container-id-2 div.sk-container {/* jupyter's `normalize.less` sets `[hidden] { display: none; }` but bootstrap.min.css set `[hidden] { display: none !important; }` so we also need the `!important` here to be able to override the default hidden behavior on the sphinx rendered scikit-learn.org. See: https://github.com/scikit-learn/scikit-learn/issues/21755 */display: inline-block !important;position: relative;}#sk-container-id-2 div.sk-text-repr-fallback {display: none;}</style><div id=\"sk-container-id-2\" class=\"sk-top-container\"><div class=\"sk-text-repr-fallback\"><pre>KerasClassifier(\n",
       "\tmodel=None\n",
       "\tbuild_fn=&lt;function create_model at 0x0000019AE4A155A0&gt;\n",
       "\twarm_start=False\n",
       "\trandom_state=None\n",
       "\toptimizer=rmsprop\n",
       "\tloss=None\n",
       "\tmetrics=None\n",
       "\tbatch_size=None\n",
       "\tvalidation_batch_size=None\n",
       "\tverbose=0\n",
       "\tcallbacks=None\n",
       "\tvalidation_split=0.0\n",
       "\tshuffle=True\n",
       "\trun_eagerly=False\n",
       "\tepochs=1\n",
       "\tclass_weight=None\n",
       ")</pre><b>In a Jupyter environment, please rerun this cell to show the HTML representation or trust the notebook. <br />On GitHub, the HTML representation is unable to render, please try loading this page with nbviewer.org.</b></div><div class=\"sk-container\" hidden><div class=\"sk-item\"><div class=\"sk-estimator sk-toggleable\"><input class=\"sk-toggleable__control sk-hidden--visually\" id=\"sk-estimator-id-2\" type=\"checkbox\" checked><label for=\"sk-estimator-id-2\" class=\"sk-toggleable__label sk-toggleable__label-arrow\">KerasClassifier</label><div class=\"sk-toggleable__content\"><pre>KerasClassifier(\n",
       "\tmodel=None\n",
       "\tbuild_fn=&lt;function create_model at 0x0000019AE4A155A0&gt;\n",
       "\twarm_start=False\n",
       "\trandom_state=None\n",
       "\toptimizer=rmsprop\n",
       "\tloss=None\n",
       "\tmetrics=None\n",
       "\tbatch_size=None\n",
       "\tvalidation_batch_size=None\n",
       "\tverbose=0\n",
       "\tcallbacks=None\n",
       "\tvalidation_split=0.0\n",
       "\tshuffle=True\n",
       "\trun_eagerly=False\n",
       "\tepochs=1\n",
       "\tclass_weight=None\n",
       ")</pre></div></div></div></div></div>"
      ],
      "text/plain": [
       "KerasClassifier(\n",
       "\tmodel=None\n",
       "\tbuild_fn=<function create_model at 0x0000019AE4A155A0>\n",
       "\twarm_start=False\n",
       "\trandom_state=None\n",
       "\toptimizer=rmsprop\n",
       "\tloss=None\n",
       "\tmetrics=None\n",
       "\tbatch_size=None\n",
       "\tvalidation_batch_size=None\n",
       "\tverbose=0\n",
       "\tcallbacks=None\n",
       "\tvalidation_split=0.0\n",
       "\tshuffle=True\n",
       "\trun_eagerly=False\n",
       "\tepochs=1\n",
       "\tclass_weight=None\n",
       ")"
      ]
     },
     "execution_count": 11,
     "metadata": {},
     "output_type": "execute_result"
    }
   ],
   "source": [
    "model.fit(x,y,batch_size=40,epochs=100)"
   ]
  },
  {
   "cell_type": "code",
   "execution_count": 12,
   "id": "e37aef24",
   "metadata": {},
   "outputs": [
    {
     "data": {
      "text/plain": [
       "0.9941972920696325"
      ]
     },
     "execution_count": 12,
     "metadata": {},
     "output_type": "execute_result"
    }
   ],
   "source": [
    "model.score(x,y)"
   ]
  },
  {
   "cell_type": "code",
   "execution_count": 13,
   "id": "6088ec89",
   "metadata": {},
   "outputs": [
    {
     "data": {
      "text/plain": [
       "array(['small', 'small', 'small', 'small', 'small', 'small', 'small',\n",
       "       'small', 'small', 'small', 'small', 'small', 'small', 'small',\n",
       "       'small', 'small', 'small', 'small', 'small', 'small', 'small',\n",
       "       'small', 'small', 'small', 'small', 'small', 'small', 'small',\n",
       "       'small', 'small', 'small', 'small', 'small', 'small', 'small',\n",
       "       'small', 'small', 'small', 'small', 'small', 'small', 'small',\n",
       "       'small', 'small', 'small', 'small', 'small', 'small', 'small',\n",
       "       'small', 'small', 'small', 'small', 'small', 'small', 'small',\n",
       "       'small', 'small', 'small', 'small', 'small', 'small', 'small',\n",
       "       'small', 'small', 'small', 'small', 'small', 'small', 'small',\n",
       "       'small', 'small', 'small', 'small', 'small', 'small', 'small',\n",
       "       'small', 'small', 'small', 'small', 'small', 'small', 'small',\n",
       "       'small', 'small', 'small', 'small', 'small', 'small', 'small',\n",
       "       'small', 'small', 'small', 'small', 'small', 'small', 'small',\n",
       "       'small', 'small', 'small', 'small', 'small', 'small', 'small',\n",
       "       'small', 'small', 'small', 'small', 'small', 'small', 'small',\n",
       "       'small', 'small', 'small', 'small', 'small', 'small', 'small',\n",
       "       'small', 'small', 'small', 'small', 'small', 'small', 'small',\n",
       "       'small', 'small', 'small', 'small', 'small', 'small', 'small',\n",
       "       'small', 'small', 'small', 'small', 'small', 'small', 'small',\n",
       "       'small', 'small', 'small', 'small', 'small', 'small', 'small',\n",
       "       'small', 'small', 'small', 'small', 'small', 'small', 'small',\n",
       "       'small', 'small', 'small', 'small', 'small', 'small', 'small',\n",
       "       'small', 'small', 'small', 'small', 'small', 'small', 'small',\n",
       "       'small', 'small', 'small', 'small', 'small', 'small', 'small',\n",
       "       'small', 'small', 'small', 'small', 'small', 'small', 'small',\n",
       "       'large', 'large', 'large', 'large', 'large', 'large', 'large',\n",
       "       'large', 'large', 'large', 'large', 'large', 'large', 'large',\n",
       "       'large', 'large', 'large', 'large', 'large', 'large', 'large',\n",
       "       'large', 'large', 'large', 'large', 'large', 'large', 'large',\n",
       "       'large', 'large', 'large', 'large', 'large', 'large', 'large',\n",
       "       'large', 'large', 'large', 'large', 'large', 'large', 'large',\n",
       "       'large', 'large', 'large', 'large', 'large', 'large', 'large',\n",
       "       'large', 'large', 'large', 'large', 'large', 'large', 'large',\n",
       "       'large', 'small', 'small', 'small', 'large', 'small', 'small',\n",
       "       'small', 'small', 'small', 'small', 'small', 'small', 'small',\n",
       "       'small', 'small', 'large', 'small', 'large', 'small', 'small',\n",
       "       'small', 'large', 'small', 'small', 'small', 'large', 'small',\n",
       "       'small', 'small', 'small', 'small', 'small', 'large', 'small',\n",
       "       'large', 'large', 'small', 'large', 'large', 'large', 'large',\n",
       "       'large', 'large', 'small', 'small', 'large', 'small', 'small',\n",
       "       'small', 'small', 'small', 'small', 'large', 'small', 'large',\n",
       "       'large', 'small', 'small', 'small', 'small', 'small', 'small',\n",
       "       'small', 'small', 'small', 'small', 'small', 'small', 'small',\n",
       "       'small', 'small', 'small', 'large', 'small', 'small', 'small',\n",
       "       'small', 'small', 'small', 'small', 'small', 'large', 'large',\n",
       "       'small', 'small', 'small', 'small', 'small', 'small', 'small',\n",
       "       'small', 'large', 'large', 'large', 'small', 'small', 'small',\n",
       "       'small', 'large', 'large', 'small', 'small', 'small', 'small',\n",
       "       'small', 'small', 'small', 'large', 'small', 'small', 'small',\n",
       "       'small', 'large', 'small', 'small', 'small', 'large', 'small',\n",
       "       'small', 'small', 'large', 'small', 'small', 'small', 'small',\n",
       "       'small', 'large', 'small', 'small', 'large', 'small', 'large',\n",
       "       'small', 'small', 'small', 'large', 'large', 'small', 'large',\n",
       "       'small', 'small', 'large', 'large', 'large', 'large', 'large',\n",
       "       'large', 'large', 'small', 'large', 'small', 'large', 'large',\n",
       "       'large', 'small', 'small', 'large', 'small', 'small', 'small',\n",
       "       'small', 'large', 'small', 'small', 'small', 'small', 'small',\n",
       "       'small', 'small', 'large', 'small', 'small', 'small', 'small',\n",
       "       'small', 'small', 'large', 'large', 'small', 'small', 'small',\n",
       "       'large', 'small', 'large', 'small', 'small', 'small', 'small',\n",
       "       'small', 'small', 'small', 'small', 'large', 'small', 'large',\n",
       "       'small', 'small', 'small', 'small', 'large', 'small', 'small',\n",
       "       'small', 'small', 'small', 'large', 'small', 'small', 'small',\n",
       "       'small', 'small', 'large', 'large', 'small', 'small', 'small',\n",
       "       'small', 'small', 'large', 'small', 'small', 'small', 'small',\n",
       "       'small', 'small', 'small', 'large', 'small', 'small', 'large',\n",
       "       'large', 'small', 'large', 'small', 'large', 'large', 'small',\n",
       "       'small', 'large', 'small', 'large', 'small', 'small', 'small',\n",
       "       'small', 'large', 'small', 'small', 'large', 'large', 'small',\n",
       "       'small', 'small', 'small', 'large', 'large', 'small', 'small',\n",
       "       'large', 'large', 'large', 'small', 'small', 'small', 'small',\n",
       "       'large', 'small', 'small', 'small', 'small', 'small', 'small',\n",
       "       'small', 'large', 'large', 'large', 'small', 'small'], dtype=object)"
      ]
     },
     "execution_count": 13,
     "metadata": {},
     "output_type": "execute_result"
    }
   ],
   "source": [
    "model.predict(x)"
   ]
  },
  {
   "cell_type": "code",
   "execution_count": null,
   "id": "273fa1d3",
   "metadata": {},
   "outputs": [],
   "source": []
  },
  {
   "cell_type": "code",
   "execution_count": null,
   "id": "ccb02a20",
   "metadata": {},
   "outputs": [],
   "source": []
  },
  {
   "cell_type": "code",
   "execution_count": 15,
   "id": "04189785",
   "metadata": {},
   "outputs": [],
   "source": [
    "### loading the data set \n",
    "gas_data=pd.read_csv('gas_turbines.csv')"
   ]
  },
  {
   "cell_type": "code",
   "execution_count": 19,
   "id": "933b8c53",
   "metadata": {},
   "outputs": [],
   "source": [
    "x1=gas_data.drop('TEY',axis=1)\n",
    "y1=gas_data['TEY']"
   ]
  },
  {
   "cell_type": "code",
   "execution_count": 21,
   "id": "1caaec48",
   "metadata": {},
   "outputs": [
    {
     "data": {
      "text/plain": [
       "0        114.70\n",
       "1        114.72\n",
       "2        114.71\n",
       "3        114.72\n",
       "4        114.72\n",
       "          ...  \n",
       "15034    111.61\n",
       "15035    111.78\n",
       "15036    110.19\n",
       "15037    110.74\n",
       "15038    111.58\n",
       "Name: TEY, Length: 15039, dtype: float64"
      ]
     },
     "execution_count": 21,
     "metadata": {},
     "output_type": "execute_result"
    }
   ],
   "source": [
    "y1"
   ]
  },
  {
   "cell_type": "code",
   "execution_count": 41,
   "id": "6e31896a",
   "metadata": {},
   "outputs": [
    {
     "name": "stderr",
     "output_type": "stream",
     "text": [
      "WARNING:absl:`lr` is deprecated in Keras optimizer, please use `learning_rate` or use the legacy optimizer, e.g.,tf.keras.optimizers.legacy.Adam.\n"
     ]
    },
    {
     "name": "stdout",
     "output_type": "stream",
     "text": [
      "Epoch 1/10\n",
      "1204/1204 [==============================] - 6s 4ms/step - loss: 989.5669\n",
      "Epoch 2/10\n",
      "1204/1204 [==============================] - 5s 4ms/step - loss: 184.8150\n",
      "Epoch 3/10\n",
      "1204/1204 [==============================] - 5s 4ms/step - loss: 143.8351\n",
      "Epoch 4/10\n",
      "1204/1204 [==============================] - 5s 4ms/step - loss: 76.1230\n",
      "Epoch 5/10\n",
      "1204/1204 [==============================] - 5s 4ms/step - loss: 24.5281\n",
      "Epoch 6/10\n",
      "1204/1204 [==============================] - 5s 4ms/step - loss: 11.5617\n",
      "Epoch 7/10\n",
      "1204/1204 [==============================] - 5s 4ms/step - loss: 8.2900\n",
      "Epoch 8/10\n",
      "1204/1204 [==============================] - 5s 4ms/step - loss: 6.5115\n",
      "Epoch 9/10\n",
      "1204/1204 [==============================] - 5s 4ms/step - loss: 5.2988\n",
      "Epoch 10/10\n",
      "1204/1204 [==============================] - 5s 4ms/step - loss: 4.1872\n"
     ]
    },
    {
     "name": "stderr",
     "output_type": "stream",
     "text": [
      "C:\\Users\\khsan\\anaconda3\\lib\\site-packages\\sklearn\\model_selection\\_validation.py:778: UserWarning: Scoring failed. The score on this train-test partition for these parameters will be set to nan. Details: \n",
      "Traceback (most recent call last):\n",
      "  File \"C:\\Users\\khsan\\anaconda3\\lib\\site-packages\\sklearn\\model_selection\\_validation.py\", line 767, in _score\n",
      "    scores = scorer(estimator, X_test, y_test)\n",
      "  File \"C:\\Users\\khsan\\anaconda3\\lib\\site-packages\\sklearn\\metrics\\_scorer.py\", line 234, in __call__\n",
      "    return self._score(\n",
      "  File \"C:\\Users\\khsan\\anaconda3\\lib\\site-packages\\sklearn\\metrics\\_scorer.py\", line 282, in _score\n",
      "    return self._sign * self._score_func(y_true, y_pred, **self._kwargs)\n",
      "  File \"C:\\Users\\khsan\\AppData\\Local\\Temp\\ipykernel_21092\\344946441.py\", line 31, in Accuracy_Score\n",
      "    MAPE = np.mean(100 * (np.abs(orig-pred)/orig))\n",
      "NameError: name 'np' is not defined\n",
      "\n",
      "  warnings.warn(\n"
     ]
    },
    {
     "name": "stdout",
     "output_type": "stream",
     "text": [
      "Epoch 1/10\n",
      "1204/1204 [==============================] - 6s 4ms/step - loss: 1816.9856\n",
      "Epoch 2/10\n",
      "1204/1204 [==============================] - 5s 4ms/step - loss: 231.6581\n",
      "Epoch 3/10\n",
      "1204/1204 [==============================] - 5s 4ms/step - loss: 192.8905\n",
      "Epoch 4/10\n",
      "1204/1204 [==============================] - 5s 4ms/step - loss: 133.2718\n",
      "Epoch 5/10\n",
      "1204/1204 [==============================] - 5s 4ms/step - loss: 58.3811\n",
      "Epoch 6/10\n",
      "1204/1204 [==============================] - 5s 4ms/step - loss: 23.1207\n",
      "Epoch 7/10\n",
      "1204/1204 [==============================] - 5s 4ms/step - loss: 17.1133\n",
      "Epoch 8/10\n",
      "1204/1204 [==============================] - 5s 4ms/step - loss: 14.0804\n",
      "Epoch 9/10\n",
      "1204/1204 [==============================] - 5s 4ms/step - loss: 11.1896\n",
      "Epoch 10/10\n",
      "1204/1204 [==============================] - 5s 4ms/step - loss: 9.3888\n"
     ]
    },
    {
     "name": "stderr",
     "output_type": "stream",
     "text": [
      "C:\\Users\\khsan\\anaconda3\\lib\\site-packages\\sklearn\\model_selection\\_validation.py:778: UserWarning: Scoring failed. The score on this train-test partition for these parameters will be set to nan. Details: \n",
      "Traceback (most recent call last):\n",
      "  File \"C:\\Users\\khsan\\anaconda3\\lib\\site-packages\\sklearn\\model_selection\\_validation.py\", line 767, in _score\n",
      "    scores = scorer(estimator, X_test, y_test)\n",
      "  File \"C:\\Users\\khsan\\anaconda3\\lib\\site-packages\\sklearn\\metrics\\_scorer.py\", line 234, in __call__\n",
      "    return self._score(\n",
      "  File \"C:\\Users\\khsan\\anaconda3\\lib\\site-packages\\sklearn\\metrics\\_scorer.py\", line 282, in _score\n",
      "    return self._sign * self._score_func(y_true, y_pred, **self._kwargs)\n",
      "  File \"C:\\Users\\khsan\\AppData\\Local\\Temp\\ipykernel_21092\\344946441.py\", line 31, in Accuracy_Score\n",
      "    MAPE = np.mean(100 * (np.abs(orig-pred)/orig))\n",
      "NameError: name 'np' is not defined\n",
      "\n",
      "  warnings.warn(\n"
     ]
    },
    {
     "name": "stdout",
     "output_type": "stream",
     "text": [
      "Epoch 1/10\n",
      "1204/1204 [==============================] - 6s 4ms/step - loss: 2207.2397\n",
      "Epoch 2/10\n",
      "1204/1204 [==============================] - 5s 4ms/step - loss: 211.4297\n",
      "Epoch 3/10\n",
      "1204/1204 [==============================] - 5s 4ms/step - loss: 196.3066\n",
      "Epoch 4/10\n",
      "1204/1204 [==============================] - 5s 4ms/step - loss: 178.0751\n",
      "Epoch 5/10\n",
      "1204/1204 [==============================] - 5s 4ms/step - loss: 155.1567\n",
      "Epoch 6/10\n",
      "1204/1204 [==============================] - 5s 4ms/step - loss: 126.1915\n",
      "Epoch 7/10\n",
      "1204/1204 [==============================] - 5s 4ms/step - loss: 87.9424\n",
      "Epoch 8/10\n",
      "1204/1204 [==============================] - 5s 4ms/step - loss: 48.2042\n",
      "Epoch 9/10\n",
      "1204/1204 [==============================] - 5s 4ms/step - loss: 25.4437\n",
      "Epoch 10/10\n",
      "1204/1204 [==============================] - 5s 4ms/step - loss: 19.3867\n"
     ]
    },
    {
     "name": "stderr",
     "output_type": "stream",
     "text": [
      "C:\\Users\\khsan\\anaconda3\\lib\\site-packages\\sklearn\\model_selection\\_validation.py:778: UserWarning: Scoring failed. The score on this train-test partition for these parameters will be set to nan. Details: \n",
      "Traceback (most recent call last):\n",
      "  File \"C:\\Users\\khsan\\anaconda3\\lib\\site-packages\\sklearn\\model_selection\\_validation.py\", line 767, in _score\n",
      "    scores = scorer(estimator, X_test, y_test)\n",
      "  File \"C:\\Users\\khsan\\anaconda3\\lib\\site-packages\\sklearn\\metrics\\_scorer.py\", line 234, in __call__\n",
      "    return self._score(\n",
      "  File \"C:\\Users\\khsan\\anaconda3\\lib\\site-packages\\sklearn\\metrics\\_scorer.py\", line 282, in _score\n",
      "    return self._sign * self._score_func(y_true, y_pred, **self._kwargs)\n",
      "  File \"C:\\Users\\khsan\\AppData\\Local\\Temp\\ipykernel_21092\\344946441.py\", line 31, in Accuracy_Score\n",
      "    MAPE = np.mean(100 * (np.abs(orig-pred)/orig))\n",
      "NameError: name 'np' is not defined\n",
      "\n",
      "  warnings.warn(\n"
     ]
    },
    {
     "name": "stdout",
     "output_type": "stream",
     "text": [
      "Epoch 1/10\n",
      "1204/1204 [==============================] - 6s 4ms/step - loss: 1668.0116\n",
      "Epoch 2/10\n",
      "1204/1204 [==============================] - 5s 4ms/step - loss: 217.8155\n",
      "Epoch 3/10\n",
      "1204/1204 [==============================] - 5s 4ms/step - loss: 190.1569\n",
      "Epoch 4/10\n",
      "1204/1204 [==============================] - 5s 4ms/step - loss: 149.5845\n",
      "Epoch 5/10\n",
      "1204/1204 [==============================] - 5s 4ms/step - loss: 91.5579\n",
      "Epoch 6/10\n",
      "1204/1204 [==============================] - 5s 4ms/step - loss: 37.7512\n",
      "Epoch 7/10\n",
      "1204/1204 [==============================] - 5s 4ms/step - loss: 22.0563\n",
      "Epoch 8/10\n",
      "1204/1204 [==============================] - 5s 4ms/step - loss: 18.0856\n",
      "Epoch 9/10\n",
      "1204/1204 [==============================] - 5s 4ms/step - loss: 15.2193\n",
      "Epoch 10/10\n",
      "1204/1204 [==============================] - 5s 4ms/step - loss: 12.7179\n"
     ]
    },
    {
     "name": "stderr",
     "output_type": "stream",
     "text": [
      "C:\\Users\\khsan\\anaconda3\\lib\\site-packages\\sklearn\\model_selection\\_validation.py:778: UserWarning: Scoring failed. The score on this train-test partition for these parameters will be set to nan. Details: \n",
      "Traceback (most recent call last):\n",
      "  File \"C:\\Users\\khsan\\anaconda3\\lib\\site-packages\\sklearn\\model_selection\\_validation.py\", line 767, in _score\n",
      "    scores = scorer(estimator, X_test, y_test)\n",
      "  File \"C:\\Users\\khsan\\anaconda3\\lib\\site-packages\\sklearn\\metrics\\_scorer.py\", line 234, in __call__\n",
      "    return self._score(\n",
      "  File \"C:\\Users\\khsan\\anaconda3\\lib\\site-packages\\sklearn\\metrics\\_scorer.py\", line 282, in _score\n",
      "    return self._sign * self._score_func(y_true, y_pred, **self._kwargs)\n",
      "  File \"C:\\Users\\khsan\\AppData\\Local\\Temp\\ipykernel_21092\\344946441.py\", line 31, in Accuracy_Score\n",
      "    MAPE = np.mean(100 * (np.abs(orig-pred)/orig))\n",
      "NameError: name 'np' is not defined\n",
      "\n",
      "  warnings.warn(\n"
     ]
    },
    {
     "name": "stdout",
     "output_type": "stream",
     "text": [
      "Epoch 1/10\n",
      "1204/1204 [==============================] - 6s 4ms/step - loss: 1247.5017\n",
      "Epoch 2/10\n",
      "1204/1204 [==============================] - 5s 4ms/step - loss: 205.8212\n",
      "Epoch 3/10\n",
      "1204/1204 [==============================] - 5s 4ms/step - loss: 156.2205\n",
      "Epoch 4/10\n",
      "1204/1204 [==============================] - 5s 4ms/step - loss: 78.2540\n",
      "Epoch 5/10\n",
      "1204/1204 [==============================] - 4s 3ms/step - loss: 25.7953\n",
      "Epoch 6/10\n",
      "1204/1204 [==============================] - 5s 4ms/step - loss: 17.5028\n",
      "Epoch 7/10\n",
      "1204/1204 [==============================] - 5s 4ms/step - loss: 14.0411\n",
      "Epoch 8/10\n",
      "1204/1204 [==============================] - 5s 4ms/step - loss: 11.3766\n",
      "Epoch 9/10\n",
      "1204/1204 [==============================] - 5s 4ms/step - loss: 9.2002\n",
      "Epoch 10/10\n",
      "1204/1204 [==============================] - 5s 4ms/step - loss: 7.5826\n"
     ]
    },
    {
     "name": "stderr",
     "output_type": "stream",
     "text": [
      "C:\\Users\\khsan\\anaconda3\\lib\\site-packages\\sklearn\\model_selection\\_validation.py:778: UserWarning: Scoring failed. The score on this train-test partition for these parameters will be set to nan. Details: \n",
      "Traceback (most recent call last):\n",
      "  File \"C:\\Users\\khsan\\anaconda3\\lib\\site-packages\\sklearn\\model_selection\\_validation.py\", line 767, in _score\n",
      "    scores = scorer(estimator, X_test, y_test)\n",
      "  File \"C:\\Users\\khsan\\anaconda3\\lib\\site-packages\\sklearn\\metrics\\_scorer.py\", line 234, in __call__\n",
      "    return self._score(\n",
      "  File \"C:\\Users\\khsan\\anaconda3\\lib\\site-packages\\sklearn\\metrics\\_scorer.py\", line 282, in _score\n",
      "    return self._sign * self._score_func(y_true, y_pred, **self._kwargs)\n",
      "  File \"C:\\Users\\khsan\\AppData\\Local\\Temp\\ipykernel_21092\\344946441.py\", line 31, in Accuracy_Score\n",
      "    MAPE = np.mean(100 * (np.abs(orig-pred)/orig))\n",
      "NameError: name 'np' is not defined\n",
      "\n",
      "  warnings.warn(\n"
     ]
    },
    {
     "name": "stdout",
     "output_type": "stream",
     "text": [
      "Epoch 1/20\n",
      "1204/1204 [==============================] - 7s 4ms/step - loss: 17960.3086\n",
      "Epoch 2/20\n",
      "1204/1204 [==============================] - 5s 4ms/step - loss: 17642.3457\n",
      "Epoch 3/20\n",
      "1204/1204 [==============================] - 5s 4ms/step - loss: 17328.0332\n",
      "Epoch 4/20\n",
      "1204/1204 [==============================] - 5s 4ms/step - loss: 17016.9453\n",
      "Epoch 5/20\n",
      "1204/1204 [==============================] - 5s 4ms/step - loss: 16708.8945\n",
      "Epoch 6/20\n",
      "1204/1204 [==============================] - 5s 4ms/step - loss: 16403.6816\n",
      "Epoch 7/20\n",
      "1204/1204 [==============================] - 5s 4ms/step - loss: 16101.3799\n",
      "Epoch 8/20\n",
      "1204/1204 [==============================] - 5s 4ms/step - loss: 15801.9463\n",
      "Epoch 9/20\n",
      "1204/1204 [==============================] - 5s 4ms/step - loss: 15505.5068\n",
      "Epoch 10/20\n",
      "1204/1204 [==============================] - 5s 4ms/step - loss: 15211.9102\n",
      "Epoch 11/20\n",
      "1204/1204 [==============================] - 5s 4ms/step - loss: 14921.1494\n",
      "Epoch 12/20\n",
      "1204/1204 [==============================] - 5s 4ms/step - loss: 14633.2324\n",
      "Epoch 13/20\n",
      "1204/1204 [==============================] - 5s 4ms/step - loss: 14348.2793\n",
      "Epoch 14/20\n",
      "1204/1204 [==============================] - 5s 4ms/step - loss: 14066.2354\n",
      "Epoch 15/20\n",
      "1204/1204 [==============================] - 5s 4ms/step - loss: 13787.0117\n",
      "Epoch 16/20\n",
      "1204/1204 [==============================] - 5s 4ms/step - loss: 13510.6240\n",
      "Epoch 17/20\n",
      "1204/1204 [==============================] - 5s 4ms/step - loss: 13237.1416\n",
      "Epoch 18/20\n",
      "1204/1204 [==============================] - 5s 4ms/step - loss: 12966.5283\n",
      "Epoch 19/20\n",
      "1204/1204 [==============================] - 5s 4ms/step - loss: 12698.8037\n",
      "Epoch 20/20\n",
      "1204/1204 [==============================] - 5s 4ms/step - loss: 12433.9014\n"
     ]
    },
    {
     "name": "stderr",
     "output_type": "stream",
     "text": [
      "C:\\Users\\khsan\\anaconda3\\lib\\site-packages\\sklearn\\model_selection\\_validation.py:778: UserWarning: Scoring failed. The score on this train-test partition for these parameters will be set to nan. Details: \n",
      "Traceback (most recent call last):\n",
      "  File \"C:\\Users\\khsan\\anaconda3\\lib\\site-packages\\sklearn\\model_selection\\_validation.py\", line 767, in _score\n",
      "    scores = scorer(estimator, X_test, y_test)\n",
      "  File \"C:\\Users\\khsan\\anaconda3\\lib\\site-packages\\sklearn\\metrics\\_scorer.py\", line 234, in __call__\n",
      "    return self._score(\n",
      "  File \"C:\\Users\\khsan\\anaconda3\\lib\\site-packages\\sklearn\\metrics\\_scorer.py\", line 282, in _score\n",
      "    return self._sign * self._score_func(y_true, y_pred, **self._kwargs)\n",
      "  File \"C:\\Users\\khsan\\AppData\\Local\\Temp\\ipykernel_21092\\344946441.py\", line 31, in Accuracy_Score\n",
      "    MAPE = np.mean(100 * (np.abs(orig-pred)/orig))\n",
      "NameError: name 'np' is not defined\n",
      "\n",
      "  warnings.warn(\n"
     ]
    },
    {
     "name": "stdout",
     "output_type": "stream",
     "text": [
      "Epoch 1/20\n",
      "1204/1204 [==============================] - 7s 4ms/step - loss: 1269.8154\n",
      "Epoch 2/20\n",
      "1204/1204 [==============================] - 5s 4ms/step - loss: 221.2151\n",
      "Epoch 3/20\n",
      "1204/1204 [==============================] - 5s 4ms/step - loss: 174.7569\n",
      "Epoch 4/20\n",
      "1204/1204 [==============================] - 5s 4ms/step - loss: 96.7350\n",
      "Epoch 5/20\n",
      "1204/1204 [==============================] - 5s 4ms/step - loss: 29.0627\n",
      "Epoch 6/20\n",
      "1204/1204 [==============================] - 4s 3ms/step - loss: 17.1581\n",
      "Epoch 7/20\n",
      "1204/1204 [==============================] - 4s 3ms/step - loss: 13.3744\n",
      "Epoch 8/20\n",
      "1204/1204 [==============================] - 5s 4ms/step - loss: 10.7475\n",
      "Epoch 9/20\n",
      "1204/1204 [==============================] - 5s 4ms/step - loss: 8.7450\n",
      "Epoch 10/20\n",
      "1204/1204 [==============================] - 5s 4ms/step - loss: 6.9338\n",
      "Epoch 11/20\n",
      "1204/1204 [==============================] - 5s 4ms/step - loss: 5.7681\n",
      "Epoch 12/20\n",
      "1204/1204 [==============================] - 5s 4ms/step - loss: 4.8080\n",
      "Epoch 13/20\n",
      "1204/1204 [==============================] - 5s 4ms/step - loss: 4.1779\n",
      "Epoch 14/20\n",
      "1204/1204 [==============================] - 5s 4ms/step - loss: 3.6080\n",
      "Epoch 15/20\n",
      "1204/1204 [==============================] - 5s 4ms/step - loss: 3.4082\n",
      "Epoch 16/20\n",
      "1204/1204 [==============================] - 5s 4ms/step - loss: 3.0566\n",
      "Epoch 17/20\n",
      "1204/1204 [==============================] - 4s 3ms/step - loss: 2.7380\n",
      "Epoch 18/20\n",
      "1204/1204 [==============================] - 5s 4ms/step - loss: 2.6408\n",
      "Epoch 19/20\n",
      "1204/1204 [==============================] - 5s 4ms/step - loss: 2.5609\n",
      "Epoch 20/20\n",
      "1204/1204 [==============================] - 5s 4ms/step - loss: 2.4665\n"
     ]
    },
    {
     "name": "stderr",
     "output_type": "stream",
     "text": [
      "C:\\Users\\khsan\\anaconda3\\lib\\site-packages\\sklearn\\model_selection\\_validation.py:778: UserWarning: Scoring failed. The score on this train-test partition for these parameters will be set to nan. Details: \n",
      "Traceback (most recent call last):\n",
      "  File \"C:\\Users\\khsan\\anaconda3\\lib\\site-packages\\sklearn\\model_selection\\_validation.py\", line 767, in _score\n",
      "    scores = scorer(estimator, X_test, y_test)\n",
      "  File \"C:\\Users\\khsan\\anaconda3\\lib\\site-packages\\sklearn\\metrics\\_scorer.py\", line 234, in __call__\n",
      "    return self._score(\n",
      "  File \"C:\\Users\\khsan\\anaconda3\\lib\\site-packages\\sklearn\\metrics\\_scorer.py\", line 282, in _score\n",
      "    return self._sign * self._score_func(y_true, y_pred, **self._kwargs)\n",
      "  File \"C:\\Users\\khsan\\AppData\\Local\\Temp\\ipykernel_21092\\344946441.py\", line 31, in Accuracy_Score\n",
      "    MAPE = np.mean(100 * (np.abs(orig-pred)/orig))\n",
      "NameError: name 'np' is not defined\n",
      "\n",
      "  warnings.warn(\n"
     ]
    },
    {
     "name": "stdout",
     "output_type": "stream",
     "text": [
      "Epoch 1/20\n",
      "1204/1204 [==============================] - 7s 4ms/step - loss: 1870.4204\n",
      "Epoch 2/20\n",
      "1204/1204 [==============================] - 5s 4ms/step - loss: 194.0976\n",
      "Epoch 3/20\n",
      "1204/1204 [==============================] - 5s 4ms/step - loss: 173.1192\n",
      "Epoch 4/20\n",
      "1204/1204 [==============================] - 4s 4ms/step - loss: 143.0366\n",
      "Epoch 5/20\n",
      "1204/1204 [==============================] - 4s 3ms/step - loss: 100.0089\n",
      "Epoch 6/20\n",
      "1204/1204 [==============================] - 4s 3ms/step - loss: 50.3540\n",
      "Epoch 7/20\n",
      "1204/1204 [==============================] - 5s 4ms/step - loss: 22.0565\n",
      "Epoch 8/20\n",
      "1204/1204 [==============================] - 5s 4ms/step - loss: 16.1612\n",
      "Epoch 9/20\n",
      "1204/1204 [==============================] - 5s 4ms/step - loss: 13.3836\n",
      "Epoch 10/20\n",
      "1204/1204 [==============================] - 5s 4ms/step - loss: 11.3317\n",
      "Epoch 11/20\n",
      "1204/1204 [==============================] - 5s 4ms/step - loss: 9.6377\n",
      "Epoch 12/20\n",
      "1204/1204 [==============================] - 5s 4ms/step - loss: 8.4612\n",
      "Epoch 13/20\n",
      "1204/1204 [==============================] - 5s 4ms/step - loss: 7.2344\n",
      "Epoch 14/20\n",
      "1204/1204 [==============================] - 5s 4ms/step - loss: 6.2937\n",
      "Epoch 15/20\n",
      "1204/1204 [==============================] - 5s 4ms/step - loss: 5.4960\n",
      "Epoch 16/20\n",
      "1204/1204 [==============================] - 5s 4ms/step - loss: 4.8007\n",
      "Epoch 17/20\n",
      "1204/1204 [==============================] - 5s 4ms/step - loss: 4.2677\n",
      "Epoch 18/20\n",
      "1204/1204 [==============================] - 5s 4ms/step - loss: 3.7902\n",
      "Epoch 19/20\n",
      "1204/1204 [==============================] - 5s 4ms/step - loss: 3.5634\n",
      "Epoch 20/20\n",
      "1204/1204 [==============================] - 5s 4ms/step - loss: 3.3109\n"
     ]
    },
    {
     "name": "stderr",
     "output_type": "stream",
     "text": [
      "C:\\Users\\khsan\\anaconda3\\lib\\site-packages\\sklearn\\model_selection\\_validation.py:778: UserWarning: Scoring failed. The score on this train-test partition for these parameters will be set to nan. Details: \n",
      "Traceback (most recent call last):\n",
      "  File \"C:\\Users\\khsan\\anaconda3\\lib\\site-packages\\sklearn\\model_selection\\_validation.py\", line 767, in _score\n",
      "    scores = scorer(estimator, X_test, y_test)\n",
      "  File \"C:\\Users\\khsan\\anaconda3\\lib\\site-packages\\sklearn\\metrics\\_scorer.py\", line 234, in __call__\n",
      "    return self._score(\n",
      "  File \"C:\\Users\\khsan\\anaconda3\\lib\\site-packages\\sklearn\\metrics\\_scorer.py\", line 282, in _score\n",
      "    return self._sign * self._score_func(y_true, y_pred, **self._kwargs)\n",
      "  File \"C:\\Users\\khsan\\AppData\\Local\\Temp\\ipykernel_21092\\344946441.py\", line 31, in Accuracy_Score\n",
      "    MAPE = np.mean(100 * (np.abs(orig-pred)/orig))\n",
      "NameError: name 'np' is not defined\n",
      "\n",
      "  warnings.warn(\n"
     ]
    },
    {
     "name": "stdout",
     "output_type": "stream",
     "text": [
      "Epoch 1/20\n",
      "1204/1204 [==============================] - 6s 4ms/step - loss: 1843.0466\n",
      "Epoch 2/20\n",
      "1204/1204 [==============================] - 5s 4ms/step - loss: 212.3879\n",
      "Epoch 3/20\n",
      "1204/1204 [==============================] - 5s 4ms/step - loss: 181.1165\n",
      "Epoch 4/20\n",
      "1204/1204 [==============================] - 5s 4ms/step - loss: 136.0163\n",
      "Epoch 5/20\n",
      "1204/1204 [==============================] - 5s 4ms/step - loss: 74.0506\n",
      "Epoch 6/20\n",
      "1204/1204 [==============================] - 5s 4ms/step - loss: 30.2474\n",
      "Epoch 7/20\n",
      "1204/1204 [==============================] - 5s 4ms/step - loss: 21.1816\n",
      "Epoch 8/20\n",
      "1204/1204 [==============================] - 5s 4ms/step - loss: 16.9762\n",
      "Epoch 9/20\n",
      "1204/1204 [==============================] - 5s 4ms/step - loss: 14.0731\n",
      "Epoch 10/20\n",
      "1204/1204 [==============================] - 5s 4ms/step - loss: 11.6971\n",
      "Epoch 11/20\n",
      "1204/1204 [==============================] - 5s 4ms/step - loss: 9.8741\n",
      "Epoch 12/20\n",
      "1204/1204 [==============================] - 5s 4ms/step - loss: 8.1794\n",
      "Epoch 13/20\n",
      "1204/1204 [==============================] - 5s 4ms/step - loss: 7.1147\n",
      "Epoch 14/20\n",
      "1204/1204 [==============================] - 5s 4ms/step - loss: 6.0735\n",
      "Epoch 15/20\n",
      "1204/1204 [==============================] - 5s 4ms/step - loss: 5.2773\n",
      "Epoch 16/20\n",
      "1204/1204 [==============================] - 5s 4ms/step - loss: 4.6240\n",
      "Epoch 17/20\n",
      "1204/1204 [==============================] - 5s 4ms/step - loss: 4.1798\n",
      "Epoch 18/20\n",
      "1204/1204 [==============================] - 5s 4ms/step - loss: 3.9205\n",
      "Epoch 19/20\n",
      "1204/1204 [==============================] - 5s 4ms/step - loss: 3.3793\n",
      "Epoch 20/20\n",
      "1204/1204 [==============================] - 5s 4ms/step - loss: 3.0986\n"
     ]
    },
    {
     "name": "stderr",
     "output_type": "stream",
     "text": [
      "C:\\Users\\khsan\\anaconda3\\lib\\site-packages\\sklearn\\model_selection\\_validation.py:778: UserWarning: Scoring failed. The score on this train-test partition for these parameters will be set to nan. Details: \n",
      "Traceback (most recent call last):\n",
      "  File \"C:\\Users\\khsan\\anaconda3\\lib\\site-packages\\sklearn\\model_selection\\_validation.py\", line 767, in _score\n",
      "    scores = scorer(estimator, X_test, y_test)\n",
      "  File \"C:\\Users\\khsan\\anaconda3\\lib\\site-packages\\sklearn\\metrics\\_scorer.py\", line 234, in __call__\n",
      "    return self._score(\n",
      "  File \"C:\\Users\\khsan\\anaconda3\\lib\\site-packages\\sklearn\\metrics\\_scorer.py\", line 282, in _score\n",
      "    return self._sign * self._score_func(y_true, y_pred, **self._kwargs)\n",
      "  File \"C:\\Users\\khsan\\AppData\\Local\\Temp\\ipykernel_21092\\344946441.py\", line 31, in Accuracy_Score\n",
      "    MAPE = np.mean(100 * (np.abs(orig-pred)/orig))\n",
      "NameError: name 'np' is not defined\n",
      "\n",
      "  warnings.warn(\n"
     ]
    },
    {
     "name": "stdout",
     "output_type": "stream",
     "text": [
      "Epoch 1/20\n",
      "1204/1204 [==============================] - 6s 4ms/step - loss: 1601.1488\n",
      "Epoch 2/20\n",
      "1204/1204 [==============================] - 5s 4ms/step - loss: 204.1033\n",
      "Epoch 3/20\n",
      "1204/1204 [==============================] - 5s 4ms/step - loss: 163.8573\n",
      "Epoch 4/20\n",
      "1204/1204 [==============================] - 5s 4ms/step - loss: 100.6647\n",
      "Epoch 5/20\n",
      "1204/1204 [==============================] - 5s 4ms/step - loss: 36.3731\n",
      "Epoch 6/20\n",
      "1204/1204 [==============================] - 5s 4ms/step - loss: 17.1644\n",
      "Epoch 7/20\n",
      "1204/1204 [==============================] - 5s 4ms/step - loss: 10.3646\n",
      "Epoch 8/20\n",
      "1204/1204 [==============================] - 5s 4ms/step - loss: 8.4855\n",
      "Epoch 9/20\n",
      "1204/1204 [==============================] - 5s 4ms/step - loss: 7.1432\n",
      "Epoch 10/20\n",
      "1204/1204 [==============================] - 5s 4ms/step - loss: 6.1656\n",
      "Epoch 11/20\n",
      "1204/1204 [==============================] - 5s 4ms/step - loss: 5.3540\n",
      "Epoch 12/20\n",
      "1204/1204 [==============================] - 5s 4ms/step - loss: 4.7105\n",
      "Epoch 13/20\n",
      "1204/1204 [==============================] - 5s 4ms/step - loss: 4.2965\n",
      "Epoch 14/20\n",
      "1204/1204 [==============================] - 5s 4ms/step - loss: 3.7955\n",
      "Epoch 15/20\n",
      "1204/1204 [==============================] - 5s 4ms/step - loss: 3.5449\n",
      "Epoch 16/20\n",
      "1204/1204 [==============================] - 5s 4ms/step - loss: 3.3474\n",
      "Epoch 17/20\n",
      "1204/1204 [==============================] - 5s 4ms/step - loss: 3.1919\n",
      "Epoch 18/20\n",
      "1204/1204 [==============================] - 5s 4ms/step - loss: 2.8733\n",
      "Epoch 19/20\n",
      "1204/1204 [==============================] - 5s 4ms/step - loss: 2.7536\n",
      "Epoch 20/20\n",
      "1204/1204 [==============================] - 5s 4ms/step - loss: 2.6115\n",
      "Epoch 1/10\n"
     ]
    },
    {
     "name": "stderr",
     "output_type": "stream",
     "text": [
      "C:\\Users\\khsan\\anaconda3\\lib\\site-packages\\sklearn\\model_selection\\_validation.py:778: UserWarning: Scoring failed. The score on this train-test partition for these parameters will be set to nan. Details: \n",
      "Traceback (most recent call last):\n",
      "  File \"C:\\Users\\khsan\\anaconda3\\lib\\site-packages\\sklearn\\model_selection\\_validation.py\", line 767, in _score\n",
      "    scores = scorer(estimator, X_test, y_test)\n",
      "  File \"C:\\Users\\khsan\\anaconda3\\lib\\site-packages\\sklearn\\metrics\\_scorer.py\", line 234, in __call__\n",
      "    return self._score(\n",
      "  File \"C:\\Users\\khsan\\anaconda3\\lib\\site-packages\\sklearn\\metrics\\_scorer.py\", line 282, in _score\n",
      "    return self._sign * self._score_func(y_true, y_pred, **self._kwargs)\n",
      "  File \"C:\\Users\\khsan\\AppData\\Local\\Temp\\ipykernel_21092\\344946441.py\", line 31, in Accuracy_Score\n",
      "    MAPE = np.mean(100 * (np.abs(orig-pred)/orig))\n",
      "NameError: name 'np' is not defined\n",
      "\n",
      "  warnings.warn(\n"
     ]
    },
    {
     "name": "stdout",
     "output_type": "stream",
     "text": [
      "602/602 [==============================] - 3s 4ms/step - loss: 2655.7332\n",
      "Epoch 2/10\n",
      "602/602 [==============================] - 2s 4ms/step - loss: 203.6243\n",
      "Epoch 3/10\n",
      "602/602 [==============================] - 2s 4ms/step - loss: 193.2149\n",
      "Epoch 4/10\n",
      "602/602 [==============================] - 2s 4ms/step - loss: 178.3642\n",
      "Epoch 5/10\n",
      "602/602 [==============================] - 2s 4ms/step - loss: 159.8023\n",
      "Epoch 6/10\n",
      "602/602 [==============================] - 2s 4ms/step - loss: 134.3957\n",
      "Epoch 7/10\n",
      "602/602 [==============================] - 2s 4ms/step - loss: 99.1987\n",
      "Epoch 8/10\n",
      "602/602 [==============================] - 2s 4ms/step - loss: 56.2405\n",
      "Epoch 9/10\n",
      "602/602 [==============================] - 2s 4ms/step - loss: 25.7384\n",
      "Epoch 10/10\n",
      "602/602 [==============================] - 2s 4ms/step - loss: 16.4635\n"
     ]
    },
    {
     "name": "stderr",
     "output_type": "stream",
     "text": [
      "C:\\Users\\khsan\\anaconda3\\lib\\site-packages\\sklearn\\model_selection\\_validation.py:778: UserWarning: Scoring failed. The score on this train-test partition for these parameters will be set to nan. Details: \n",
      "Traceback (most recent call last):\n",
      "  File \"C:\\Users\\khsan\\anaconda3\\lib\\site-packages\\sklearn\\model_selection\\_validation.py\", line 767, in _score\n",
      "    scores = scorer(estimator, X_test, y_test)\n",
      "  File \"C:\\Users\\khsan\\anaconda3\\lib\\site-packages\\sklearn\\metrics\\_scorer.py\", line 234, in __call__\n",
      "    return self._score(\n",
      "  File \"C:\\Users\\khsan\\anaconda3\\lib\\site-packages\\sklearn\\metrics\\_scorer.py\", line 282, in _score\n",
      "    return self._sign * self._score_func(y_true, y_pred, **self._kwargs)\n",
      "  File \"C:\\Users\\khsan\\AppData\\Local\\Temp\\ipykernel_21092\\344946441.py\", line 31, in Accuracy_Score\n",
      "    MAPE = np.mean(100 * (np.abs(orig-pred)/orig))\n",
      "NameError: name 'np' is not defined\n",
      "\n",
      "  warnings.warn(\n"
     ]
    },
    {
     "name": "stdout",
     "output_type": "stream",
     "text": [
      "Epoch 1/10\n",
      "602/602 [==============================] - 4s 4ms/step - loss: 18496.7383\n",
      "Epoch 2/10\n",
      "602/602 [==============================] - 2s 4ms/step - loss: 18334.9453\n",
      "Epoch 3/10\n",
      "602/602 [==============================] - 2s 4ms/step - loss: 18174.1289\n",
      "Epoch 4/10\n",
      "602/602 [==============================] - 2s 4ms/step - loss: 18014.2715\n",
      "Epoch 5/10\n",
      "602/602 [==============================] - 210s 350ms/step - loss: 17855.2793\n",
      "Epoch 6/10\n",
      "602/602 [==============================] - 1s 1ms/step - loss: 17697.1230\n",
      "Epoch 7/10\n",
      "602/602 [==============================] - 1s 2ms/step - loss: 17539.7168\n",
      "Epoch 8/10\n",
      "602/602 [==============================] - 1s 1ms/step - loss: 17383.0391\n",
      "Epoch 9/10\n",
      "602/602 [==============================] - 1s 1ms/step - loss: 17227.1152\n",
      "Epoch 10/10\n",
      "602/602 [==============================] - 2s 3ms/step - loss: 17071.9863\n"
     ]
    },
    {
     "name": "stderr",
     "output_type": "stream",
     "text": [
      "C:\\Users\\khsan\\anaconda3\\lib\\site-packages\\sklearn\\model_selection\\_validation.py:778: UserWarning: Scoring failed. The score on this train-test partition for these parameters will be set to nan. Details: \n",
      "Traceback (most recent call last):\n",
      "  File \"C:\\Users\\khsan\\anaconda3\\lib\\site-packages\\sklearn\\model_selection\\_validation.py\", line 767, in _score\n",
      "    scores = scorer(estimator, X_test, y_test)\n",
      "  File \"C:\\Users\\khsan\\anaconda3\\lib\\site-packages\\sklearn\\metrics\\_scorer.py\", line 234, in __call__\n",
      "    return self._score(\n",
      "  File \"C:\\Users\\khsan\\anaconda3\\lib\\site-packages\\sklearn\\metrics\\_scorer.py\", line 282, in _score\n",
      "    return self._sign * self._score_func(y_true, y_pred, **self._kwargs)\n",
      "  File \"C:\\Users\\khsan\\AppData\\Local\\Temp\\ipykernel_21092\\344946441.py\", line 31, in Accuracy_Score\n",
      "    MAPE = np.mean(100 * (np.abs(orig-pred)/orig))\n",
      "NameError: name 'np' is not defined\n",
      "\n",
      "  warnings.warn(\n"
     ]
    },
    {
     "name": "stdout",
     "output_type": "stream",
     "text": [
      "Epoch 1/10\n",
      "602/602 [==============================] - 4s 4ms/step - loss: 2342.6338\n",
      "Epoch 2/10\n",
      "602/602 [==============================] - 2s 4ms/step - loss: 207.0573\n",
      "Epoch 3/10\n",
      "602/602 [==============================] - 2s 4ms/step - loss: 192.8494\n",
      "Epoch 4/10\n",
      "602/602 [==============================] - 2s 4ms/step - loss: 173.5183\n",
      "Epoch 5/10\n",
      "602/602 [==============================] - 2s 4ms/step - loss: 146.3870\n",
      "Epoch 6/10\n",
      "602/602 [==============================] - 2s 4ms/step - loss: 108.2597\n",
      "Epoch 7/10\n",
      "602/602 [==============================] - 2s 4ms/step - loss: 60.7465\n",
      "Epoch 8/10\n",
      "602/602 [==============================] - 2s 4ms/step - loss: 28.0858\n",
      "Epoch 9/10\n",
      "602/602 [==============================] - 2s 4ms/step - loss: 18.1334\n",
      "Epoch 10/10\n",
      "602/602 [==============================] - 2s 4ms/step - loss: 13.7496\n"
     ]
    },
    {
     "name": "stderr",
     "output_type": "stream",
     "text": [
      "C:\\Users\\khsan\\anaconda3\\lib\\site-packages\\sklearn\\model_selection\\_validation.py:778: UserWarning: Scoring failed. The score on this train-test partition for these parameters will be set to nan. Details: \n",
      "Traceback (most recent call last):\n",
      "  File \"C:\\Users\\khsan\\anaconda3\\lib\\site-packages\\sklearn\\model_selection\\_validation.py\", line 767, in _score\n",
      "    scores = scorer(estimator, X_test, y_test)\n",
      "  File \"C:\\Users\\khsan\\anaconda3\\lib\\site-packages\\sklearn\\metrics\\_scorer.py\", line 234, in __call__\n",
      "    return self._score(\n",
      "  File \"C:\\Users\\khsan\\anaconda3\\lib\\site-packages\\sklearn\\metrics\\_scorer.py\", line 282, in _score\n",
      "    return self._sign * self._score_func(y_true, y_pred, **self._kwargs)\n",
      "  File \"C:\\Users\\khsan\\AppData\\Local\\Temp\\ipykernel_21092\\344946441.py\", line 31, in Accuracy_Score\n",
      "    MAPE = np.mean(100 * (np.abs(orig-pred)/orig))\n",
      "NameError: name 'np' is not defined\n",
      "\n",
      "  warnings.warn(\n"
     ]
    },
    {
     "name": "stdout",
     "output_type": "stream",
     "text": [
      "Epoch 1/10\n",
      "602/602 [==============================] - 4s 4ms/step - loss: 2357.8484\n",
      "Epoch 2/10\n",
      "602/602 [==============================] - 2s 4ms/step - loss: 221.5566\n",
      "Epoch 3/10\n",
      "602/602 [==============================] - 2s 4ms/step - loss: 204.2030\n",
      "Epoch 4/10\n",
      "602/602 [==============================] - 2s 4ms/step - loss: 180.9930\n",
      "Epoch 5/10\n",
      "602/602 [==============================] - 2s 4ms/step - loss: 148.0569\n",
      "Epoch 6/10\n",
      "602/602 [==============================] - 2s 4ms/step - loss: 100.7095\n",
      "Epoch 7/10\n",
      "602/602 [==============================] - 2s 4ms/step - loss: 49.2261\n",
      "Epoch 8/10\n",
      "602/602 [==============================] - 2s 4ms/step - loss: 25.1806\n",
      "Epoch 9/10\n",
      "602/602 [==============================] - 2s 4ms/step - loss: 18.8999\n",
      "Epoch 10/10\n",
      "602/602 [==============================] - 2s 4ms/step - loss: 15.8730\n"
     ]
    },
    {
     "name": "stderr",
     "output_type": "stream",
     "text": [
      "C:\\Users\\khsan\\anaconda3\\lib\\site-packages\\sklearn\\model_selection\\_validation.py:778: UserWarning: Scoring failed. The score on this train-test partition for these parameters will be set to nan. Details: \n",
      "Traceback (most recent call last):\n",
      "  File \"C:\\Users\\khsan\\anaconda3\\lib\\site-packages\\sklearn\\model_selection\\_validation.py\", line 767, in _score\n",
      "    scores = scorer(estimator, X_test, y_test)\n",
      "  File \"C:\\Users\\khsan\\anaconda3\\lib\\site-packages\\sklearn\\metrics\\_scorer.py\", line 234, in __call__\n",
      "    return self._score(\n",
      "  File \"C:\\Users\\khsan\\anaconda3\\lib\\site-packages\\sklearn\\metrics\\_scorer.py\", line 282, in _score\n",
      "    return self._sign * self._score_func(y_true, y_pred, **self._kwargs)\n",
      "  File \"C:\\Users\\khsan\\AppData\\Local\\Temp\\ipykernel_21092\\344946441.py\", line 31, in Accuracy_Score\n",
      "    MAPE = np.mean(100 * (np.abs(orig-pred)/orig))\n",
      "NameError: name 'np' is not defined\n",
      "\n",
      "  warnings.warn(\n"
     ]
    },
    {
     "name": "stdout",
     "output_type": "stream",
     "text": [
      "Epoch 1/10\n",
      "602/602 [==============================] - 4s 4ms/step - loss: 2836.2334\n",
      "Epoch 2/10\n",
      "602/602 [==============================] - 2s 4ms/step - loss: 220.7718\n",
      "Epoch 3/10\n",
      "602/602 [==============================] - 2s 4ms/step - loss: 206.6650\n",
      "Epoch 4/10\n",
      "602/602 [==============================] - 2s 4ms/step - loss: 187.0094\n",
      "Epoch 5/10\n",
      "602/602 [==============================] - 2s 4ms/step - loss: 160.5874\n",
      "Epoch 6/10\n",
      "602/602 [==============================] - 2s 4ms/step - loss: 123.5239\n",
      "Epoch 7/10\n",
      "602/602 [==============================] - 2s 4ms/step - loss: 74.7690\n",
      "Epoch 8/10\n",
      "602/602 [==============================] - 2s 4ms/step - loss: 34.1365\n",
      "Epoch 9/10\n",
      "602/602 [==============================] - 2s 4ms/step - loss: 19.4408\n",
      "Epoch 10/10\n",
      "602/602 [==============================] - 2s 4ms/step - loss: 14.9879\n"
     ]
    },
    {
     "name": "stderr",
     "output_type": "stream",
     "text": [
      "C:\\Users\\khsan\\anaconda3\\lib\\site-packages\\sklearn\\model_selection\\_validation.py:778: UserWarning: Scoring failed. The score on this train-test partition for these parameters will be set to nan. Details: \n",
      "Traceback (most recent call last):\n",
      "  File \"C:\\Users\\khsan\\anaconda3\\lib\\site-packages\\sklearn\\model_selection\\_validation.py\", line 767, in _score\n",
      "    scores = scorer(estimator, X_test, y_test)\n",
      "  File \"C:\\Users\\khsan\\anaconda3\\lib\\site-packages\\sklearn\\metrics\\_scorer.py\", line 234, in __call__\n",
      "    return self._score(\n",
      "  File \"C:\\Users\\khsan\\anaconda3\\lib\\site-packages\\sklearn\\metrics\\_scorer.py\", line 282, in _score\n",
      "    return self._sign * self._score_func(y_true, y_pred, **self._kwargs)\n",
      "  File \"C:\\Users\\khsan\\AppData\\Local\\Temp\\ipykernel_21092\\344946441.py\", line 31, in Accuracy_Score\n",
      "    MAPE = np.mean(100 * (np.abs(orig-pred)/orig))\n",
      "NameError: name 'np' is not defined\n",
      "\n",
      "  warnings.warn(\n"
     ]
    },
    {
     "name": "stdout",
     "output_type": "stream",
     "text": [
      "Epoch 1/20\n",
      "602/602 [==============================] - 4s 4ms/step - loss: 2839.5369\n",
      "Epoch 2/20\n",
      "602/602 [==============================] - 2s 4ms/step - loss: 204.8502\n",
      "Epoch 3/20\n",
      "602/602 [==============================] - 2s 4ms/step - loss: 195.5164\n",
      "Epoch 4/20\n",
      "602/602 [==============================] - 2s 4ms/step - loss: 183.8932\n",
      "Epoch 5/20\n",
      "602/602 [==============================] - 2s 4ms/step - loss: 167.2073\n",
      "Epoch 6/20\n",
      "602/602 [==============================] - 2s 4ms/step - loss: 146.9820\n",
      "Epoch 7/20\n",
      "602/602 [==============================] - 2s 4ms/step - loss: 118.4812\n",
      "Epoch 8/20\n",
      "602/602 [==============================] - 2s 4ms/step - loss: 80.7264\n",
      "Epoch 9/20\n",
      "602/602 [==============================] - 2s 4ms/step - loss: 41.7704\n",
      "Epoch 10/20\n",
      "602/602 [==============================] - 2s 4ms/step - loss: 20.5169\n",
      "Epoch 11/20\n",
      "602/602 [==============================] - 2s 4ms/step - loss: 14.5007\n",
      "Epoch 12/20\n",
      "602/602 [==============================] - 2s 4ms/step - loss: 11.9995\n",
      "Epoch 13/20\n",
      "602/602 [==============================] - 2s 4ms/step - loss: 9.6214\n",
      "Epoch 14/20\n",
      "602/602 [==============================] - 2s 4ms/step - loss: 6.1729\n",
      "Epoch 15/20\n",
      "602/602 [==============================] - 2s 4ms/step - loss: 5.0086\n",
      "Epoch 16/20\n",
      "602/602 [==============================] - 3s 4ms/step - loss: 4.5120\n",
      "Epoch 17/20\n",
      "602/602 [==============================] - 2s 4ms/step - loss: 4.1999\n",
      "Epoch 18/20\n",
      "602/602 [==============================] - 2s 4ms/step - loss: 3.8278\n",
      "Epoch 19/20\n",
      "602/602 [==============================] - 2s 4ms/step - loss: 3.5064\n",
      "Epoch 20/20\n",
      "602/602 [==============================] - 2s 4ms/step - loss: 3.2072\n"
     ]
    },
    {
     "name": "stderr",
     "output_type": "stream",
     "text": [
      "C:\\Users\\khsan\\anaconda3\\lib\\site-packages\\sklearn\\model_selection\\_validation.py:778: UserWarning: Scoring failed. The score on this train-test partition for these parameters will be set to nan. Details: \n",
      "Traceback (most recent call last):\n",
      "  File \"C:\\Users\\khsan\\anaconda3\\lib\\site-packages\\sklearn\\model_selection\\_validation.py\", line 767, in _score\n",
      "    scores = scorer(estimator, X_test, y_test)\n",
      "  File \"C:\\Users\\khsan\\anaconda3\\lib\\site-packages\\sklearn\\metrics\\_scorer.py\", line 234, in __call__\n",
      "    return self._score(\n",
      "  File \"C:\\Users\\khsan\\anaconda3\\lib\\site-packages\\sklearn\\metrics\\_scorer.py\", line 282, in _score\n",
      "    return self._sign * self._score_func(y_true, y_pred, **self._kwargs)\n",
      "  File \"C:\\Users\\khsan\\AppData\\Local\\Temp\\ipykernel_21092\\344946441.py\", line 31, in Accuracy_Score\n",
      "    MAPE = np.mean(100 * (np.abs(orig-pred)/orig))\n",
      "NameError: name 'np' is not defined\n",
      "\n",
      "  warnings.warn(\n"
     ]
    },
    {
     "name": "stdout",
     "output_type": "stream",
     "text": [
      "Epoch 1/20\n",
      "602/602 [==============================] - 4s 4ms/step - loss: 2700.9094\n",
      "Epoch 2/20\n",
      "602/602 [==============================] - 2s 4ms/step - loss: 251.0704\n",
      "Epoch 3/20\n",
      "602/602 [==============================] - 2s 4ms/step - loss: 233.9213\n",
      "Epoch 4/20\n",
      "602/602 [==============================] - 2s 4ms/step - loss: 212.1282\n",
      "Epoch 5/20\n",
      "602/602 [==============================] - 2s 4ms/step - loss: 181.5207\n",
      "Epoch 6/20\n",
      "602/602 [==============================] - 2s 4ms/step - loss: 137.9138\n",
      "Epoch 7/20\n",
      "602/602 [==============================] - 2s 4ms/step - loss: 80.2913\n",
      "Epoch 8/20\n",
      "602/602 [==============================] - 2s 4ms/step - loss: 34.9344\n",
      "Epoch 9/20\n",
      "602/602 [==============================] - 2s 4ms/step - loss: 20.1052\n",
      "Epoch 10/20\n",
      "602/602 [==============================] - 2s 4ms/step - loss: 16.5075\n",
      "Epoch 11/20\n",
      "602/602 [==============================] - 2s 4ms/step - loss: 14.0786\n",
      "Epoch 12/20\n",
      "602/602 [==============================] - 2s 4ms/step - loss: 12.1137\n",
      "Epoch 13/20\n",
      "602/602 [==============================] - 2s 4ms/step - loss: 10.4067\n",
      "Epoch 14/20\n",
      "602/602 [==============================] - 2s 4ms/step - loss: 8.8659\n",
      "Epoch 15/20\n",
      "602/602 [==============================] - 2s 4ms/step - loss: 7.8128\n",
      "Epoch 16/20\n",
      "602/602 [==============================] - 2s 4ms/step - loss: 6.8188\n",
      "Epoch 17/20\n",
      "602/602 [==============================] - 2s 4ms/step - loss: 5.9361\n",
      "Epoch 18/20\n",
      "602/602 [==============================] - 2s 4ms/step - loss: 5.1959\n",
      "Epoch 19/20\n",
      "602/602 [==============================] - 2s 4ms/step - loss: 4.7226\n",
      "Epoch 20/20\n",
      "602/602 [==============================] - 2s 4ms/step - loss: 4.3916\n"
     ]
    },
    {
     "name": "stderr",
     "output_type": "stream",
     "text": [
      "C:\\Users\\khsan\\anaconda3\\lib\\site-packages\\sklearn\\model_selection\\_validation.py:778: UserWarning: Scoring failed. The score on this train-test partition for these parameters will be set to nan. Details: \n",
      "Traceback (most recent call last):\n",
      "  File \"C:\\Users\\khsan\\anaconda3\\lib\\site-packages\\sklearn\\model_selection\\_validation.py\", line 767, in _score\n",
      "    scores = scorer(estimator, X_test, y_test)\n",
      "  File \"C:\\Users\\khsan\\anaconda3\\lib\\site-packages\\sklearn\\metrics\\_scorer.py\", line 234, in __call__\n",
      "    return self._score(\n",
      "  File \"C:\\Users\\khsan\\anaconda3\\lib\\site-packages\\sklearn\\metrics\\_scorer.py\", line 282, in _score\n",
      "    return self._sign * self._score_func(y_true, y_pred, **self._kwargs)\n",
      "  File \"C:\\Users\\khsan\\AppData\\Local\\Temp\\ipykernel_21092\\344946441.py\", line 31, in Accuracy_Score\n",
      "    MAPE = np.mean(100 * (np.abs(orig-pred)/orig))\n",
      "NameError: name 'np' is not defined\n",
      "\n",
      "  warnings.warn(\n"
     ]
    },
    {
     "name": "stdout",
     "output_type": "stream",
     "text": [
      "Epoch 1/20\n",
      "602/602 [==============================] - 4s 4ms/step - loss: 2711.5291\n",
      "Epoch 2/20\n",
      "602/602 [==============================] - 2s 4ms/step - loss: 213.6838\n",
      "Epoch 3/20\n",
      "602/602 [==============================] - 2s 4ms/step - loss: 202.5698\n",
      "Epoch 4/20\n",
      "602/602 [==============================] - 2s 4ms/step - loss: 187.9529\n",
      "Epoch 5/20\n",
      "602/602 [==============================] - 2s 4ms/step - loss: 168.5192\n",
      "Epoch 6/20\n",
      "602/602 [==============================] - 2s 4ms/step - loss: 143.9585\n",
      "Epoch 7/20\n",
      "602/602 [==============================] - 2s 4ms/step - loss: 109.2221\n",
      "Epoch 8/20\n",
      "602/602 [==============================] - 2s 4ms/step - loss: 65.9986\n",
      "Epoch 9/20\n",
      "602/602 [==============================] - 2s 4ms/step - loss: 32.8604\n",
      "Epoch 10/20\n",
      "602/602 [==============================] - 2s 4ms/step - loss: 20.6313\n",
      "Epoch 11/20\n",
      "602/602 [==============================] - 2s 4ms/step - loss: 16.9658\n",
      "Epoch 12/20\n",
      "602/602 [==============================] - 2s 4ms/step - loss: 14.6829\n",
      "Epoch 13/20\n",
      "602/602 [==============================] - 2s 4ms/step - loss: 12.6633\n",
      "Epoch 14/20\n",
      "602/602 [==============================] - 2s 4ms/step - loss: 10.9195\n",
      "Epoch 15/20\n",
      "602/602 [==============================] - 2s 4ms/step - loss: 9.8104\n",
      "Epoch 16/20\n",
      "602/602 [==============================] - 2s 4ms/step - loss: 8.5267\n",
      "Epoch 17/20\n",
      "602/602 [==============================] - 2s 4ms/step - loss: 7.6160\n",
      "Epoch 18/20\n",
      "602/602 [==============================] - 2s 4ms/step - loss: 6.7917\n",
      "Epoch 19/20\n",
      "602/602 [==============================] - 2s 4ms/step - loss: 6.0856\n",
      "Epoch 20/20\n",
      "602/602 [==============================] - 2s 4ms/step - loss: 5.6600\n"
     ]
    },
    {
     "name": "stderr",
     "output_type": "stream",
     "text": [
      "C:\\Users\\khsan\\anaconda3\\lib\\site-packages\\sklearn\\model_selection\\_validation.py:778: UserWarning: Scoring failed. The score on this train-test partition for these parameters will be set to nan. Details: \n",
      "Traceback (most recent call last):\n",
      "  File \"C:\\Users\\khsan\\anaconda3\\lib\\site-packages\\sklearn\\model_selection\\_validation.py\", line 767, in _score\n",
      "    scores = scorer(estimator, X_test, y_test)\n",
      "  File \"C:\\Users\\khsan\\anaconda3\\lib\\site-packages\\sklearn\\metrics\\_scorer.py\", line 234, in __call__\n",
      "    return self._score(\n",
      "  File \"C:\\Users\\khsan\\anaconda3\\lib\\site-packages\\sklearn\\metrics\\_scorer.py\", line 282, in _score\n",
      "    return self._sign * self._score_func(y_true, y_pred, **self._kwargs)\n",
      "  File \"C:\\Users\\khsan\\AppData\\Local\\Temp\\ipykernel_21092\\344946441.py\", line 31, in Accuracy_Score\n",
      "    MAPE = np.mean(100 * (np.abs(orig-pred)/orig))\n",
      "NameError: name 'np' is not defined\n",
      "\n",
      "  warnings.warn(\n"
     ]
    },
    {
     "name": "stdout",
     "output_type": "stream",
     "text": [
      "Epoch 1/20\n",
      "602/602 [==============================] - 4s 4ms/step - loss: 3416.7085\n",
      "Epoch 2/20\n",
      "602/602 [==============================] - 2s 4ms/step - loss: 228.7510\n",
      "Epoch 3/20\n",
      "602/602 [==============================] - 2s 4ms/step - loss: 219.8581\n",
      "Epoch 4/20\n",
      "602/602 [==============================] - 2s 4ms/step - loss: 207.6092\n",
      "Epoch 5/20\n",
      "602/602 [==============================] - 2s 4ms/step - loss: 192.7584\n",
      "Epoch 6/20\n",
      "602/602 [==============================] - 2s 4ms/step - loss: 174.4423\n",
      "Epoch 7/20\n",
      "602/602 [==============================] - 2s 4ms/step - loss: 148.9523\n",
      "Epoch 8/20\n",
      "602/602 [==============================] - 3s 4ms/step - loss: 117.8287\n",
      "Epoch 9/20\n",
      "602/602 [==============================] - 2s 4ms/step - loss: 78.5653\n",
      "Epoch 10/20\n",
      "602/602 [==============================] - 2s 4ms/step - loss: 42.7493\n",
      "Epoch 11/20\n",
      "602/602 [==============================] - 2s 4ms/step - loss: 24.3284\n",
      "Epoch 12/20\n",
      "602/602 [==============================] - 2s 4ms/step - loss: 18.6472\n",
      "Epoch 13/20\n",
      "602/602 [==============================] - 2s 4ms/step - loss: 16.1412\n",
      "Epoch 14/20\n",
      "602/602 [==============================] - 2s 4ms/step - loss: 14.2255\n",
      "Epoch 15/20\n",
      "602/602 [==============================] - 2s 4ms/step - loss: 12.5981\n",
      "Epoch 16/20\n",
      "602/602 [==============================] - 2s 4ms/step - loss: 11.2261\n",
      "Epoch 17/20\n",
      "602/602 [==============================] - 2s 4ms/step - loss: 9.9511\n",
      "Epoch 18/20\n",
      "602/602 [==============================] - 2s 4ms/step - loss: 8.9097\n",
      "Epoch 19/20\n",
      "602/602 [==============================] - 2s 4ms/step - loss: 8.0615\n",
      "Epoch 20/20\n",
      "602/602 [==============================] - 2s 4ms/step - loss: 7.0288\n"
     ]
    },
    {
     "name": "stderr",
     "output_type": "stream",
     "text": [
      "C:\\Users\\khsan\\anaconda3\\lib\\site-packages\\sklearn\\model_selection\\_validation.py:778: UserWarning: Scoring failed. The score on this train-test partition for these parameters will be set to nan. Details: \n",
      "Traceback (most recent call last):\n",
      "  File \"C:\\Users\\khsan\\anaconda3\\lib\\site-packages\\sklearn\\model_selection\\_validation.py\", line 767, in _score\n",
      "    scores = scorer(estimator, X_test, y_test)\n",
      "  File \"C:\\Users\\khsan\\anaconda3\\lib\\site-packages\\sklearn\\metrics\\_scorer.py\", line 234, in __call__\n",
      "    return self._score(\n",
      "  File \"C:\\Users\\khsan\\anaconda3\\lib\\site-packages\\sklearn\\metrics\\_scorer.py\", line 282, in _score\n",
      "    return self._sign * self._score_func(y_true, y_pred, **self._kwargs)\n",
      "  File \"C:\\Users\\khsan\\AppData\\Local\\Temp\\ipykernel_21092\\344946441.py\", line 31, in Accuracy_Score\n",
      "    MAPE = np.mean(100 * (np.abs(orig-pred)/orig))\n",
      "NameError: name 'np' is not defined\n",
      "\n",
      "  warnings.warn(\n"
     ]
    },
    {
     "name": "stdout",
     "output_type": "stream",
     "text": [
      "Epoch 1/20\n",
      "602/602 [==============================] - 4s 4ms/step - loss: 1970.7192\n",
      "Epoch 2/20\n",
      "602/602 [==============================] - 2s 4ms/step - loss: 218.0104\n",
      "Epoch 3/20\n",
      "602/602 [==============================] - 2s 4ms/step - loss: 198.0978\n",
      "Epoch 4/20\n",
      "602/602 [==============================] - 2s 4ms/step - loss: 169.6624\n",
      "Epoch 5/20\n",
      "602/602 [==============================] - 2s 4ms/step - loss: 127.9377\n",
      "Epoch 6/20\n",
      "602/602 [==============================] - 2s 4ms/step - loss: 71.0413\n",
      "Epoch 7/20\n",
      "602/602 [==============================] - 2s 4ms/step - loss: 28.3374\n",
      "Epoch 8/20\n",
      "602/602 [==============================] - 2s 4ms/step - loss: 15.4940\n",
      "Epoch 9/20\n",
      "602/602 [==============================] - 2s 4ms/step - loss: 11.4991\n",
      "Epoch 10/20\n",
      "602/602 [==============================] - 2s 4ms/step - loss: 9.1904\n",
      "Epoch 11/20\n",
      "602/602 [==============================] - 2s 4ms/step - loss: 7.3947\n",
      "Epoch 12/20\n",
      "602/602 [==============================] - 2s 4ms/step - loss: 6.4620\n",
      "Epoch 13/20\n",
      "602/602 [==============================] - 2s 4ms/step - loss: 5.5314\n",
      "Epoch 14/20\n",
      "602/602 [==============================] - 2s 4ms/step - loss: 4.7165\n",
      "Epoch 15/20\n",
      "602/602 [==============================] - 2s 4ms/step - loss: 4.1880\n",
      "Epoch 16/20\n",
      "602/602 [==============================] - 2s 4ms/step - loss: 3.7774\n",
      "Epoch 17/20\n",
      "602/602 [==============================] - 2s 4ms/step - loss: 3.2951\n",
      "Epoch 18/20\n",
      "602/602 [==============================] - 2s 4ms/step - loss: 3.0319\n",
      "Epoch 19/20\n",
      "602/602 [==============================] - 2s 4ms/step - loss: 2.6327\n",
      "Epoch 20/20\n",
      "602/602 [==============================] - 2s 4ms/step - loss: 2.4784\n"
     ]
    },
    {
     "name": "stderr",
     "output_type": "stream",
     "text": [
      "C:\\Users\\khsan\\anaconda3\\lib\\site-packages\\sklearn\\model_selection\\_validation.py:778: UserWarning: Scoring failed. The score on this train-test partition for these parameters will be set to nan. Details: \n",
      "Traceback (most recent call last):\n",
      "  File \"C:\\Users\\khsan\\anaconda3\\lib\\site-packages\\sklearn\\model_selection\\_validation.py\", line 767, in _score\n",
      "    scores = scorer(estimator, X_test, y_test)\n",
      "  File \"C:\\Users\\khsan\\anaconda3\\lib\\site-packages\\sklearn\\metrics\\_scorer.py\", line 234, in __call__\n",
      "    return self._score(\n",
      "  File \"C:\\Users\\khsan\\anaconda3\\lib\\site-packages\\sklearn\\metrics\\_scorer.py\", line 282, in _score\n",
      "    return self._sign * self._score_func(y_true, y_pred, **self._kwargs)\n",
      "  File \"C:\\Users\\khsan\\AppData\\Local\\Temp\\ipykernel_21092\\344946441.py\", line 31, in Accuracy_Score\n",
      "    MAPE = np.mean(100 * (np.abs(orig-pred)/orig))\n",
      "NameError: name 'np' is not defined\n",
      "\n",
      "  warnings.warn(\n"
     ]
    },
    {
     "name": "stdout",
     "output_type": "stream",
     "text": [
      "Epoch 1/10\n",
      "402/402 [==============================] - 3s 4ms/step - loss: 4158.7905\n",
      "Epoch 2/10\n",
      "402/402 [==============================] - 2s 4ms/step - loss: 213.1024\n",
      "Epoch 3/10\n",
      "402/402 [==============================] - 2s 4ms/step - loss: 207.6791\n",
      "Epoch 4/10\n",
      "402/402 [==============================] - 2s 4ms/step - loss: 200.2097\n",
      "Epoch 5/10\n",
      "402/402 [==============================] - 2s 4ms/step - loss: 192.5141\n",
      "Epoch 6/10\n",
      "402/402 [==============================] - 2s 4ms/step - loss: 182.4650\n",
      "Epoch 7/10\n",
      "402/402 [==============================] - 2s 4ms/step - loss: 171.0121\n",
      "Epoch 8/10\n",
      "402/402 [==============================] - 2s 4ms/step - loss: 157.0430\n",
      "Epoch 9/10\n",
      "402/402 [==============================] - 2s 4ms/step - loss: 140.0011\n",
      "Epoch 10/10\n",
      "402/402 [==============================] - 2s 4ms/step - loss: 117.6193\n"
     ]
    },
    {
     "name": "stderr",
     "output_type": "stream",
     "text": [
      "C:\\Users\\khsan\\anaconda3\\lib\\site-packages\\sklearn\\model_selection\\_validation.py:778: UserWarning: Scoring failed. The score on this train-test partition for these parameters will be set to nan. Details: \n",
      "Traceback (most recent call last):\n",
      "  File \"C:\\Users\\khsan\\anaconda3\\lib\\site-packages\\sklearn\\model_selection\\_validation.py\", line 767, in _score\n",
      "    scores = scorer(estimator, X_test, y_test)\n",
      "  File \"C:\\Users\\khsan\\anaconda3\\lib\\site-packages\\sklearn\\metrics\\_scorer.py\", line 234, in __call__\n",
      "    return self._score(\n",
      "  File \"C:\\Users\\khsan\\anaconda3\\lib\\site-packages\\sklearn\\metrics\\_scorer.py\", line 282, in _score\n",
      "    return self._sign * self._score_func(y_true, y_pred, **self._kwargs)\n",
      "  File \"C:\\Users\\khsan\\AppData\\Local\\Temp\\ipykernel_21092\\344946441.py\", line 31, in Accuracy_Score\n",
      "    MAPE = np.mean(100 * (np.abs(orig-pred)/orig))\n",
      "NameError: name 'np' is not defined\n",
      "\n",
      "  warnings.warn(\n"
     ]
    },
    {
     "name": "stdout",
     "output_type": "stream",
     "text": [
      "Epoch 1/10\n",
      "402/402 [==============================] - 3s 4ms/step - loss: 4242.2056\n",
      "Epoch 2/10\n",
      "402/402 [==============================] - 2s 4ms/step - loss: 256.9259\n",
      "Epoch 3/10\n",
      "402/402 [==============================] - 2s 4ms/step - loss: 247.7903\n",
      "Epoch 4/10\n",
      "402/402 [==============================] - 2s 4ms/step - loss: 235.8284\n",
      "Epoch 5/10\n",
      "402/402 [==============================] - 2s 4ms/step - loss: 221.1667\n",
      "Epoch 6/10\n",
      "402/402 [==============================] - 2s 4ms/step - loss: 202.9200\n",
      "Epoch 7/10\n",
      "402/402 [==============================] - 2s 4ms/step - loss: 179.8631\n",
      "Epoch 8/10\n",
      "402/402 [==============================] - 2s 4ms/step - loss: 149.6518\n",
      "Epoch 9/10\n",
      "402/402 [==============================] - 2s 4ms/step - loss: 109.5138\n",
      "Epoch 10/10\n",
      "402/402 [==============================] - 2s 4ms/step - loss: 64.9733\n"
     ]
    },
    {
     "name": "stderr",
     "output_type": "stream",
     "text": [
      "C:\\Users\\khsan\\anaconda3\\lib\\site-packages\\sklearn\\model_selection\\_validation.py:778: UserWarning: Scoring failed. The score on this train-test partition for these parameters will be set to nan. Details: \n",
      "Traceback (most recent call last):\n",
      "  File \"C:\\Users\\khsan\\anaconda3\\lib\\site-packages\\sklearn\\model_selection\\_validation.py\", line 767, in _score\n",
      "    scores = scorer(estimator, X_test, y_test)\n",
      "  File \"C:\\Users\\khsan\\anaconda3\\lib\\site-packages\\sklearn\\metrics\\_scorer.py\", line 234, in __call__\n",
      "    return self._score(\n",
      "  File \"C:\\Users\\khsan\\anaconda3\\lib\\site-packages\\sklearn\\metrics\\_scorer.py\", line 282, in _score\n",
      "    return self._sign * self._score_func(y_true, y_pred, **self._kwargs)\n",
      "  File \"C:\\Users\\khsan\\AppData\\Local\\Temp\\ipykernel_21092\\344946441.py\", line 31, in Accuracy_Score\n",
      "    MAPE = np.mean(100 * (np.abs(orig-pred)/orig))\n",
      "NameError: name 'np' is not defined\n",
      "\n",
      "  warnings.warn(\n"
     ]
    },
    {
     "name": "stdout",
     "output_type": "stream",
     "text": [
      "Epoch 1/10\n",
      "402/402 [==============================] - 3s 4ms/step - loss: 4331.9995\n",
      "Epoch 2/10\n",
      "402/402 [==============================] - 2s 4ms/step - loss: 213.9386\n",
      "Epoch 3/10\n",
      "402/402 [==============================] - 2s 4ms/step - loss: 208.1592\n",
      "Epoch 4/10\n",
      "402/402 [==============================] - 2s 4ms/step - loss: 201.0064\n",
      "Epoch 5/10\n",
      "402/402 [==============================] - 1s 4ms/step - loss: 192.1587\n",
      "Epoch 6/10\n",
      "402/402 [==============================] - 2s 4ms/step - loss: 181.9487\n",
      "Epoch 7/10\n",
      "402/402 [==============================] - 2s 4ms/step - loss: 169.3671\n",
      "Epoch 8/10\n",
      "402/402 [==============================] - 2s 4ms/step - loss: 154.2216\n",
      "Epoch 9/10\n",
      "402/402 [==============================] - 2s 4ms/step - loss: 135.3751\n",
      "Epoch 10/10\n",
      "402/402 [==============================] - 2s 4ms/step - loss: 111.2864\n"
     ]
    },
    {
     "name": "stderr",
     "output_type": "stream",
     "text": [
      "C:\\Users\\khsan\\anaconda3\\lib\\site-packages\\sklearn\\model_selection\\_validation.py:778: UserWarning: Scoring failed. The score on this train-test partition for these parameters will be set to nan. Details: \n",
      "Traceback (most recent call last):\n",
      "  File \"C:\\Users\\khsan\\anaconda3\\lib\\site-packages\\sklearn\\model_selection\\_validation.py\", line 767, in _score\n",
      "    scores = scorer(estimator, X_test, y_test)\n",
      "  File \"C:\\Users\\khsan\\anaconda3\\lib\\site-packages\\sklearn\\metrics\\_scorer.py\", line 234, in __call__\n",
      "    return self._score(\n",
      "  File \"C:\\Users\\khsan\\anaconda3\\lib\\site-packages\\sklearn\\metrics\\_scorer.py\", line 282, in _score\n",
      "    return self._sign * self._score_func(y_true, y_pred, **self._kwargs)\n",
      "  File \"C:\\Users\\khsan\\AppData\\Local\\Temp\\ipykernel_21092\\344946441.py\", line 31, in Accuracy_Score\n",
      "    MAPE = np.mean(100 * (np.abs(orig-pred)/orig))\n",
      "NameError: name 'np' is not defined\n",
      "\n",
      "  warnings.warn(\n"
     ]
    },
    {
     "name": "stdout",
     "output_type": "stream",
     "text": [
      "Epoch 1/10\n",
      "402/402 [==============================] - 3s 4ms/step - loss: 3841.1663\n",
      "Epoch 2/10\n",
      "402/402 [==============================] - 2s 4ms/step - loss: 229.7672\n",
      "Epoch 3/10\n",
      "402/402 [==============================] - 2s 4ms/step - loss: 222.6695\n",
      "Epoch 4/10\n",
      "402/402 [==============================] - 2s 4ms/step - loss: 211.9670\n",
      "Epoch 5/10\n",
      "402/402 [==============================] - 2s 4ms/step - loss: 199.8926\n",
      "Epoch 6/10\n",
      "402/402 [==============================] - 2s 4ms/step - loss: 185.7219\n",
      "Epoch 7/10\n",
      "402/402 [==============================] - 2s 4ms/step - loss: 167.0620\n",
      "Epoch 8/10\n",
      "402/402 [==============================] - 2s 4ms/step - loss: 143.6942\n",
      "Epoch 9/10\n",
      "402/402 [==============================] - 2s 4ms/step - loss: 112.9838\n",
      "Epoch 10/10\n",
      "402/402 [==============================] - 2s 4ms/step - loss: 76.1618\n"
     ]
    },
    {
     "name": "stderr",
     "output_type": "stream",
     "text": [
      "C:\\Users\\khsan\\anaconda3\\lib\\site-packages\\sklearn\\model_selection\\_validation.py:778: UserWarning: Scoring failed. The score on this train-test partition for these parameters will be set to nan. Details: \n",
      "Traceback (most recent call last):\n",
      "  File \"C:\\Users\\khsan\\anaconda3\\lib\\site-packages\\sklearn\\model_selection\\_validation.py\", line 767, in _score\n",
      "    scores = scorer(estimator, X_test, y_test)\n",
      "  File \"C:\\Users\\khsan\\anaconda3\\lib\\site-packages\\sklearn\\metrics\\_scorer.py\", line 234, in __call__\n",
      "    return self._score(\n",
      "  File \"C:\\Users\\khsan\\anaconda3\\lib\\site-packages\\sklearn\\metrics\\_scorer.py\", line 282, in _score\n",
      "    return self._sign * self._score_func(y_true, y_pred, **self._kwargs)\n",
      "  File \"C:\\Users\\khsan\\AppData\\Local\\Temp\\ipykernel_21092\\344946441.py\", line 31, in Accuracy_Score\n",
      "    MAPE = np.mean(100 * (np.abs(orig-pred)/orig))\n",
      "NameError: name 'np' is not defined\n",
      "\n",
      "  warnings.warn(\n"
     ]
    },
    {
     "name": "stdout",
     "output_type": "stream",
     "text": [
      "Epoch 1/10\n",
      "402/402 [==============================] - 3s 4ms/step - loss: 5361.7378\n",
      "Epoch 2/10\n",
      "402/402 [==============================] - 2s 4ms/step - loss: 233.7082\n",
      "Epoch 3/10\n",
      "402/402 [==============================] - 2s 4ms/step - loss: 228.6781\n",
      "Epoch 4/10\n",
      "402/402 [==============================] - 2s 4ms/step - loss: 222.9123\n",
      "Epoch 5/10\n",
      "402/402 [==============================] - 2s 4ms/step - loss: 216.7436\n",
      "Epoch 6/10\n",
      "402/402 [==============================] - 2s 4ms/step - loss: 208.0794\n",
      "Epoch 7/10\n",
      "402/402 [==============================] - 2s 4ms/step - loss: 198.5991\n",
      "Epoch 8/10\n",
      "402/402 [==============================] - 2s 4ms/step - loss: 186.9345\n",
      "Epoch 9/10\n",
      "402/402 [==============================] - 2s 4ms/step - loss: 174.6251\n",
      "Epoch 10/10\n",
      "402/402 [==============================] - 2s 4ms/step - loss: 158.9325\n"
     ]
    },
    {
     "name": "stderr",
     "output_type": "stream",
     "text": [
      "C:\\Users\\khsan\\anaconda3\\lib\\site-packages\\sklearn\\model_selection\\_validation.py:778: UserWarning: Scoring failed. The score on this train-test partition for these parameters will be set to nan. Details: \n",
      "Traceback (most recent call last):\n",
      "  File \"C:\\Users\\khsan\\anaconda3\\lib\\site-packages\\sklearn\\model_selection\\_validation.py\", line 767, in _score\n",
      "    scores = scorer(estimator, X_test, y_test)\n",
      "  File \"C:\\Users\\khsan\\anaconda3\\lib\\site-packages\\sklearn\\metrics\\_scorer.py\", line 234, in __call__\n",
      "    return self._score(\n",
      "  File \"C:\\Users\\khsan\\anaconda3\\lib\\site-packages\\sklearn\\metrics\\_scorer.py\", line 282, in _score\n",
      "    return self._sign * self._score_func(y_true, y_pred, **self._kwargs)\n",
      "  File \"C:\\Users\\khsan\\AppData\\Local\\Temp\\ipykernel_21092\\344946441.py\", line 31, in Accuracy_Score\n",
      "    MAPE = np.mean(100 * (np.abs(orig-pred)/orig))\n",
      "NameError: name 'np' is not defined\n",
      "\n",
      "  warnings.warn(\n"
     ]
    },
    {
     "name": "stdout",
     "output_type": "stream",
     "text": [
      "Epoch 1/20\n",
      "402/402 [==============================] - 3s 4ms/step - loss: 3982.0127\n",
      "Epoch 2/20\n",
      "402/402 [==============================] - 2s 4ms/step - loss: 209.2023\n",
      "Epoch 3/20\n",
      "402/402 [==============================] - 2s 4ms/step - loss: 203.5416\n",
      "Epoch 4/20\n",
      "402/402 [==============================] - 2s 4ms/step - loss: 196.8210\n",
      "Epoch 5/20\n",
      "402/402 [==============================] - 2s 4ms/step - loss: 188.8855\n",
      "Epoch 6/20\n",
      "402/402 [==============================] - 2s 4ms/step - loss: 178.5244\n",
      "Epoch 7/20\n",
      "402/402 [==============================] - 2s 4ms/step - loss: 167.1379\n",
      "Epoch 8/20\n",
      "402/402 [==============================] - 2s 4ms/step - loss: 152.5207\n",
      "Epoch 9/20\n",
      "402/402 [==============================] - 2s 4ms/step - loss: 134.1338\n",
      "Epoch 10/20\n",
      "402/402 [==============================] - 2s 4ms/step - loss: 110.4121\n",
      "Epoch 11/20\n",
      "402/402 [==============================] - 2s 4ms/step - loss: 82.0941\n",
      "Epoch 12/20\n",
      "402/402 [==============================] - 2s 4ms/step - loss: 51.8918\n",
      "Epoch 13/20\n",
      "402/402 [==============================] - 2s 4ms/step - loss: 29.7103\n",
      "Epoch 14/20\n",
      "402/402 [==============================] - 2s 4ms/step - loss: 19.1383\n",
      "Epoch 15/20\n",
      "402/402 [==============================] - 2s 4ms/step - loss: 15.6377\n",
      "Epoch 16/20\n",
      "402/402 [==============================] - 2s 4ms/step - loss: 13.2683\n",
      "Epoch 17/20\n",
      "402/402 [==============================] - 2s 4ms/step - loss: 11.8396\n",
      "Epoch 18/20\n",
      "402/402 [==============================] - 2s 4ms/step - loss: 10.2939\n",
      "Epoch 19/20\n",
      "402/402 [==============================] - 2s 4ms/step - loss: 9.0045\n",
      "Epoch 20/20\n",
      "402/402 [==============================] - 2s 4ms/step - loss: 8.0935\n"
     ]
    },
    {
     "name": "stderr",
     "output_type": "stream",
     "text": [
      "C:\\Users\\khsan\\anaconda3\\lib\\site-packages\\sklearn\\model_selection\\_validation.py:778: UserWarning: Scoring failed. The score on this train-test partition for these parameters will be set to nan. Details: \n",
      "Traceback (most recent call last):\n",
      "  File \"C:\\Users\\khsan\\anaconda3\\lib\\site-packages\\sklearn\\model_selection\\_validation.py\", line 767, in _score\n",
      "    scores = scorer(estimator, X_test, y_test)\n",
      "  File \"C:\\Users\\khsan\\anaconda3\\lib\\site-packages\\sklearn\\metrics\\_scorer.py\", line 234, in __call__\n",
      "    return self._score(\n",
      "  File \"C:\\Users\\khsan\\anaconda3\\lib\\site-packages\\sklearn\\metrics\\_scorer.py\", line 282, in _score\n",
      "    return self._sign * self._score_func(y_true, y_pred, **self._kwargs)\n",
      "  File \"C:\\Users\\khsan\\AppData\\Local\\Temp\\ipykernel_21092\\344946441.py\", line 31, in Accuracy_Score\n",
      "    MAPE = np.mean(100 * (np.abs(orig-pred)/orig))\n",
      "NameError: name 'np' is not defined\n",
      "\n",
      "  warnings.warn(\n"
     ]
    },
    {
     "name": "stdout",
     "output_type": "stream",
     "text": [
      "Epoch 1/20\n",
      "402/402 [==============================] - 3s 4ms/step - loss: 4652.4819\n",
      "Epoch 2/20\n",
      "402/402 [==============================] - 2s 4ms/step - loss: 264.8671\n",
      "Epoch 3/20\n",
      "402/402 [==============================] - 2s 4ms/step - loss: 251.8056\n",
      "Epoch 4/20\n",
      "402/402 [==============================] - 3s 7ms/step - loss: 234.2082\n",
      "Epoch 5/20\n",
      "402/402 [==============================] - 2s 5ms/step - loss: 211.8548\n",
      "Epoch 6/20\n",
      "402/402 [==============================] - 2s 5ms/step - loss: 180.0320\n",
      "Epoch 7/20\n",
      "402/402 [==============================] - 2s 4ms/step - loss: 133.6386\n",
      "Epoch 8/20\n",
      "402/402 [==============================] - 2s 4ms/step - loss: 73.9321\n",
      "Epoch 9/20\n",
      "402/402 [==============================] - 2s 4ms/step - loss: 27.8122\n",
      "Epoch 10/20\n",
      "402/402 [==============================] - 2s 4ms/step - loss: 12.2776\n",
      "Epoch 11/20\n",
      "402/402 [==============================] - 2s 4ms/step - loss: 9.7784\n",
      "Epoch 12/20\n",
      "402/402 [==============================] - 2s 4ms/step - loss: 8.5933\n",
      "Epoch 13/20\n",
      "402/402 [==============================] - 2s 4ms/step - loss: 7.5351\n",
      "Epoch 14/20\n",
      "402/402 [==============================] - 2s 4ms/step - loss: 6.9099\n",
      "Epoch 15/20\n",
      "402/402 [==============================] - 2s 4ms/step - loss: 6.1032\n",
      "Epoch 16/20\n",
      "402/402 [==============================] - 2s 4ms/step - loss: 5.5633\n",
      "Epoch 17/20\n",
      "402/402 [==============================] - 2s 4ms/step - loss: 5.0649\n",
      "Epoch 18/20\n",
      "402/402 [==============================] - 2s 4ms/step - loss: 4.6998\n",
      "Epoch 19/20\n",
      "402/402 [==============================] - 2s 4ms/step - loss: 4.2314\n",
      "Epoch 20/20\n",
      "402/402 [==============================] - 2s 4ms/step - loss: 3.9693\n"
     ]
    },
    {
     "name": "stderr",
     "output_type": "stream",
     "text": [
      "C:\\Users\\khsan\\anaconda3\\lib\\site-packages\\sklearn\\model_selection\\_validation.py:778: UserWarning: Scoring failed. The score on this train-test partition for these parameters will be set to nan. Details: \n",
      "Traceback (most recent call last):\n",
      "  File \"C:\\Users\\khsan\\anaconda3\\lib\\site-packages\\sklearn\\model_selection\\_validation.py\", line 767, in _score\n",
      "    scores = scorer(estimator, X_test, y_test)\n",
      "  File \"C:\\Users\\khsan\\anaconda3\\lib\\site-packages\\sklearn\\metrics\\_scorer.py\", line 234, in __call__\n",
      "    return self._score(\n",
      "  File \"C:\\Users\\khsan\\anaconda3\\lib\\site-packages\\sklearn\\metrics\\_scorer.py\", line 282, in _score\n",
      "    return self._sign * self._score_func(y_true, y_pred, **self._kwargs)\n",
      "  File \"C:\\Users\\khsan\\AppData\\Local\\Temp\\ipykernel_21092\\344946441.py\", line 31, in Accuracy_Score\n",
      "    MAPE = np.mean(100 * (np.abs(orig-pred)/orig))\n",
      "NameError: name 'np' is not defined\n",
      "\n",
      "  warnings.warn(\n"
     ]
    },
    {
     "name": "stdout",
     "output_type": "stream",
     "text": [
      "Epoch 1/20\n",
      "402/402 [==============================] - 3s 4ms/step - loss: 4191.3804\n",
      "Epoch 2/20\n",
      "402/402 [==============================] - 2s 4ms/step - loss: 215.4502\n",
      "Epoch 3/20\n",
      "402/402 [==============================] - 2s 4ms/step - loss: 211.1204\n",
      "Epoch 4/20\n",
      "402/402 [==============================] - 2s 4ms/step - loss: 205.7088\n",
      "Epoch 5/20\n",
      "402/402 [==============================] - 2s 4ms/step - loss: 199.3880\n",
      "Epoch 6/20\n",
      "402/402 [==============================] - 2s 4ms/step - loss: 191.9399\n",
      "Epoch 7/20\n",
      "402/402 [==============================] - 2s 4ms/step - loss: 183.4632\n",
      "Epoch 8/20\n",
      "402/402 [==============================] - 2s 4ms/step - loss: 172.4982\n",
      "Epoch 9/20\n",
      "402/402 [==============================] - 2s 4ms/step - loss: 160.7000\n",
      "Epoch 10/20\n",
      "402/402 [==============================] - 2s 4ms/step - loss: 145.0926\n",
      "Epoch 11/20\n",
      "402/402 [==============================] - 2s 4ms/step - loss: 126.4545\n",
      "Epoch 12/20\n",
      "402/402 [==============================] - 2s 4ms/step - loss: 103.5852\n",
      "Epoch 13/20\n",
      "402/402 [==============================] - 2s 4ms/step - loss: 75.8178\n",
      "Epoch 14/20\n",
      "402/402 [==============================] - 2s 4ms/step - loss: 48.5716\n",
      "Epoch 15/20\n",
      "402/402 [==============================] - 2s 4ms/step - loss: 29.5891\n",
      "Epoch 16/20\n",
      "402/402 [==============================] - 2s 4ms/step - loss: 20.7073\n",
      "Epoch 17/20\n",
      "402/402 [==============================] - 2s 4ms/step - loss: 17.0624\n",
      "Epoch 18/20\n",
      "402/402 [==============================] - 2s 4ms/step - loss: 15.1589\n",
      "Epoch 19/20\n",
      "402/402 [==============================] - 2s 4ms/step - loss: 13.8899\n",
      "Epoch 20/20\n",
      "402/402 [==============================] - 2s 4ms/step - loss: 12.8260\n"
     ]
    },
    {
     "name": "stderr",
     "output_type": "stream",
     "text": [
      "C:\\Users\\khsan\\anaconda3\\lib\\site-packages\\sklearn\\model_selection\\_validation.py:778: UserWarning: Scoring failed. The score on this train-test partition for these parameters will be set to nan. Details: \n",
      "Traceback (most recent call last):\n",
      "  File \"C:\\Users\\khsan\\anaconda3\\lib\\site-packages\\sklearn\\model_selection\\_validation.py\", line 767, in _score\n",
      "    scores = scorer(estimator, X_test, y_test)\n",
      "  File \"C:\\Users\\khsan\\anaconda3\\lib\\site-packages\\sklearn\\metrics\\_scorer.py\", line 234, in __call__\n",
      "    return self._score(\n",
      "  File \"C:\\Users\\khsan\\anaconda3\\lib\\site-packages\\sklearn\\metrics\\_scorer.py\", line 282, in _score\n",
      "    return self._sign * self._score_func(y_true, y_pred, **self._kwargs)\n",
      "  File \"C:\\Users\\khsan\\AppData\\Local\\Temp\\ipykernel_21092\\344946441.py\", line 31, in Accuracy_Score\n",
      "    MAPE = np.mean(100 * (np.abs(orig-pred)/orig))\n",
      "NameError: name 'np' is not defined\n",
      "\n",
      "  warnings.warn(\n"
     ]
    },
    {
     "name": "stdout",
     "output_type": "stream",
     "text": [
      "Epoch 1/20\n",
      "402/402 [==============================] - 3s 4ms/step - loss: 5298.4541\n",
      "Epoch 2/20\n",
      "402/402 [==============================] - 2s 4ms/step - loss: 234.5677\n",
      "Epoch 3/20\n",
      "402/402 [==============================] - 2s 4ms/step - loss: 229.1366\n",
      "Epoch 4/20\n",
      "402/402 [==============================] - 2s 4ms/step - loss: 222.6533\n",
      "Epoch 5/20\n",
      "402/402 [==============================] - 2s 4ms/step - loss: 215.1976\n",
      "Epoch 6/20\n",
      "402/402 [==============================] - 2s 4ms/step - loss: 205.9423\n",
      "Epoch 7/20\n",
      "402/402 [==============================] - 2s 4ms/step - loss: 194.9563\n",
      "Epoch 8/20\n",
      "402/402 [==============================] - 2s 4ms/step - loss: 182.7928\n",
      "Epoch 9/20\n",
      "402/402 [==============================] - 2s 4ms/step - loss: 167.9500\n",
      "Epoch 10/20\n",
      "402/402 [==============================] - 2s 4ms/step - loss: 149.4272\n",
      "Epoch 11/20\n",
      "402/402 [==============================] - 2s 4ms/step - loss: 126.9062\n",
      "Epoch 12/20\n",
      "402/402 [==============================] - 2s 4ms/step - loss: 99.5827\n",
      "Epoch 13/20\n",
      "402/402 [==============================] - 2s 4ms/step - loss: 69.4772\n",
      "Epoch 14/20\n",
      "402/402 [==============================] - 2s 4ms/step - loss: 43.2853\n",
      "Epoch 15/20\n",
      "402/402 [==============================] - 2s 4ms/step - loss: 27.7864\n",
      "Epoch 16/20\n",
      "402/402 [==============================] - 2s 4ms/step - loss: 21.1956\n",
      "Epoch 17/20\n",
      "402/402 [==============================] - 2s 4ms/step - loss: 18.5178\n",
      "Epoch 18/20\n",
      "402/402 [==============================] - 2s 4ms/step - loss: 16.6122\n",
      "Epoch 19/20\n",
      "402/402 [==============================] - 2s 4ms/step - loss: 15.0678\n",
      "Epoch 20/20\n",
      "402/402 [==============================] - 2s 4ms/step - loss: 13.8029\n"
     ]
    },
    {
     "name": "stderr",
     "output_type": "stream",
     "text": [
      "C:\\Users\\khsan\\anaconda3\\lib\\site-packages\\sklearn\\model_selection\\_validation.py:778: UserWarning: Scoring failed. The score on this train-test partition for these parameters will be set to nan. Details: \n",
      "Traceback (most recent call last):\n",
      "  File \"C:\\Users\\khsan\\anaconda3\\lib\\site-packages\\sklearn\\model_selection\\_validation.py\", line 767, in _score\n",
      "    scores = scorer(estimator, X_test, y_test)\n",
      "  File \"C:\\Users\\khsan\\anaconda3\\lib\\site-packages\\sklearn\\metrics\\_scorer.py\", line 234, in __call__\n",
      "    return self._score(\n",
      "  File \"C:\\Users\\khsan\\anaconda3\\lib\\site-packages\\sklearn\\metrics\\_scorer.py\", line 282, in _score\n",
      "    return self._sign * self._score_func(y_true, y_pred, **self._kwargs)\n",
      "  File \"C:\\Users\\khsan\\AppData\\Local\\Temp\\ipykernel_21092\\344946441.py\", line 31, in Accuracy_Score\n",
      "    MAPE = np.mean(100 * (np.abs(orig-pred)/orig))\n",
      "NameError: name 'np' is not defined\n",
      "\n",
      "  warnings.warn(\n"
     ]
    },
    {
     "name": "stdout",
     "output_type": "stream",
     "text": [
      "Epoch 1/20\n",
      "402/402 [==============================] - 3s 4ms/step - loss: 3636.2524\n",
      "Epoch 2/20\n",
      "402/402 [==============================] - 2s 4ms/step - loss: 226.6609\n",
      "Epoch 3/20\n",
      "402/402 [==============================] - 2s 4ms/step - loss: 216.4237\n",
      "Epoch 4/20\n",
      "402/402 [==============================] - 2s 4ms/step - loss: 204.6007\n",
      "Epoch 5/20\n",
      "402/402 [==============================] - 2s 4ms/step - loss: 188.0594\n",
      "Epoch 6/20\n",
      "402/402 [==============================] - 2s 4ms/step - loss: 167.1830\n",
      "Epoch 7/20\n",
      "402/402 [==============================] - 2s 4ms/step - loss: 138.4785\n",
      "Epoch 8/20\n",
      "402/402 [==============================] - 2s 4ms/step - loss: 100.4921\n",
      "Epoch 9/20\n",
      "402/402 [==============================] - 2s 4ms/step - loss: 56.4841\n",
      "Epoch 10/20\n",
      "402/402 [==============================] - 2s 4ms/step - loss: 26.4716\n",
      "Epoch 11/20\n",
      "402/402 [==============================] - 2s 4ms/step - loss: 15.1728\n",
      "Epoch 12/20\n",
      "402/402 [==============================] - 2s 4ms/step - loss: 11.6753\n",
      "Epoch 13/20\n",
      "402/402 [==============================] - 2s 4ms/step - loss: 10.2698\n",
      "Epoch 14/20\n",
      "402/402 [==============================] - 2s 4ms/step - loss: 8.9299\n",
      "Epoch 15/20\n",
      "402/402 [==============================] - 2s 4ms/step - loss: 7.8186\n",
      "Epoch 16/20\n",
      "402/402 [==============================] - 2s 4ms/step - loss: 7.2679\n",
      "Epoch 17/20\n",
      "402/402 [==============================] - 2s 4ms/step - loss: 6.3417\n",
      "Epoch 18/20\n",
      "402/402 [==============================] - 2s 5ms/step - loss: 5.8991\n",
      "Epoch 19/20\n",
      "402/402 [==============================] - 2s 4ms/step - loss: 5.3662\n",
      "Epoch 20/20\n",
      "402/402 [==============================] - 2s 4ms/step - loss: 4.8302\n"
     ]
    },
    {
     "name": "stderr",
     "output_type": "stream",
     "text": [
      "C:\\Users\\khsan\\anaconda3\\lib\\site-packages\\sklearn\\model_selection\\_validation.py:778: UserWarning: Scoring failed. The score on this train-test partition for these parameters will be set to nan. Details: \n",
      "Traceback (most recent call last):\n",
      "  File \"C:\\Users\\khsan\\anaconda3\\lib\\site-packages\\sklearn\\model_selection\\_validation.py\", line 767, in _score\n",
      "    scores = scorer(estimator, X_test, y_test)\n",
      "  File \"C:\\Users\\khsan\\anaconda3\\lib\\site-packages\\sklearn\\metrics\\_scorer.py\", line 234, in __call__\n",
      "    return self._score(\n",
      "  File \"C:\\Users\\khsan\\anaconda3\\lib\\site-packages\\sklearn\\metrics\\_scorer.py\", line 282, in _score\n",
      "    return self._sign * self._score_func(y_true, y_pred, **self._kwargs)\n",
      "  File \"C:\\Users\\khsan\\AppData\\Local\\Temp\\ipykernel_21092\\344946441.py\", line 31, in Accuracy_Score\n",
      "    MAPE = np.mean(100 * (np.abs(orig-pred)/orig))\n",
      "NameError: name 'np' is not defined\n",
      "\n",
      "  warnings.warn(\n"
     ]
    },
    {
     "name": "stdout",
     "output_type": "stream",
     "text": [
      "Epoch 1/10\n",
      "1204/1204 [==============================] - 6s 4ms/step - loss: 1967.5336\n",
      "Epoch 2/10\n",
      "1204/1204 [==============================] - 5s 4ms/step - loss: 185.3109\n",
      "Epoch 3/10\n",
      "1204/1204 [==============================] - 5s 4ms/step - loss: 160.1098\n",
      "Epoch 4/10\n",
      "1204/1204 [==============================] - 5s 4ms/step - loss: 126.2235\n",
      "Epoch 5/10\n",
      "1204/1204 [==============================] - 5s 4ms/step - loss: 79.2486\n",
      "Epoch 6/10\n",
      "1204/1204 [==============================] - 5s 4ms/step - loss: 30.0410\n",
      "Epoch 7/10\n",
      "1204/1204 [==============================] - 5s 4ms/step - loss: 17.0499\n",
      "Epoch 8/10\n",
      "1204/1204 [==============================] - 5s 4ms/step - loss: 14.0707\n",
      "Epoch 9/10\n",
      "1204/1204 [==============================] - 5s 4ms/step - loss: 11.7146\n",
      "Epoch 10/10\n",
      "1204/1204 [==============================] - 5s 4ms/step - loss: 9.9123\n"
     ]
    },
    {
     "name": "stderr",
     "output_type": "stream",
     "text": [
      "C:\\Users\\khsan\\anaconda3\\lib\\site-packages\\sklearn\\model_selection\\_validation.py:778: UserWarning: Scoring failed. The score on this train-test partition for these parameters will be set to nan. Details: \n",
      "Traceback (most recent call last):\n",
      "  File \"C:\\Users\\khsan\\anaconda3\\lib\\site-packages\\sklearn\\model_selection\\_validation.py\", line 767, in _score\n",
      "    scores = scorer(estimator, X_test, y_test)\n",
      "  File \"C:\\Users\\khsan\\anaconda3\\lib\\site-packages\\sklearn\\metrics\\_scorer.py\", line 234, in __call__\n",
      "    return self._score(\n",
      "  File \"C:\\Users\\khsan\\anaconda3\\lib\\site-packages\\sklearn\\metrics\\_scorer.py\", line 282, in _score\n",
      "    return self._sign * self._score_func(y_true, y_pred, **self._kwargs)\n",
      "  File \"C:\\Users\\khsan\\AppData\\Local\\Temp\\ipykernel_21092\\344946441.py\", line 31, in Accuracy_Score\n",
      "    MAPE = np.mean(100 * (np.abs(orig-pred)/orig))\n",
      "NameError: name 'np' is not defined\n",
      "\n",
      "  warnings.warn(\n"
     ]
    },
    {
     "name": "stdout",
     "output_type": "stream",
     "text": [
      "Epoch 1/10\n",
      "1204/1204 [==============================] - 6s 4ms/step - loss: 1499.9923\n",
      "Epoch 2/10\n",
      "1204/1204 [==============================] - 5s 4ms/step - loss: 136.7206\n",
      "Epoch 3/10\n",
      "1204/1204 [==============================] - 5s 4ms/step - loss: 40.3773\n",
      "Epoch 4/10\n",
      "1204/1204 [==============================] - 5s 4ms/step - loss: 25.5358\n",
      "Epoch 5/10\n",
      "1204/1204 [==============================] - 5s 4ms/step - loss: 20.5993\n",
      "Epoch 6/10\n",
      "1204/1204 [==============================] - 5s 4ms/step - loss: 16.8426\n",
      "Epoch 7/10\n",
      "1204/1204 [==============================] - 5s 4ms/step - loss: 14.3116\n",
      "Epoch 8/10\n",
      "1204/1204 [==============================] - 5s 4ms/step - loss: 12.6727\n",
      "Epoch 9/10\n",
      "1204/1204 [==============================] - 5s 4ms/step - loss: 11.6165\n",
      "Epoch 10/10\n",
      "1204/1204 [==============================] - 5s 4ms/step - loss: 10.6663\n"
     ]
    },
    {
     "name": "stderr",
     "output_type": "stream",
     "text": [
      "C:\\Users\\khsan\\anaconda3\\lib\\site-packages\\sklearn\\model_selection\\_validation.py:778: UserWarning: Scoring failed. The score on this train-test partition for these parameters will be set to nan. Details: \n",
      "Traceback (most recent call last):\n",
      "  File \"C:\\Users\\khsan\\anaconda3\\lib\\site-packages\\sklearn\\model_selection\\_validation.py\", line 767, in _score\n",
      "    scores = scorer(estimator, X_test, y_test)\n",
      "  File \"C:\\Users\\khsan\\anaconda3\\lib\\site-packages\\sklearn\\metrics\\_scorer.py\", line 234, in __call__\n",
      "    return self._score(\n",
      "  File \"C:\\Users\\khsan\\anaconda3\\lib\\site-packages\\sklearn\\metrics\\_scorer.py\", line 282, in _score\n",
      "    return self._sign * self._score_func(y_true, y_pred, **self._kwargs)\n",
      "  File \"C:\\Users\\khsan\\AppData\\Local\\Temp\\ipykernel_21092\\344946441.py\", line 31, in Accuracy_Score\n",
      "    MAPE = np.mean(100 * (np.abs(orig-pred)/orig))\n",
      "NameError: name 'np' is not defined\n",
      "\n",
      "  warnings.warn(\n"
     ]
    },
    {
     "name": "stdout",
     "output_type": "stream",
     "text": [
      "Epoch 1/10\n",
      "1204/1204 [==============================] - 6s 4ms/step - loss: 1758.0132\n",
      "Epoch 2/10\n",
      "1204/1204 [==============================] - 5s 4ms/step - loss: 184.9025\n",
      "Epoch 3/10\n",
      "1204/1204 [==============================] - 5s 4ms/step - loss: 149.6683\n",
      "Epoch 4/10\n",
      "1204/1204 [==============================] - 5s 4ms/step - loss: 101.0734\n",
      "Epoch 5/10\n",
      "1204/1204 [==============================] - 5s 4ms/step - loss: 41.2819\n",
      "Epoch 6/10\n",
      "1204/1204 [==============================] - 5s 4ms/step - loss: 21.3724\n",
      "Epoch 7/10\n",
      "1204/1204 [==============================] - 4s 4ms/step - loss: 17.9850\n",
      "Epoch 8/10\n",
      "1204/1204 [==============================] - 5s 4ms/step - loss: 15.4056\n",
      "Epoch 9/10\n",
      "1204/1204 [==============================] - 5s 4ms/step - loss: 13.2510\n",
      "Epoch 10/10\n",
      "1204/1204 [==============================] - 5s 4ms/step - loss: 11.3213\n"
     ]
    },
    {
     "name": "stderr",
     "output_type": "stream",
     "text": [
      "C:\\Users\\khsan\\anaconda3\\lib\\site-packages\\sklearn\\model_selection\\_validation.py:778: UserWarning: Scoring failed. The score on this train-test partition for these parameters will be set to nan. Details: \n",
      "Traceback (most recent call last):\n",
      "  File \"C:\\Users\\khsan\\anaconda3\\lib\\site-packages\\sklearn\\model_selection\\_validation.py\", line 767, in _score\n",
      "    scores = scorer(estimator, X_test, y_test)\n",
      "  File \"C:\\Users\\khsan\\anaconda3\\lib\\site-packages\\sklearn\\metrics\\_scorer.py\", line 234, in __call__\n",
      "    return self._score(\n",
      "  File \"C:\\Users\\khsan\\anaconda3\\lib\\site-packages\\sklearn\\metrics\\_scorer.py\", line 282, in _score\n",
      "    return self._sign * self._score_func(y_true, y_pred, **self._kwargs)\n",
      "  File \"C:\\Users\\khsan\\AppData\\Local\\Temp\\ipykernel_21092\\344946441.py\", line 31, in Accuracy_Score\n",
      "    MAPE = np.mean(100 * (np.abs(orig-pred)/orig))\n",
      "NameError: name 'np' is not defined\n",
      "\n",
      "  warnings.warn(\n"
     ]
    },
    {
     "name": "stdout",
     "output_type": "stream",
     "text": [
      "Epoch 1/10\n",
      "1204/1204 [==============================] - 6s 4ms/step - loss: 2419.1704\n",
      "Epoch 2/10\n",
      "1204/1204 [==============================] - 4s 4ms/step - loss: 165.4691\n",
      "Epoch 3/10\n",
      "1204/1204 [==============================] - 5s 4ms/step - loss: 57.7618\n",
      "Epoch 4/10\n",
      "1204/1204 [==============================] - 5s 4ms/step - loss: 14.1750\n",
      "Epoch 5/10\n",
      "1204/1204 [==============================] - 5s 4ms/step - loss: 11.2915\n",
      "Epoch 6/10\n",
      "1204/1204 [==============================] - 5s 4ms/step - loss: 9.8785\n",
      "Epoch 7/10\n",
      "1204/1204 [==============================] - 5s 4ms/step - loss: 9.1283\n",
      "Epoch 8/10\n",
      "1204/1204 [==============================] - 5s 4ms/step - loss: 8.5393\n",
      "Epoch 9/10\n",
      "1204/1204 [==============================] - 5s 4ms/step - loss: 7.9767\n",
      "Epoch 10/10\n",
      "1204/1204 [==============================] - 5s 4ms/step - loss: 7.5301\n"
     ]
    },
    {
     "name": "stderr",
     "output_type": "stream",
     "text": [
      "C:\\Users\\khsan\\anaconda3\\lib\\site-packages\\sklearn\\model_selection\\_validation.py:778: UserWarning: Scoring failed. The score on this train-test partition for these parameters will be set to nan. Details: \n",
      "Traceback (most recent call last):\n",
      "  File \"C:\\Users\\khsan\\anaconda3\\lib\\site-packages\\sklearn\\model_selection\\_validation.py\", line 767, in _score\n",
      "    scores = scorer(estimator, X_test, y_test)\n",
      "  File \"C:\\Users\\khsan\\anaconda3\\lib\\site-packages\\sklearn\\metrics\\_scorer.py\", line 234, in __call__\n",
      "    return self._score(\n",
      "  File \"C:\\Users\\khsan\\anaconda3\\lib\\site-packages\\sklearn\\metrics\\_scorer.py\", line 282, in _score\n",
      "    return self._sign * self._score_func(y_true, y_pred, **self._kwargs)\n",
      "  File \"C:\\Users\\khsan\\AppData\\Local\\Temp\\ipykernel_21092\\344946441.py\", line 31, in Accuracy_Score\n",
      "    MAPE = np.mean(100 * (np.abs(orig-pred)/orig))\n",
      "NameError: name 'np' is not defined\n",
      "\n",
      "  warnings.warn(\n"
     ]
    },
    {
     "name": "stdout",
     "output_type": "stream",
     "text": [
      "Epoch 1/10\n",
      "1204/1204 [==============================] - 6s 4ms/step - loss: 2541.6885\n",
      "Epoch 2/10\n",
      "1204/1204 [==============================] - 5s 4ms/step - loss: 203.5762\n",
      "Epoch 3/10\n",
      "1204/1204 [==============================] - 5s 4ms/step - loss: 177.7943\n",
      "Epoch 4/10\n",
      "1204/1204 [==============================] - 5s 4ms/step - loss: 146.1592\n",
      "Epoch 5/10\n",
      "1204/1204 [==============================] - 5s 4ms/step - loss: 104.1870\n",
      "Epoch 6/10\n",
      "1204/1204 [==============================] - 4s 4ms/step - loss: 51.0932\n",
      "Epoch 7/10\n",
      "1204/1204 [==============================] - 5s 4ms/step - loss: 21.4439\n",
      "Epoch 8/10\n",
      "1204/1204 [==============================] - 4s 4ms/step - loss: 17.0211\n",
      "Epoch 9/10\n",
      "1204/1204 [==============================] - 5s 4ms/step - loss: 14.9008\n",
      "Epoch 10/10\n",
      "1204/1204 [==============================] - 4s 4ms/step - loss: 13.1183\n"
     ]
    },
    {
     "name": "stderr",
     "output_type": "stream",
     "text": [
      "C:\\Users\\khsan\\anaconda3\\lib\\site-packages\\sklearn\\model_selection\\_validation.py:778: UserWarning: Scoring failed. The score on this train-test partition for these parameters will be set to nan. Details: \n",
      "Traceback (most recent call last):\n",
      "  File \"C:\\Users\\khsan\\anaconda3\\lib\\site-packages\\sklearn\\model_selection\\_validation.py\", line 767, in _score\n",
      "    scores = scorer(estimator, X_test, y_test)\n",
      "  File \"C:\\Users\\khsan\\anaconda3\\lib\\site-packages\\sklearn\\metrics\\_scorer.py\", line 234, in __call__\n",
      "    return self._score(\n",
      "  File \"C:\\Users\\khsan\\anaconda3\\lib\\site-packages\\sklearn\\metrics\\_scorer.py\", line 282, in _score\n",
      "    return self._sign * self._score_func(y_true, y_pred, **self._kwargs)\n",
      "  File \"C:\\Users\\khsan\\AppData\\Local\\Temp\\ipykernel_21092\\344946441.py\", line 31, in Accuracy_Score\n",
      "    MAPE = np.mean(100 * (np.abs(orig-pred)/orig))\n",
      "NameError: name 'np' is not defined\n",
      "\n",
      "  warnings.warn(\n"
     ]
    },
    {
     "name": "stdout",
     "output_type": "stream",
     "text": [
      "Epoch 1/20\n",
      "1204/1204 [==============================] - 6s 4ms/step - loss: 1284.6340\n",
      "Epoch 2/20\n",
      "1204/1204 [==============================] - 5s 4ms/step - loss: 173.0456\n",
      "Epoch 3/20\n",
      "1204/1204 [==============================] - 5s 4ms/step - loss: 122.2928\n",
      "Epoch 4/20\n",
      "1204/1204 [==============================] - 5s 4ms/step - loss: 48.8600\n",
      "Epoch 5/20\n",
      "1204/1204 [==============================] - 5s 4ms/step - loss: 17.3457\n",
      "Epoch 6/20\n",
      "1204/1204 [==============================] - 5s 4ms/step - loss: 12.4140\n",
      "Epoch 7/20\n",
      "1204/1204 [==============================] - 5s 4ms/step - loss: 10.3552\n",
      "Epoch 8/20\n",
      "1204/1204 [==============================] - 4s 4ms/step - loss: 9.1023\n",
      "Epoch 9/20\n",
      "1204/1204 [==============================] - 5s 4ms/step - loss: 8.2100\n",
      "Epoch 10/20\n",
      "1204/1204 [==============================] - 5s 4ms/step - loss: 7.4690\n",
      "Epoch 11/20\n",
      "1204/1204 [==============================] - 5s 4ms/step - loss: 6.9699\n",
      "Epoch 12/20\n",
      "1204/1204 [==============================] - 5s 4ms/step - loss: 6.6758\n",
      "Epoch 13/20\n",
      "1204/1204 [==============================] - 5s 4ms/step - loss: 6.3471\n",
      "Epoch 14/20\n",
      "1204/1204 [==============================] - 5s 4ms/step - loss: 6.2319\n",
      "Epoch 15/20\n",
      "1204/1204 [==============================] - 5s 4ms/step - loss: 6.0534\n",
      "Epoch 16/20\n",
      "1204/1204 [==============================] - 5s 4ms/step - loss: 5.8947\n",
      "Epoch 17/20\n",
      "1204/1204 [==============================] - 5s 4ms/step - loss: 5.7645\n",
      "Epoch 18/20\n",
      "1204/1204 [==============================] - 5s 4ms/step - loss: 5.7680\n",
      "Epoch 19/20\n",
      "1204/1204 [==============================] - 5s 4ms/step - loss: 5.7243\n",
      "Epoch 20/20\n",
      "1204/1204 [==============================] - 5s 4ms/step - loss: 5.6758\n"
     ]
    },
    {
     "name": "stderr",
     "output_type": "stream",
     "text": [
      "C:\\Users\\khsan\\anaconda3\\lib\\site-packages\\sklearn\\model_selection\\_validation.py:778: UserWarning: Scoring failed. The score on this train-test partition for these parameters will be set to nan. Details: \n",
      "Traceback (most recent call last):\n",
      "  File \"C:\\Users\\khsan\\anaconda3\\lib\\site-packages\\sklearn\\model_selection\\_validation.py\", line 767, in _score\n",
      "    scores = scorer(estimator, X_test, y_test)\n",
      "  File \"C:\\Users\\khsan\\anaconda3\\lib\\site-packages\\sklearn\\metrics\\_scorer.py\", line 234, in __call__\n",
      "    return self._score(\n",
      "  File \"C:\\Users\\khsan\\anaconda3\\lib\\site-packages\\sklearn\\metrics\\_scorer.py\", line 282, in _score\n",
      "    return self._sign * self._score_func(y_true, y_pred, **self._kwargs)\n",
      "  File \"C:\\Users\\khsan\\AppData\\Local\\Temp\\ipykernel_21092\\344946441.py\", line 31, in Accuracy_Score\n",
      "    MAPE = np.mean(100 * (np.abs(orig-pred)/orig))\n",
      "NameError: name 'np' is not defined\n",
      "\n",
      "  warnings.warn(\n"
     ]
    },
    {
     "name": "stdout",
     "output_type": "stream",
     "text": [
      "Epoch 1/20\n",
      "1204/1204 [==============================] - 6s 4ms/step - loss: 1952.1329\n",
      "Epoch 2/20\n",
      "1204/1204 [==============================] - 5s 4ms/step - loss: 225.5001\n",
      "Epoch 3/20\n",
      "1204/1204 [==============================] - 5s 4ms/step - loss: 189.3999\n",
      "Epoch 4/20\n",
      "1204/1204 [==============================] - 5s 4ms/step - loss: 139.0774\n",
      "Epoch 5/20\n",
      "1204/1204 [==============================] - 5s 4ms/step - loss: 67.9086\n",
      "Epoch 6/20\n",
      "1204/1204 [==============================] - 5s 4ms/step - loss: 25.4362\n",
      "Epoch 7/20\n",
      "1204/1204 [==============================] - 5s 4ms/step - loss: 19.8706\n",
      "Epoch 8/20\n",
      "1204/1204 [==============================] - 5s 4ms/step - loss: 16.9287\n",
      "Epoch 9/20\n",
      "1204/1204 [==============================] - 5s 4ms/step - loss: 14.4753\n",
      "Epoch 10/20\n",
      "1204/1204 [==============================] - 5s 4ms/step - loss: 12.3738\n",
      "Epoch 11/20\n",
      "1204/1204 [==============================] - 5s 4ms/step - loss: 10.6156\n",
      "Epoch 12/20\n",
      "1204/1204 [==============================] - 5s 4ms/step - loss: 9.2111\n",
      "Epoch 13/20\n",
      "1204/1204 [==============================] - 5s 4ms/step - loss: 8.0974\n",
      "Epoch 14/20\n",
      "1204/1204 [==============================] - 5s 4ms/step - loss: 7.1492\n",
      "Epoch 15/20\n",
      "1204/1204 [==============================] - 5s 4ms/step - loss: 6.3632\n",
      "Epoch 16/20\n",
      "1204/1204 [==============================] - 5s 4ms/step - loss: 5.8832\n",
      "Epoch 17/20\n",
      "1204/1204 [==============================] - 5s 4ms/step - loss: 5.3640\n",
      "Epoch 18/20\n",
      "1204/1204 [==============================] - 5s 4ms/step - loss: 5.0455\n",
      "Epoch 19/20\n",
      "1204/1204 [==============================] - 5s 4ms/step - loss: 4.8013\n",
      "Epoch 20/20\n",
      "1204/1204 [==============================] - 5s 4ms/step - loss: 4.6259\n"
     ]
    },
    {
     "name": "stderr",
     "output_type": "stream",
     "text": [
      "C:\\Users\\khsan\\anaconda3\\lib\\site-packages\\sklearn\\model_selection\\_validation.py:778: UserWarning: Scoring failed. The score on this train-test partition for these parameters will be set to nan. Details: \n",
      "Traceback (most recent call last):\n",
      "  File \"C:\\Users\\khsan\\anaconda3\\lib\\site-packages\\sklearn\\model_selection\\_validation.py\", line 767, in _score\n",
      "    scores = scorer(estimator, X_test, y_test)\n",
      "  File \"C:\\Users\\khsan\\anaconda3\\lib\\site-packages\\sklearn\\metrics\\_scorer.py\", line 234, in __call__\n",
      "    return self._score(\n",
      "  File \"C:\\Users\\khsan\\anaconda3\\lib\\site-packages\\sklearn\\metrics\\_scorer.py\", line 282, in _score\n",
      "    return self._sign * self._score_func(y_true, y_pred, **self._kwargs)\n",
      "  File \"C:\\Users\\khsan\\AppData\\Local\\Temp\\ipykernel_21092\\344946441.py\", line 31, in Accuracy_Score\n",
      "    MAPE = np.mean(100 * (np.abs(orig-pred)/orig))\n",
      "NameError: name 'np' is not defined\n",
      "\n",
      "  warnings.warn(\n"
     ]
    },
    {
     "name": "stdout",
     "output_type": "stream",
     "text": [
      "Epoch 1/20\n",
      "1204/1204 [==============================] - 6s 4ms/step - loss: 1404.8302\n",
      "Epoch 2/20\n",
      "1204/1204 [==============================] - 5s 4ms/step - loss: 178.5149\n",
      "Epoch 3/20\n",
      "1204/1204 [==============================] - 5s 4ms/step - loss: 136.3296\n",
      "Epoch 4/20\n",
      "1204/1204 [==============================] - 5s 4ms/step - loss: 74.6219\n",
      "Epoch 5/20\n",
      "1204/1204 [==============================] - 5s 4ms/step - loss: 27.0652\n",
      "Epoch 6/20\n",
      "1204/1204 [==============================] - 5s 4ms/step - loss: 19.9734\n",
      "Epoch 7/20\n",
      "1204/1204 [==============================] - 5s 4ms/step - loss: 16.7069\n",
      "Epoch 8/20\n",
      "1204/1204 [==============================] - 5s 4ms/step - loss: 14.3233\n",
      "Epoch 9/20\n",
      "1204/1204 [==============================] - 5s 4ms/step - loss: 12.0276\n",
      "Epoch 10/20\n",
      "1204/1204 [==============================] - 5s 4ms/step - loss: 10.4105\n",
      "Epoch 11/20\n",
      "1204/1204 [==============================] - 5s 4ms/step - loss: 8.8847\n",
      "Epoch 12/20\n",
      "1204/1204 [==============================] - 5s 4ms/step - loss: 8.0257\n",
      "Epoch 13/20\n",
      "1204/1204 [==============================] - 5s 4ms/step - loss: 7.0303\n",
      "Epoch 14/20\n",
      "1204/1204 [==============================] - 5s 4ms/step - loss: 6.3990\n",
      "Epoch 15/20\n",
      "1204/1204 [==============================] - 5s 4ms/step - loss: 5.9428\n",
      "Epoch 16/20\n",
      "1204/1204 [==============================] - 5s 4ms/step - loss: 5.6443\n",
      "Epoch 17/20\n",
      "1204/1204 [==============================] - 5s 4ms/step - loss: 5.4193\n",
      "Epoch 18/20\n",
      "1204/1204 [==============================] - 5s 4ms/step - loss: 5.2475\n",
      "Epoch 19/20\n",
      "1204/1204 [==============================] - 5s 4ms/step - loss: 5.1256\n",
      "Epoch 20/20\n",
      "1204/1204 [==============================] - 5s 4ms/step - loss: 4.9368\n"
     ]
    },
    {
     "name": "stderr",
     "output_type": "stream",
     "text": [
      "C:\\Users\\khsan\\anaconda3\\lib\\site-packages\\sklearn\\model_selection\\_validation.py:778: UserWarning: Scoring failed. The score on this train-test partition for these parameters will be set to nan. Details: \n",
      "Traceback (most recent call last):\n",
      "  File \"C:\\Users\\khsan\\anaconda3\\lib\\site-packages\\sklearn\\model_selection\\_validation.py\", line 767, in _score\n",
      "    scores = scorer(estimator, X_test, y_test)\n",
      "  File \"C:\\Users\\khsan\\anaconda3\\lib\\site-packages\\sklearn\\metrics\\_scorer.py\", line 234, in __call__\n",
      "    return self._score(\n",
      "  File \"C:\\Users\\khsan\\anaconda3\\lib\\site-packages\\sklearn\\metrics\\_scorer.py\", line 282, in _score\n",
      "    return self._sign * self._score_func(y_true, y_pred, **self._kwargs)\n",
      "  File \"C:\\Users\\khsan\\AppData\\Local\\Temp\\ipykernel_21092\\344946441.py\", line 31, in Accuracy_Score\n",
      "    MAPE = np.mean(100 * (np.abs(orig-pred)/orig))\n",
      "NameError: name 'np' is not defined\n",
      "\n",
      "  warnings.warn(\n"
     ]
    },
    {
     "name": "stdout",
     "output_type": "stream",
     "text": [
      "Epoch 1/20\n",
      "1204/1204 [==============================] - 6s 4ms/step - loss: 18031.7148\n",
      "Epoch 2/20\n",
      "1204/1204 [==============================] - 5s 4ms/step - loss: 17711.9160\n",
      "Epoch 3/20\n",
      "1204/1204 [==============================] - 5s 4ms/step - loss: 17395.4414\n",
      "Epoch 4/20\n",
      "1204/1204 [==============================] - 5s 4ms/step - loss: 17081.7734\n",
      "Epoch 5/20\n",
      "1204/1204 [==============================] - 5s 4ms/step - loss: 16771.4531\n",
      "Epoch 6/20\n",
      "1204/1204 [==============================] - 5s 4ms/step - loss: 16463.5820\n",
      "Epoch 7/20\n",
      "1204/1204 [==============================] - 5s 4ms/step - loss: 16158.7139\n",
      "Epoch 8/20\n",
      "1204/1204 [==============================] - 5s 4ms/step - loss: 15856.5107\n",
      "Epoch 9/20\n",
      "1204/1204 [==============================] - 5s 4ms/step - loss: 15557.4482\n",
      "Epoch 10/20\n",
      "1204/1204 [==============================] - 5s 4ms/step - loss: 15261.5732\n",
      "Epoch 11/20\n",
      "1204/1204 [==============================] - 5s 4ms/step - loss: 14968.1670\n",
      "Epoch 12/20\n",
      "1204/1204 [==============================] - 5s 4ms/step - loss: 14677.9111\n",
      "Epoch 13/20\n",
      "1204/1204 [==============================] - 5s 4ms/step - loss: 14390.4141\n",
      "Epoch 14/20\n",
      "1204/1204 [==============================] - 4s 4ms/step - loss: 14105.8721\n",
      "Epoch 15/20\n",
      "1204/1204 [==============================] - 5s 4ms/step - loss: 13824.1064\n",
      "Epoch 16/20\n",
      "1204/1204 [==============================] - 5s 4ms/step - loss: 13545.5859\n",
      "Epoch 17/20\n",
      "1204/1204 [==============================] - 5s 4ms/step - loss: 13269.4150\n",
      "Epoch 18/20\n",
      "1204/1204 [==============================] - 5s 4ms/step - loss: 12996.5420\n",
      "Epoch 19/20\n",
      "1204/1204 [==============================] - 5s 4ms/step - loss: 12726.7031\n",
      "Epoch 20/20\n",
      "1204/1204 [==============================] - 5s 4ms/step - loss: 12459.3213\n"
     ]
    },
    {
     "name": "stderr",
     "output_type": "stream",
     "text": [
      "C:\\Users\\khsan\\anaconda3\\lib\\site-packages\\sklearn\\model_selection\\_validation.py:778: UserWarning: Scoring failed. The score on this train-test partition for these parameters will be set to nan. Details: \n",
      "Traceback (most recent call last):\n",
      "  File \"C:\\Users\\khsan\\anaconda3\\lib\\site-packages\\sklearn\\model_selection\\_validation.py\", line 767, in _score\n",
      "    scores = scorer(estimator, X_test, y_test)\n",
      "  File \"C:\\Users\\khsan\\anaconda3\\lib\\site-packages\\sklearn\\metrics\\_scorer.py\", line 234, in __call__\n",
      "    return self._score(\n",
      "  File \"C:\\Users\\khsan\\anaconda3\\lib\\site-packages\\sklearn\\metrics\\_scorer.py\", line 282, in _score\n",
      "    return self._sign * self._score_func(y_true, y_pred, **self._kwargs)\n",
      "  File \"C:\\Users\\khsan\\AppData\\Local\\Temp\\ipykernel_21092\\344946441.py\", line 31, in Accuracy_Score\n",
      "    MAPE = np.mean(100 * (np.abs(orig-pred)/orig))\n",
      "NameError: name 'np' is not defined\n",
      "\n",
      "  warnings.warn(\n"
     ]
    },
    {
     "name": "stdout",
     "output_type": "stream",
     "text": [
      "Epoch 1/20\n",
      "1204/1204 [==============================] - 6s 4ms/step - loss: 1238.2943\n",
      "Epoch 2/20\n",
      "1204/1204 [==============================] - 5s 4ms/step - loss: 175.7823\n",
      "Epoch 3/20\n",
      "1204/1204 [==============================] - 5s 4ms/step - loss: 106.2477\n",
      "Epoch 4/20\n",
      "1204/1204 [==============================] - 5s 4ms/step - loss: 31.3583\n",
      "Epoch 5/20\n",
      "1204/1204 [==============================] - 5s 4ms/step - loss: 20.3998\n",
      "Epoch 6/20\n",
      "1204/1204 [==============================] - 5s 4ms/step - loss: 17.1253\n",
      "Epoch 7/20\n",
      "1204/1204 [==============================] - 5s 4ms/step - loss: 14.1997\n",
      "Epoch 8/20\n",
      "1204/1204 [==============================] - 5s 4ms/step - loss: 12.4991\n",
      "Epoch 9/20\n",
      "1204/1204 [==============================] - 5s 4ms/step - loss: 10.9166\n",
      "Epoch 10/20\n",
      "1204/1204 [==============================] - 5s 4ms/step - loss: 9.8322\n",
      "Epoch 11/20\n",
      "1204/1204 [==============================] - 5s 4ms/step - loss: 8.6347\n",
      "Epoch 12/20\n",
      "1204/1204 [==============================] - 5s 4ms/step - loss: 7.9415\n",
      "Epoch 13/20\n",
      "1204/1204 [==============================] - 5s 4ms/step - loss: 7.4947\n",
      "Epoch 14/20\n",
      "1204/1204 [==============================] - 5s 4ms/step - loss: 7.0461\n",
      "Epoch 15/20\n",
      "1204/1204 [==============================] - 5s 4ms/step - loss: 6.7334\n",
      "Epoch 16/20\n",
      "1204/1204 [==============================] - 5s 4ms/step - loss: 6.4083\n",
      "Epoch 17/20\n",
      "1204/1204 [==============================] - 5s 4ms/step - loss: 6.2326\n",
      "Epoch 18/20\n",
      "1204/1204 [==============================] - 5s 4ms/step - loss: 6.0672\n",
      "Epoch 19/20\n",
      "1204/1204 [==============================] - 5s 4ms/step - loss: 6.0600\n",
      "Epoch 20/20\n",
      "1204/1204 [==============================] - 5s 4ms/step - loss: 5.8448\n"
     ]
    },
    {
     "name": "stderr",
     "output_type": "stream",
     "text": [
      "C:\\Users\\khsan\\anaconda3\\lib\\site-packages\\sklearn\\model_selection\\_validation.py:778: UserWarning: Scoring failed. The score on this train-test partition for these parameters will be set to nan. Details: \n",
      "Traceback (most recent call last):\n",
      "  File \"C:\\Users\\khsan\\anaconda3\\lib\\site-packages\\sklearn\\model_selection\\_validation.py\", line 767, in _score\n",
      "    scores = scorer(estimator, X_test, y_test)\n",
      "  File \"C:\\Users\\khsan\\anaconda3\\lib\\site-packages\\sklearn\\metrics\\_scorer.py\", line 234, in __call__\n",
      "    return self._score(\n",
      "  File \"C:\\Users\\khsan\\anaconda3\\lib\\site-packages\\sklearn\\metrics\\_scorer.py\", line 282, in _score\n",
      "    return self._sign * self._score_func(y_true, y_pred, **self._kwargs)\n",
      "  File \"C:\\Users\\khsan\\AppData\\Local\\Temp\\ipykernel_21092\\344946441.py\", line 31, in Accuracy_Score\n",
      "    MAPE = np.mean(100 * (np.abs(orig-pred)/orig))\n",
      "NameError: name 'np' is not defined\n",
      "\n",
      "  warnings.warn(\n"
     ]
    },
    {
     "name": "stdout",
     "output_type": "stream",
     "text": [
      "Epoch 1/10\n",
      "602/602 [==============================] - 3s 4ms/step - loss: 2958.4265\n",
      "Epoch 2/10\n",
      "602/602 [==============================] - 2s 4ms/step - loss: 196.7234\n",
      "Epoch 3/10\n",
      "602/602 [==============================] - 2s 4ms/step - loss: 177.9201\n",
      "Epoch 4/10\n",
      "602/602 [==============================] - 2s 4ms/step - loss: 155.8173\n",
      "Epoch 5/10\n",
      "602/602 [==============================] - 2s 4ms/step - loss: 127.9083\n",
      "Epoch 6/10\n",
      "602/602 [==============================] - 2s 4ms/step - loss: 91.0005\n",
      "Epoch 7/10\n",
      "602/602 [==============================] - 2s 4ms/step - loss: 48.1147\n",
      "Epoch 8/10\n",
      "602/602 [==============================] - 2s 4ms/step - loss: 22.6903\n",
      "Epoch 9/10\n",
      "602/602 [==============================] - 2s 4ms/step - loss: 17.2682\n",
      "Epoch 10/10\n",
      "602/602 [==============================] - 2s 4ms/step - loss: 15.0966\n"
     ]
    },
    {
     "name": "stderr",
     "output_type": "stream",
     "text": [
      "C:\\Users\\khsan\\anaconda3\\lib\\site-packages\\sklearn\\model_selection\\_validation.py:778: UserWarning: Scoring failed. The score on this train-test partition for these parameters will be set to nan. Details: \n",
      "Traceback (most recent call last):\n",
      "  File \"C:\\Users\\khsan\\anaconda3\\lib\\site-packages\\sklearn\\model_selection\\_validation.py\", line 767, in _score\n",
      "    scores = scorer(estimator, X_test, y_test)\n",
      "  File \"C:\\Users\\khsan\\anaconda3\\lib\\site-packages\\sklearn\\metrics\\_scorer.py\", line 234, in __call__\n",
      "    return self._score(\n",
      "  File \"C:\\Users\\khsan\\anaconda3\\lib\\site-packages\\sklearn\\metrics\\_scorer.py\", line 282, in _score\n",
      "    return self._sign * self._score_func(y_true, y_pred, **self._kwargs)\n",
      "  File \"C:\\Users\\khsan\\AppData\\Local\\Temp\\ipykernel_21092\\344946441.py\", line 31, in Accuracy_Score\n",
      "    MAPE = np.mean(100 * (np.abs(orig-pred)/orig))\n",
      "NameError: name 'np' is not defined\n",
      "\n",
      "  warnings.warn(\n"
     ]
    },
    {
     "name": "stdout",
     "output_type": "stream",
     "text": [
      "Epoch 1/10\n",
      "602/602 [==============================] - 3s 4ms/step - loss: 18494.1699\n",
      "Epoch 2/10\n",
      "602/602 [==============================] - 2s 4ms/step - loss: 18332.2422\n",
      "Epoch 3/10\n",
      "602/602 [==============================] - 2s 4ms/step - loss: 18170.8477\n",
      "Epoch 4/10\n",
      "602/602 [==============================] - 2s 4ms/step - loss: 18010.2305\n",
      "Epoch 5/10\n",
      "602/602 [==============================] - 2s 4ms/step - loss: 17850.3418\n",
      "Epoch 6/10\n",
      "602/602 [==============================] - 2s 4ms/step - loss: 17691.1836\n",
      "Epoch 7/10\n",
      "602/602 [==============================] - 2s 4ms/step - loss: 17532.7637\n",
      "Epoch 8/10\n",
      "602/602 [==============================] - 2s 4ms/step - loss: 17375.0273\n",
      "Epoch 9/10\n",
      "602/602 [==============================] - 2s 4ms/step - loss: 17218.1660\n",
      "Epoch 10/10\n",
      "602/602 [==============================] - 2s 4ms/step - loss: 17061.8965\n"
     ]
    },
    {
     "name": "stderr",
     "output_type": "stream",
     "text": [
      "C:\\Users\\khsan\\anaconda3\\lib\\site-packages\\sklearn\\model_selection\\_validation.py:778: UserWarning: Scoring failed. The score on this train-test partition for these parameters will be set to nan. Details: \n",
      "Traceback (most recent call last):\n",
      "  File \"C:\\Users\\khsan\\anaconda3\\lib\\site-packages\\sklearn\\model_selection\\_validation.py\", line 767, in _score\n",
      "    scores = scorer(estimator, X_test, y_test)\n",
      "  File \"C:\\Users\\khsan\\anaconda3\\lib\\site-packages\\sklearn\\metrics\\_scorer.py\", line 234, in __call__\n",
      "    return self._score(\n",
      "  File \"C:\\Users\\khsan\\anaconda3\\lib\\site-packages\\sklearn\\metrics\\_scorer.py\", line 282, in _score\n",
      "    return self._sign * self._score_func(y_true, y_pred, **self._kwargs)\n",
      "  File \"C:\\Users\\khsan\\AppData\\Local\\Temp\\ipykernel_21092\\344946441.py\", line 31, in Accuracy_Score\n",
      "    MAPE = np.mean(100 * (np.abs(orig-pred)/orig))\n",
      "NameError: name 'np' is not defined\n",
      "\n",
      "  warnings.warn(\n"
     ]
    },
    {
     "name": "stdout",
     "output_type": "stream",
     "text": [
      "Epoch 1/10\n",
      "602/602 [==============================] - 3s 4ms/step - loss: 3275.5229\n",
      "Epoch 2/10\n",
      "602/602 [==============================] - 2s 4ms/step - loss: 204.1675\n",
      "Epoch 3/10\n",
      "602/602 [==============================] - 2s 4ms/step - loss: 185.4368\n",
      "Epoch 4/10\n",
      "602/602 [==============================] - 2s 4ms/step - loss: 163.8271\n",
      "Epoch 5/10\n",
      "602/602 [==============================] - 2s 4ms/step - loss: 137.8511\n",
      "Epoch 6/10\n",
      "602/602 [==============================] - 2s 4ms/step - loss: 102.9202\n",
      "Epoch 7/10\n",
      "602/602 [==============================] - 2s 4ms/step - loss: 59.9480\n",
      "Epoch 8/10\n",
      "602/602 [==============================] - 2s 4ms/step - loss: 28.3643\n",
      "Epoch 9/10\n",
      "602/602 [==============================] - 2s 4ms/step - loss: 19.6961\n",
      "Epoch 10/10\n",
      "602/602 [==============================] - 2s 4ms/step - loss: 17.4084\n"
     ]
    },
    {
     "name": "stderr",
     "output_type": "stream",
     "text": [
      "C:\\Users\\khsan\\anaconda3\\lib\\site-packages\\sklearn\\model_selection\\_validation.py:778: UserWarning: Scoring failed. The score on this train-test partition for these parameters will be set to nan. Details: \n",
      "Traceback (most recent call last):\n",
      "  File \"C:\\Users\\khsan\\anaconda3\\lib\\site-packages\\sklearn\\model_selection\\_validation.py\", line 767, in _score\n",
      "    scores = scorer(estimator, X_test, y_test)\n",
      "  File \"C:\\Users\\khsan\\anaconda3\\lib\\site-packages\\sklearn\\metrics\\_scorer.py\", line 234, in __call__\n",
      "    return self._score(\n",
      "  File \"C:\\Users\\khsan\\anaconda3\\lib\\site-packages\\sklearn\\metrics\\_scorer.py\", line 282, in _score\n",
      "    return self._sign * self._score_func(y_true, y_pred, **self._kwargs)\n",
      "  File \"C:\\Users\\khsan\\AppData\\Local\\Temp\\ipykernel_21092\\344946441.py\", line 31, in Accuracy_Score\n",
      "    MAPE = np.mean(100 * (np.abs(orig-pred)/orig))\n",
      "NameError: name 'np' is not defined\n",
      "\n",
      "  warnings.warn(\n"
     ]
    },
    {
     "name": "stdout",
     "output_type": "stream",
     "text": [
      "Epoch 1/10\n",
      "602/602 [==============================] - 3s 3ms/step - loss: 18111.5137\n",
      "Epoch 2/10\n",
      "602/602 [==============================] - 2s 4ms/step - loss: 17951.0273\n",
      "Epoch 3/10\n",
      "602/602 [==============================] - 352s 586ms/step - loss: 17791.2344\n",
      "Epoch 4/10\n",
      "602/602 [==============================] - 1s 995us/step - loss: 17632.2773\n",
      "Epoch 5/10\n",
      "602/602 [==============================] - 1s 2ms/step - loss: 17474.0020\n",
      "Epoch 6/10\n",
      "602/602 [==============================] - 1s 1ms/step - loss: 17316.5195\n",
      "Epoch 7/10\n",
      "602/602 [==============================] - 1s 1ms/step - loss: 17159.5723\n",
      "Epoch 8/10\n",
      "602/602 [==============================] - 1s 1ms/step - loss: 17003.4219\n",
      "Epoch 9/10\n",
      "602/602 [==============================] - 1s 1ms/step - loss: 16848.1211\n",
      "Epoch 10/10\n",
      "602/602 [==============================] - 2s 4ms/step - loss: 16693.4512\n"
     ]
    },
    {
     "name": "stderr",
     "output_type": "stream",
     "text": [
      "C:\\Users\\khsan\\anaconda3\\lib\\site-packages\\sklearn\\model_selection\\_validation.py:778: UserWarning: Scoring failed. The score on this train-test partition for these parameters will be set to nan. Details: \n",
      "Traceback (most recent call last):\n",
      "  File \"C:\\Users\\khsan\\anaconda3\\lib\\site-packages\\sklearn\\model_selection\\_validation.py\", line 767, in _score\n",
      "    scores = scorer(estimator, X_test, y_test)\n",
      "  File \"C:\\Users\\khsan\\anaconda3\\lib\\site-packages\\sklearn\\metrics\\_scorer.py\", line 234, in __call__\n",
      "    return self._score(\n",
      "  File \"C:\\Users\\khsan\\anaconda3\\lib\\site-packages\\sklearn\\metrics\\_scorer.py\", line 282, in _score\n",
      "    return self._sign * self._score_func(y_true, y_pred, **self._kwargs)\n",
      "  File \"C:\\Users\\khsan\\AppData\\Local\\Temp\\ipykernel_21092\\344946441.py\", line 31, in Accuracy_Score\n",
      "    MAPE = np.mean(100 * (np.abs(orig-pred)/orig))\n",
      "NameError: name 'np' is not defined\n",
      "\n",
      "  warnings.warn(\n"
     ]
    },
    {
     "name": "stdout",
     "output_type": "stream",
     "text": [
      "Epoch 1/10\n",
      "602/602 [==============================] - 3s 4ms/step - loss: 18355.9805\n",
      "Epoch 2/10\n",
      "602/602 [==============================] - 3s 4ms/step - loss: 18194.3770\n",
      "Epoch 3/10\n",
      "602/602 [==============================] - 3s 5ms/step - loss: 18033.5703\n",
      "Epoch 4/10\n",
      "602/602 [==============================] - 3s 4ms/step - loss: 17873.4512\n",
      "Epoch 5/10\n",
      "602/602 [==============================] - 2s 4ms/step - loss: 17714.0352\n",
      "Epoch 6/10\n",
      "602/602 [==============================] - 2s 4ms/step - loss: 17555.3711\n",
      "Epoch 7/10\n",
      "602/602 [==============================] - 3s 4ms/step - loss: 17397.4141\n",
      "Epoch 8/10\n",
      "602/602 [==============================] - 2s 4ms/step - loss: 17240.1191\n",
      "Epoch 9/10\n",
      "602/602 [==============================] - 3s 4ms/step - loss: 17083.5938\n",
      "Epoch 10/10\n",
      "602/602 [==============================] - 3s 4ms/step - loss: 16927.8379\n"
     ]
    },
    {
     "name": "stderr",
     "output_type": "stream",
     "text": [
      "C:\\Users\\khsan\\anaconda3\\lib\\site-packages\\sklearn\\model_selection\\_validation.py:778: UserWarning: Scoring failed. The score on this train-test partition for these parameters will be set to nan. Details: \n",
      "Traceback (most recent call last):\n",
      "  File \"C:\\Users\\khsan\\anaconda3\\lib\\site-packages\\sklearn\\model_selection\\_validation.py\", line 767, in _score\n",
      "    scores = scorer(estimator, X_test, y_test)\n",
      "  File \"C:\\Users\\khsan\\anaconda3\\lib\\site-packages\\sklearn\\metrics\\_scorer.py\", line 234, in __call__\n",
      "    return self._score(\n",
      "  File \"C:\\Users\\khsan\\anaconda3\\lib\\site-packages\\sklearn\\metrics\\_scorer.py\", line 282, in _score\n",
      "    return self._sign * self._score_func(y_true, y_pred, **self._kwargs)\n",
      "  File \"C:\\Users\\khsan\\AppData\\Local\\Temp\\ipykernel_21092\\344946441.py\", line 31, in Accuracy_Score\n",
      "    MAPE = np.mean(100 * (np.abs(orig-pred)/orig))\n",
      "NameError: name 'np' is not defined\n",
      "\n",
      "  warnings.warn(\n"
     ]
    },
    {
     "name": "stdout",
     "output_type": "stream",
     "text": [
      "Epoch 1/20\n",
      "602/602 [==============================] - 4s 4ms/step - loss: 18000.0664\n",
      "Epoch 2/20\n",
      "602/602 [==============================] - 2s 4ms/step - loss: 17634.0020\n",
      "Epoch 3/20\n",
      "602/602 [==============================] - 3s 4ms/step - loss: 17081.1211\n",
      "Epoch 4/20\n",
      "602/602 [==============================] - 2s 4ms/step - loss: 16352.3379\n",
      "Epoch 5/20\n",
      "602/602 [==============================] - 2s 4ms/step - loss: 15459.1875\n",
      "Epoch 6/20\n",
      "602/602 [==============================] - 3s 4ms/step - loss: 14418.6328\n",
      "Epoch 7/20\n",
      "602/602 [==============================] - 3s 5ms/step - loss: 13248.3428\n",
      "Epoch 8/20\n",
      "602/602 [==============================] - 3s 4ms/step - loss: 11972.5723\n",
      "Epoch 9/20\n",
      "602/602 [==============================] - 2s 4ms/step - loss: 10614.6006\n",
      "Epoch 10/20\n",
      "602/602 [==============================] - 3s 5ms/step - loss: 9204.1250\n",
      "Epoch 11/20\n",
      "602/602 [==============================] - 2s 4ms/step - loss: 7769.3008\n",
      "Epoch 12/20\n",
      "602/602 [==============================] - 2s 4ms/step - loss: 6345.0269\n",
      "Epoch 13/20\n",
      "602/602 [==============================] - 2s 4ms/step - loss: 4974.4014\n",
      "Epoch 14/20\n",
      "602/602 [==============================] - 2s 4ms/step - loss: 3692.7061\n",
      "Epoch 15/20\n",
      "602/602 [==============================] - 2s 4ms/step - loss: 2545.0481\n",
      "Epoch 16/20\n",
      "602/602 [==============================] - 2s 4ms/step - loss: 1577.5240\n",
      "Epoch 17/20\n",
      "602/602 [==============================] - 2s 4ms/step - loss: 840.8840\n",
      "Epoch 18/20\n",
      "602/602 [==============================] - 2s 4ms/step - loss: 384.7097\n",
      "Epoch 19/20\n",
      "602/602 [==============================] - 2s 4ms/step - loss: 234.0725\n",
      "Epoch 20/20\n",
      "602/602 [==============================] - 2s 4ms/step - loss: 228.7599\n"
     ]
    },
    {
     "name": "stderr",
     "output_type": "stream",
     "text": [
      "C:\\Users\\khsan\\anaconda3\\lib\\site-packages\\sklearn\\model_selection\\_validation.py:778: UserWarning: Scoring failed. The score on this train-test partition for these parameters will be set to nan. Details: \n",
      "Traceback (most recent call last):\n",
      "  File \"C:\\Users\\khsan\\anaconda3\\lib\\site-packages\\sklearn\\model_selection\\_validation.py\", line 767, in _score\n",
      "    scores = scorer(estimator, X_test, y_test)\n",
      "  File \"C:\\Users\\khsan\\anaconda3\\lib\\site-packages\\sklearn\\metrics\\_scorer.py\", line 234, in __call__\n",
      "    return self._score(\n",
      "  File \"C:\\Users\\khsan\\anaconda3\\lib\\site-packages\\sklearn\\metrics\\_scorer.py\", line 282, in _score\n",
      "    return self._sign * self._score_func(y_true, y_pred, **self._kwargs)\n",
      "  File \"C:\\Users\\khsan\\AppData\\Local\\Temp\\ipykernel_21092\\344946441.py\", line 31, in Accuracy_Score\n",
      "    MAPE = np.mean(100 * (np.abs(orig-pred)/orig))\n",
      "NameError: name 'np' is not defined\n",
      "\n",
      "  warnings.warn(\n"
     ]
    },
    {
     "name": "stdout",
     "output_type": "stream",
     "text": [
      "Epoch 1/20\n",
      "602/602 [==============================] - 4s 4ms/step - loss: 3710.8020\n",
      "Epoch 2/20\n",
      "602/602 [==============================] - 2s 4ms/step - loss: 244.8070\n",
      "Epoch 3/20\n",
      "602/602 [==============================] - 2s 4ms/step - loss: 221.7355\n",
      "Epoch 4/20\n",
      "602/602 [==============================] - 2s 4ms/step - loss: 195.7442\n",
      "Epoch 5/20\n",
      "602/602 [==============================] - 2s 4ms/step - loss: 162.6908\n",
      "Epoch 6/20\n",
      "602/602 [==============================] - 2s 4ms/step - loss: 118.1390\n",
      "Epoch 7/20\n",
      "602/602 [==============================] - 2s 4ms/step - loss: 61.3927\n",
      "Epoch 8/20\n",
      "602/602 [==============================] - 2s 4ms/step - loss: 26.8828\n",
      "Epoch 9/20\n",
      "602/602 [==============================] - 2s 4ms/step - loss: 20.4603\n",
      "Epoch 10/20\n",
      "602/602 [==============================] - 2s 4ms/step - loss: 18.4430\n",
      "Epoch 11/20\n",
      "602/602 [==============================] - 2s 4ms/step - loss: 16.3586\n",
      "Epoch 12/20\n",
      "602/602 [==============================] - 2s 4ms/step - loss: 14.4807\n",
      "Epoch 13/20\n",
      "602/602 [==============================] - 2s 4ms/step - loss: 13.3051\n",
      "Epoch 14/20\n",
      "602/602 [==============================] - 2s 4ms/step - loss: 11.7955\n",
      "Epoch 15/20\n",
      "602/602 [==============================] - 2s 4ms/step - loss: 10.8251\n",
      "Epoch 16/20\n",
      "602/602 [==============================] - 2s 4ms/step - loss: 9.8483\n",
      "Epoch 17/20\n",
      "602/602 [==============================] - 2s 4ms/step - loss: 8.9757\n",
      "Epoch 18/20\n",
      "602/602 [==============================] - 2s 4ms/step - loss: 8.2056\n",
      "Epoch 19/20\n",
      "602/602 [==============================] - 2s 4ms/step - loss: 7.5436\n",
      "Epoch 20/20\n",
      "602/602 [==============================] - 2s 4ms/step - loss: 7.1492\n"
     ]
    },
    {
     "name": "stderr",
     "output_type": "stream",
     "text": [
      "C:\\Users\\khsan\\anaconda3\\lib\\site-packages\\sklearn\\model_selection\\_validation.py:778: UserWarning: Scoring failed. The score on this train-test partition for these parameters will be set to nan. Details: \n",
      "Traceback (most recent call last):\n",
      "  File \"C:\\Users\\khsan\\anaconda3\\lib\\site-packages\\sklearn\\model_selection\\_validation.py\", line 767, in _score\n",
      "    scores = scorer(estimator, X_test, y_test)\n",
      "  File \"C:\\Users\\khsan\\anaconda3\\lib\\site-packages\\sklearn\\metrics\\_scorer.py\", line 234, in __call__\n",
      "    return self._score(\n",
      "  File \"C:\\Users\\khsan\\anaconda3\\lib\\site-packages\\sklearn\\metrics\\_scorer.py\", line 282, in _score\n",
      "    return self._sign * self._score_func(y_true, y_pred, **self._kwargs)\n",
      "  File \"C:\\Users\\khsan\\AppData\\Local\\Temp\\ipykernel_21092\\344946441.py\", line 31, in Accuracy_Score\n",
      "    MAPE = np.mean(100 * (np.abs(orig-pred)/orig))\n",
      "NameError: name 'np' is not defined\n",
      "\n",
      "  warnings.warn(\n"
     ]
    },
    {
     "name": "stdout",
     "output_type": "stream",
     "text": [
      "Epoch 1/20\n",
      "602/602 [==============================] - 3s 4ms/step - loss: 2120.3462\n",
      "Epoch 2/20\n",
      "602/602 [==============================] - 2s 4ms/step - loss: 199.4553\n",
      "Epoch 3/20\n",
      "602/602 [==============================] - 2s 4ms/step - loss: 177.0482\n",
      "Epoch 4/20\n",
      "602/602 [==============================] - 2s 4ms/step - loss: 148.1804\n",
      "Epoch 5/20\n",
      "602/602 [==============================] - 2s 4ms/step - loss: 109.2412\n",
      "Epoch 6/20\n",
      "602/602 [==============================] - 2s 4ms/step - loss: 58.9609\n",
      "Epoch 7/20\n",
      "602/602 [==============================] - 2s 4ms/step - loss: 26.8596\n",
      "Epoch 8/20\n",
      "602/602 [==============================] - 2s 4ms/step - loss: 20.5750\n",
      "Epoch 9/20\n",
      "602/602 [==============================] - 2s 4ms/step - loss: 18.2501\n",
      "Epoch 10/20\n",
      "602/602 [==============================] - 2s 4ms/step - loss: 16.2424\n",
      "Epoch 11/20\n",
      "602/602 [==============================] - 2s 4ms/step - loss: 14.7276\n",
      "Epoch 12/20\n",
      "602/602 [==============================] - 2s 4ms/step - loss: 13.2111\n",
      "Epoch 13/20\n",
      "602/602 [==============================] - 2s 4ms/step - loss: 11.9373\n",
      "Epoch 14/20\n",
      "602/602 [==============================] - 2s 4ms/step - loss: 10.6918\n",
      "Epoch 15/20\n",
      "602/602 [==============================] - 2s 4ms/step - loss: 9.9724\n",
      "Epoch 16/20\n",
      "602/602 [==============================] - 2s 4ms/step - loss: 9.2476\n",
      "Epoch 17/20\n",
      "602/602 [==============================] - 2s 4ms/step - loss: 8.3641\n",
      "Epoch 18/20\n",
      "602/602 [==============================] - 2s 4ms/step - loss: 7.8904\n",
      "Epoch 19/20\n",
      "602/602 [==============================] - 2s 4ms/step - loss: 7.5225\n",
      "Epoch 20/20\n",
      "602/602 [==============================] - 2s 4ms/step - loss: 7.0950\n"
     ]
    },
    {
     "name": "stderr",
     "output_type": "stream",
     "text": [
      "C:\\Users\\khsan\\anaconda3\\lib\\site-packages\\sklearn\\model_selection\\_validation.py:778: UserWarning: Scoring failed. The score on this train-test partition for these parameters will be set to nan. Details: \n",
      "Traceback (most recent call last):\n",
      "  File \"C:\\Users\\khsan\\anaconda3\\lib\\site-packages\\sklearn\\model_selection\\_validation.py\", line 767, in _score\n",
      "    scores = scorer(estimator, X_test, y_test)\n",
      "  File \"C:\\Users\\khsan\\anaconda3\\lib\\site-packages\\sklearn\\metrics\\_scorer.py\", line 234, in __call__\n",
      "    return self._score(\n",
      "  File \"C:\\Users\\khsan\\anaconda3\\lib\\site-packages\\sklearn\\metrics\\_scorer.py\", line 282, in _score\n",
      "    return self._sign * self._score_func(y_true, y_pred, **self._kwargs)\n",
      "  File \"C:\\Users\\khsan\\AppData\\Local\\Temp\\ipykernel_21092\\344946441.py\", line 31, in Accuracy_Score\n",
      "    MAPE = np.mean(100 * (np.abs(orig-pred)/orig))\n",
      "NameError: name 'np' is not defined\n",
      "\n",
      "  warnings.warn(\n"
     ]
    },
    {
     "name": "stdout",
     "output_type": "stream",
     "text": [
      "Epoch 1/20\n",
      "602/602 [==============================] - 4s 4ms/step - loss: 4163.2017\n",
      "Epoch 2/20\n",
      "602/602 [==============================] - 2s 4ms/step - loss: 222.2908\n",
      "Epoch 3/20\n",
      "602/602 [==============================] - 2s 4ms/step - loss: 205.2715\n",
      "Epoch 4/20\n",
      "602/602 [==============================] - 2s 4ms/step - loss: 186.3450\n",
      "Epoch 5/20\n",
      "602/602 [==============================] - 2s 4ms/step - loss: 164.0860\n",
      "Epoch 6/20\n",
      "602/602 [==============================] - 2s 4ms/step - loss: 135.8886\n",
      "Epoch 7/20\n",
      "602/602 [==============================] - 2s 4ms/step - loss: 100.5576\n",
      "Epoch 8/20\n",
      "602/602 [==============================] - 2s 4ms/step - loss: 58.0956\n",
      "Epoch 9/20\n",
      "602/602 [==============================] - 2s 4ms/step - loss: 27.9027\n",
      "Epoch 10/20\n",
      "602/602 [==============================] - 2s 4ms/step - loss: 20.9161\n",
      "Epoch 11/20\n",
      "602/602 [==============================] - 2s 4ms/step - loss: 18.9151\n",
      "Epoch 12/20\n",
      "602/602 [==============================] - 2s 4ms/step - loss: 17.0290\n",
      "Epoch 13/20\n",
      "602/602 [==============================] - 2s 4ms/step - loss: 15.4981\n",
      "Epoch 14/20\n",
      "602/602 [==============================] - 2s 4ms/step - loss: 14.1065\n",
      "Epoch 15/20\n",
      "602/602 [==============================] - 2s 4ms/step - loss: 12.7954\n",
      "Epoch 16/20\n",
      "602/602 [==============================] - 2s 4ms/step - loss: 11.6984\n",
      "Epoch 17/20\n",
      "602/602 [==============================] - 2s 4ms/step - loss: 10.6464\n",
      "Epoch 18/20\n",
      "602/602 [==============================] - 2s 4ms/step - loss: 9.7778\n",
      "Epoch 19/20\n",
      "602/602 [==============================] - 2s 4ms/step - loss: 9.1105\n",
      "Epoch 20/20\n",
      "602/602 [==============================] - 2s 4ms/step - loss: 8.5019\n"
     ]
    },
    {
     "name": "stderr",
     "output_type": "stream",
     "text": [
      "C:\\Users\\khsan\\anaconda3\\lib\\site-packages\\sklearn\\model_selection\\_validation.py:778: UserWarning: Scoring failed. The score on this train-test partition for these parameters will be set to nan. Details: \n",
      "Traceback (most recent call last):\n",
      "  File \"C:\\Users\\khsan\\anaconda3\\lib\\site-packages\\sklearn\\model_selection\\_validation.py\", line 767, in _score\n",
      "    scores = scorer(estimator, X_test, y_test)\n",
      "  File \"C:\\Users\\khsan\\anaconda3\\lib\\site-packages\\sklearn\\metrics\\_scorer.py\", line 234, in __call__\n",
      "    return self._score(\n",
      "  File \"C:\\Users\\khsan\\anaconda3\\lib\\site-packages\\sklearn\\metrics\\_scorer.py\", line 282, in _score\n",
      "    return self._sign * self._score_func(y_true, y_pred, **self._kwargs)\n",
      "  File \"C:\\Users\\khsan\\AppData\\Local\\Temp\\ipykernel_21092\\344946441.py\", line 31, in Accuracy_Score\n",
      "    MAPE = np.mean(100 * (np.abs(orig-pred)/orig))\n",
      "NameError: name 'np' is not defined\n",
      "\n",
      "  warnings.warn(\n"
     ]
    },
    {
     "name": "stdout",
     "output_type": "stream",
     "text": [
      "Epoch 1/20\n",
      "602/602 [==============================] - 3s 4ms/step - loss: 1925.5077\n",
      "Epoch 2/20\n",
      "602/602 [==============================] - 2s 4ms/step - loss: 214.2526\n",
      "Epoch 3/20\n",
      "602/602 [==============================] - 2s 4ms/step - loss: 186.1441\n",
      "Epoch 4/20\n",
      "602/602 [==============================] - 2s 4ms/step - loss: 150.1242\n",
      "Epoch 5/20\n",
      "602/602 [==============================] - 2s 4ms/step - loss: 97.6588\n",
      "Epoch 6/20\n",
      "602/602 [==============================] - 2s 4ms/step - loss: 40.1119\n",
      "Epoch 7/20\n",
      "602/602 [==============================] - 2s 4ms/step - loss: 23.7191\n",
      "Epoch 8/20\n",
      "602/602 [==============================] - 2s 4ms/step - loss: 19.1086\n",
      "Epoch 9/20\n",
      "602/602 [==============================] - 2s 4ms/step - loss: 15.2304\n",
      "Epoch 10/20\n",
      "602/602 [==============================] - 2s 4ms/step - loss: 13.6403\n",
      "Epoch 11/20\n",
      "602/602 [==============================] - 2s 4ms/step - loss: 12.8451\n",
      "Epoch 12/20\n",
      "602/602 [==============================] - 2s 4ms/step - loss: 11.9812\n",
      "Epoch 13/20\n",
      "602/602 [==============================] - 2s 4ms/step - loss: 11.2030\n",
      "Epoch 14/20\n",
      "602/602 [==============================] - 2s 4ms/step - loss: 10.6254\n",
      "Epoch 15/20\n",
      "602/602 [==============================] - 2s 4ms/step - loss: 10.2048\n",
      "Epoch 16/20\n",
      "602/602 [==============================] - 531s 883ms/step - loss: 9.6462\n",
      "Epoch 17/20\n",
      "602/602 [==============================] - 1s 1ms/step - loss: 9.3018\n",
      "Epoch 18/20\n",
      "602/602 [==============================] - 1s 2ms/step - loss: 8.9973\n",
      "Epoch 19/20\n",
      "602/602 [==============================] - 1s 1ms/step - loss: 8.6144\n",
      "Epoch 20/20\n",
      "602/602 [==============================] - 1s 1ms/step - loss: 8.2874\n",
      "Epoch 1/10\n"
     ]
    },
    {
     "name": "stderr",
     "output_type": "stream",
     "text": [
      "C:\\Users\\khsan\\anaconda3\\lib\\site-packages\\sklearn\\model_selection\\_validation.py:778: UserWarning: Scoring failed. The score on this train-test partition for these parameters will be set to nan. Details: \n",
      "Traceback (most recent call last):\n",
      "  File \"C:\\Users\\khsan\\anaconda3\\lib\\site-packages\\sklearn\\model_selection\\_validation.py\", line 767, in _score\n",
      "    scores = scorer(estimator, X_test, y_test)\n",
      "  File \"C:\\Users\\khsan\\anaconda3\\lib\\site-packages\\sklearn\\metrics\\_scorer.py\", line 234, in __call__\n",
      "    return self._score(\n",
      "  File \"C:\\Users\\khsan\\anaconda3\\lib\\site-packages\\sklearn\\metrics\\_scorer.py\", line 282, in _score\n",
      "    return self._sign * self._score_func(y_true, y_pred, **self._kwargs)\n",
      "  File \"C:\\Users\\khsan\\AppData\\Local\\Temp\\ipykernel_21092\\344946441.py\", line 31, in Accuracy_Score\n",
      "    MAPE = np.mean(100 * (np.abs(orig-pred)/orig))\n",
      "NameError: name 'np' is not defined\n",
      "\n",
      "  warnings.warn(\n"
     ]
    },
    {
     "name": "stdout",
     "output_type": "stream",
     "text": [
      "402/402 [==============================] - 1s 2ms/step - loss: 4237.9668\n",
      "Epoch 2/10\n",
      "402/402 [==============================] - 2s 5ms/step - loss: 204.2019\n",
      "Epoch 3/10\n",
      "402/402 [==============================] - 2s 5ms/step - loss: 189.0900\n",
      "Epoch 4/10\n",
      "402/402 [==============================] - 2s 5ms/step - loss: 173.7591\n",
      "Epoch 5/10\n",
      "402/402 [==============================] - 2s 5ms/step - loss: 155.2200\n",
      "Epoch 6/10\n",
      "402/402 [==============================] - 2s 4ms/step - loss: 133.4001\n",
      "Epoch 7/10\n",
      "402/402 [==============================] - 2s 4ms/step - loss: 105.3028\n",
      "Epoch 8/10\n",
      "402/402 [==============================] - 2s 4ms/step - loss: 71.2517\n",
      "Epoch 9/10\n",
      "402/402 [==============================] - 2s 4ms/step - loss: 38.8473\n",
      "Epoch 10/10\n",
      "402/402 [==============================] - 2s 4ms/step - loss: 22.0369\n"
     ]
    },
    {
     "name": "stderr",
     "output_type": "stream",
     "text": [
      "C:\\Users\\khsan\\anaconda3\\lib\\site-packages\\sklearn\\model_selection\\_validation.py:778: UserWarning: Scoring failed. The score on this train-test partition for these parameters will be set to nan. Details: \n",
      "Traceback (most recent call last):\n",
      "  File \"C:\\Users\\khsan\\anaconda3\\lib\\site-packages\\sklearn\\model_selection\\_validation.py\", line 767, in _score\n",
      "    scores = scorer(estimator, X_test, y_test)\n",
      "  File \"C:\\Users\\khsan\\anaconda3\\lib\\site-packages\\sklearn\\metrics\\_scorer.py\", line 234, in __call__\n",
      "    return self._score(\n",
      "  File \"C:\\Users\\khsan\\anaconda3\\lib\\site-packages\\sklearn\\metrics\\_scorer.py\", line 282, in _score\n",
      "    return self._sign * self._score_func(y_true, y_pred, **self._kwargs)\n",
      "  File \"C:\\Users\\khsan\\AppData\\Local\\Temp\\ipykernel_21092\\344946441.py\", line 31, in Accuracy_Score\n",
      "    MAPE = np.mean(100 * (np.abs(orig-pred)/orig))\n",
      "NameError: name 'np' is not defined\n",
      "\n",
      "  warnings.warn(\n"
     ]
    },
    {
     "name": "stdout",
     "output_type": "stream",
     "text": [
      "Epoch 1/10\n",
      "402/402 [==============================] - 3s 4ms/step - loss: 18521.7012\n",
      "Epoch 2/10\n",
      "402/402 [==============================] - 2s 4ms/step - loss: 18412.8594\n",
      "Epoch 3/10\n",
      "402/402 [==============================] - 2s 4ms/step - loss: 18304.8359\n",
      "Epoch 4/10\n",
      "402/402 [==============================] - 2s 4ms/step - loss: 18197.0605\n",
      "Epoch 5/10\n",
      "402/402 [==============================] - 2s 4ms/step - loss: 18089.6582\n",
      "Epoch 6/10\n",
      "402/402 [==============================] - 2s 4ms/step - loss: 17982.5664\n",
      "Epoch 7/10\n",
      "402/402 [==============================] - 2s 4ms/step - loss: 17875.7832\n",
      "Epoch 8/10\n",
      "402/402 [==============================] - 2s 4ms/step - loss: 17769.3672\n",
      "Epoch 9/10\n",
      "402/402 [==============================] - 2s 4ms/step - loss: 17663.2188\n",
      "Epoch 10/10\n",
      "402/402 [==============================] - 2s 4ms/step - loss: 17557.4141\n"
     ]
    },
    {
     "name": "stderr",
     "output_type": "stream",
     "text": [
      "C:\\Users\\khsan\\anaconda3\\lib\\site-packages\\sklearn\\model_selection\\_validation.py:778: UserWarning: Scoring failed. The score on this train-test partition for these parameters will be set to nan. Details: \n",
      "Traceback (most recent call last):\n",
      "  File \"C:\\Users\\khsan\\anaconda3\\lib\\site-packages\\sklearn\\model_selection\\_validation.py\", line 767, in _score\n",
      "    scores = scorer(estimator, X_test, y_test)\n",
      "  File \"C:\\Users\\khsan\\anaconda3\\lib\\site-packages\\sklearn\\metrics\\_scorer.py\", line 234, in __call__\n",
      "    return self._score(\n",
      "  File \"C:\\Users\\khsan\\anaconda3\\lib\\site-packages\\sklearn\\metrics\\_scorer.py\", line 282, in _score\n",
      "    return self._sign * self._score_func(y_true, y_pred, **self._kwargs)\n",
      "  File \"C:\\Users\\khsan\\AppData\\Local\\Temp\\ipykernel_21092\\344946441.py\", line 31, in Accuracy_Score\n",
      "    MAPE = np.mean(100 * (np.abs(orig-pred)/orig))\n",
      "NameError: name 'np' is not defined\n",
      "\n",
      "  warnings.warn(\n"
     ]
    },
    {
     "name": "stdout",
     "output_type": "stream",
     "text": [
      "Epoch 1/10\n",
      "402/402 [==============================] - 3s 4ms/step - loss: 17898.2949\n",
      "Epoch 2/10\n",
      "402/402 [==============================] - 2s 4ms/step - loss: 17791.5332\n",
      "Epoch 3/10\n",
      "402/402 [==============================] - 2s 4ms/step - loss: 17685.2500\n",
      "Epoch 4/10\n",
      "402/402 [==============================] - 2s 4ms/step - loss: 17579.2461\n",
      "Epoch 5/10\n",
      "402/402 [==============================] - 2s 4ms/step - loss: 17473.6055\n",
      "Epoch 6/10\n",
      "402/402 [==============================] - 2s 4ms/step - loss: 17368.2129\n",
      "Epoch 7/10\n",
      "402/402 [==============================] - 2s 4ms/step - loss: 17263.1582\n",
      "Epoch 8/10\n",
      "402/402 [==============================] - 2s 4ms/step - loss: 17158.4375\n",
      "Epoch 9/10\n",
      "402/402 [==============================] - 2s 4ms/step - loss: 17054.0371\n",
      "Epoch 10/10\n",
      "402/402 [==============================] - 2s 4ms/step - loss: 16950.0156\n"
     ]
    },
    {
     "name": "stderr",
     "output_type": "stream",
     "text": [
      "C:\\Users\\khsan\\anaconda3\\lib\\site-packages\\sklearn\\model_selection\\_validation.py:778: UserWarning: Scoring failed. The score on this train-test partition for these parameters will be set to nan. Details: \n",
      "Traceback (most recent call last):\n",
      "  File \"C:\\Users\\khsan\\anaconda3\\lib\\site-packages\\sklearn\\model_selection\\_validation.py\", line 767, in _score\n",
      "    scores = scorer(estimator, X_test, y_test)\n",
      "  File \"C:\\Users\\khsan\\anaconda3\\lib\\site-packages\\sklearn\\metrics\\_scorer.py\", line 234, in __call__\n",
      "    return self._score(\n",
      "  File \"C:\\Users\\khsan\\anaconda3\\lib\\site-packages\\sklearn\\metrics\\_scorer.py\", line 282, in _score\n",
      "    return self._sign * self._score_func(y_true, y_pred, **self._kwargs)\n",
      "  File \"C:\\Users\\khsan\\AppData\\Local\\Temp\\ipykernel_21092\\344946441.py\", line 31, in Accuracy_Score\n",
      "    MAPE = np.mean(100 * (np.abs(orig-pred)/orig))\n",
      "NameError: name 'np' is not defined\n",
      "\n",
      "  warnings.warn(\n"
     ]
    },
    {
     "name": "stdout",
     "output_type": "stream",
     "text": [
      "Epoch 1/10\n",
      "402/402 [==============================] - 3s 4ms/step - loss: 4139.7778\n",
      "Epoch 2/10\n",
      "402/402 [==============================] - 2s 4ms/step - loss: 225.5009\n",
      "Epoch 3/10\n",
      "402/402 [==============================] - 2s 4ms/step - loss: 201.8262\n",
      "Epoch 4/10\n",
      "402/402 [==============================] - 2s 4ms/step - loss: 176.6080\n",
      "Epoch 5/10\n",
      "402/402 [==============================] - 2s 4ms/step - loss: 143.4416\n",
      "Epoch 6/10\n",
      "402/402 [==============================] - 2s 4ms/step - loss: 100.0459\n",
      "Epoch 7/10\n",
      "402/402 [==============================] - 2s 4ms/step - loss: 53.6606\n",
      "Epoch 8/10\n",
      "402/402 [==============================] - 2s 4ms/step - loss: 26.5698\n",
      "Epoch 9/10\n",
      "402/402 [==============================] - 2s 4ms/step - loss: 20.0073\n",
      "Epoch 10/10\n",
      "402/402 [==============================] - 2s 4ms/step - loss: 17.8027\n"
     ]
    },
    {
     "name": "stderr",
     "output_type": "stream",
     "text": [
      "C:\\Users\\khsan\\anaconda3\\lib\\site-packages\\sklearn\\model_selection\\_validation.py:778: UserWarning: Scoring failed. The score on this train-test partition for these parameters will be set to nan. Details: \n",
      "Traceback (most recent call last):\n",
      "  File \"C:\\Users\\khsan\\anaconda3\\lib\\site-packages\\sklearn\\model_selection\\_validation.py\", line 767, in _score\n",
      "    scores = scorer(estimator, X_test, y_test)\n",
      "  File \"C:\\Users\\khsan\\anaconda3\\lib\\site-packages\\sklearn\\metrics\\_scorer.py\", line 234, in __call__\n",
      "    return self._score(\n",
      "  File \"C:\\Users\\khsan\\anaconda3\\lib\\site-packages\\sklearn\\metrics\\_scorer.py\", line 282, in _score\n",
      "    return self._sign * self._score_func(y_true, y_pred, **self._kwargs)\n",
      "  File \"C:\\Users\\khsan\\AppData\\Local\\Temp\\ipykernel_21092\\344946441.py\", line 31, in Accuracy_Score\n",
      "    MAPE = np.mean(100 * (np.abs(orig-pred)/orig))\n",
      "NameError: name 'np' is not defined\n",
      "\n",
      "  warnings.warn(\n"
     ]
    },
    {
     "name": "stdout",
     "output_type": "stream",
     "text": [
      "Epoch 1/10\n",
      "402/402 [==============================] - 3s 4ms/step - loss: 8401.9023\n",
      "Epoch 2/10\n",
      "402/402 [==============================] - 2s 4ms/step - loss: 223.8541\n",
      "Epoch 3/10\n",
      "402/402 [==============================] - 2s 4ms/step - loss: 212.7335\n",
      "Epoch 4/10\n",
      "402/402 [==============================] - 2s 4ms/step - loss: 201.5642\n",
      "Epoch 5/10\n",
      "402/402 [==============================] - 2s 4ms/step - loss: 189.2847\n",
      "Epoch 6/10\n",
      "402/402 [==============================] - 2s 4ms/step - loss: 175.4276\n",
      "Epoch 7/10\n",
      "402/402 [==============================] - 2s 4ms/step - loss: 159.7727\n",
      "Epoch 8/10\n",
      "402/402 [==============================] - 2s 4ms/step - loss: 141.4885\n",
      "Epoch 9/10\n",
      "402/402 [==============================] - 2s 4ms/step - loss: 119.4425\n",
      "Epoch 10/10\n",
      "402/402 [==============================] - 2s 4ms/step - loss: 94.6595\n"
     ]
    },
    {
     "name": "stderr",
     "output_type": "stream",
     "text": [
      "C:\\Users\\khsan\\anaconda3\\lib\\site-packages\\sklearn\\model_selection\\_validation.py:778: UserWarning: Scoring failed. The score on this train-test partition for these parameters will be set to nan. Details: \n",
      "Traceback (most recent call last):\n",
      "  File \"C:\\Users\\khsan\\anaconda3\\lib\\site-packages\\sklearn\\model_selection\\_validation.py\", line 767, in _score\n",
      "    scores = scorer(estimator, X_test, y_test)\n",
      "  File \"C:\\Users\\khsan\\anaconda3\\lib\\site-packages\\sklearn\\metrics\\_scorer.py\", line 234, in __call__\n",
      "    return self._score(\n",
      "  File \"C:\\Users\\khsan\\anaconda3\\lib\\site-packages\\sklearn\\metrics\\_scorer.py\", line 282, in _score\n",
      "    return self._sign * self._score_func(y_true, y_pred, **self._kwargs)\n",
      "  File \"C:\\Users\\khsan\\AppData\\Local\\Temp\\ipykernel_21092\\344946441.py\", line 31, in Accuracy_Score\n",
      "    MAPE = np.mean(100 * (np.abs(orig-pred)/orig))\n",
      "NameError: name 'np' is not defined\n",
      "\n",
      "  warnings.warn(\n"
     ]
    },
    {
     "name": "stdout",
     "output_type": "stream",
     "text": [
      "Epoch 1/20\n",
      "402/402 [==============================] - 4s 4ms/step - loss: 4518.8052\n",
      "Epoch 2/20\n",
      "402/402 [==============================] - 2s 4ms/step - loss: 200.7022\n",
      "Epoch 3/20\n",
      "402/402 [==============================] - 2s 4ms/step - loss: 188.0577\n",
      "Epoch 4/20\n",
      "402/402 [==============================] - 2s 4ms/step - loss: 173.5126\n",
      "Epoch 5/20\n",
      "402/402 [==============================] - 2s 4ms/step - loss: 157.5972\n",
      "Epoch 6/20\n",
      "402/402 [==============================] - 2s 4ms/step - loss: 137.1798\n",
      "Epoch 7/20\n",
      "402/402 [==============================] - 2s 4ms/step - loss: 112.8896\n",
      "Epoch 8/20\n",
      "402/402 [==============================] - 2s 4ms/step - loss: 81.6900\n",
      "Epoch 9/20\n",
      "402/402 [==============================] - 2s 4ms/step - loss: 45.5524\n",
      "Epoch 10/20\n",
      "402/402 [==============================] - 2s 4ms/step - loss: 22.5446\n",
      "Epoch 11/20\n",
      "402/402 [==============================] - 2s 4ms/step - loss: 16.2851\n",
      "Epoch 12/20\n",
      "402/402 [==============================] - 2s 4ms/step - loss: 14.6017\n",
      "Epoch 13/20\n",
      "402/402 [==============================] - 2s 4ms/step - loss: 13.2371\n",
      "Epoch 14/20\n",
      "402/402 [==============================] - 2s 4ms/step - loss: 12.1027\n",
      "Epoch 15/20\n",
      "402/402 [==============================] - 2s 4ms/step - loss: 11.1500\n",
      "Epoch 16/20\n",
      "402/402 [==============================] - 2s 4ms/step - loss: 10.1346\n",
      "Epoch 17/20\n",
      "402/402 [==============================] - 2s 4ms/step - loss: 9.2879\n",
      "Epoch 18/20\n",
      "402/402 [==============================] - 2s 4ms/step - loss: 8.5787\n",
      "Epoch 19/20\n",
      "402/402 [==============================] - 2s 4ms/step - loss: 7.8085\n",
      "Epoch 20/20\n",
      "402/402 [==============================] - 2s 4ms/step - loss: 7.2810\n"
     ]
    },
    {
     "name": "stderr",
     "output_type": "stream",
     "text": [
      "C:\\Users\\khsan\\anaconda3\\lib\\site-packages\\sklearn\\model_selection\\_validation.py:778: UserWarning: Scoring failed. The score on this train-test partition for these parameters will be set to nan. Details: \n",
      "Traceback (most recent call last):\n",
      "  File \"C:\\Users\\khsan\\anaconda3\\lib\\site-packages\\sklearn\\model_selection\\_validation.py\", line 767, in _score\n",
      "    scores = scorer(estimator, X_test, y_test)\n",
      "  File \"C:\\Users\\khsan\\anaconda3\\lib\\site-packages\\sklearn\\metrics\\_scorer.py\", line 234, in __call__\n",
      "    return self._score(\n",
      "  File \"C:\\Users\\khsan\\anaconda3\\lib\\site-packages\\sklearn\\metrics\\_scorer.py\", line 282, in _score\n",
      "    return self._sign * self._score_func(y_true, y_pred, **self._kwargs)\n",
      "  File \"C:\\Users\\khsan\\AppData\\Local\\Temp\\ipykernel_21092\\344946441.py\", line 31, in Accuracy_Score\n",
      "    MAPE = np.mean(100 * (np.abs(orig-pred)/orig))\n",
      "NameError: name 'np' is not defined\n",
      "\n",
      "  warnings.warn(\n"
     ]
    },
    {
     "name": "stdout",
     "output_type": "stream",
     "text": [
      "Epoch 1/20\n",
      "402/402 [==============================] - 3s 4ms/step - loss: 3963.2456\n",
      "Epoch 2/20\n",
      "402/402 [==============================] - 2s 4ms/step - loss: 245.4347\n",
      "Epoch 3/20\n",
      "402/402 [==============================] - 2s 4ms/step - loss: 221.7474\n",
      "Epoch 4/20\n",
      "402/402 [==============================] - 2s 4ms/step - loss: 195.4164\n",
      "Epoch 5/20\n",
      "402/402 [==============================] - 2s 4ms/step - loss: 160.9643\n",
      "Epoch 6/20\n",
      "402/402 [==============================] - 2s 4ms/step - loss: 111.6568\n",
      "Epoch 7/20\n",
      "402/402 [==============================] - 2s 4ms/step - loss: 55.0297\n",
      "Epoch 8/20\n",
      "402/402 [==============================] - 2s 4ms/step - loss: 25.5993\n",
      "Epoch 9/20\n",
      "402/402 [==============================] - 2s 4ms/step - loss: 19.9613\n",
      "Epoch 10/20\n",
      "402/402 [==============================] - 2s 4ms/step - loss: 18.2219\n",
      "Epoch 11/20\n",
      "402/402 [==============================] - 2s 4ms/step - loss: 16.7603\n",
      "Epoch 12/20\n",
      "402/402 [==============================] - 2s 4ms/step - loss: 15.2424\n",
      "Epoch 13/20\n",
      "402/402 [==============================] - 2s 4ms/step - loss: 13.8658\n",
      "Epoch 14/20\n",
      "402/402 [==============================] - 2s 4ms/step - loss: 12.8688\n",
      "Epoch 15/20\n",
      "402/402 [==============================] - 2s 4ms/step - loss: 11.7490\n",
      "Epoch 16/20\n",
      "402/402 [==============================] - 2s 4ms/step - loss: 10.8240\n",
      "Epoch 17/20\n",
      "402/402 [==============================] - 2s 4ms/step - loss: 10.2280\n",
      "Epoch 18/20\n",
      "402/402 [==============================] - 2s 4ms/step - loss: 9.5476\n",
      "Epoch 19/20\n",
      "402/402 [==============================] - 2s 4ms/step - loss: 8.9492\n",
      "Epoch 20/20\n",
      "402/402 [==============================] - 2s 4ms/step - loss: 8.6616\n"
     ]
    },
    {
     "name": "stderr",
     "output_type": "stream",
     "text": [
      "C:\\Users\\khsan\\anaconda3\\lib\\site-packages\\sklearn\\model_selection\\_validation.py:778: UserWarning: Scoring failed. The score on this train-test partition for these parameters will be set to nan. Details: \n",
      "Traceback (most recent call last):\n",
      "  File \"C:\\Users\\khsan\\anaconda3\\lib\\site-packages\\sklearn\\model_selection\\_validation.py\", line 767, in _score\n",
      "    scores = scorer(estimator, X_test, y_test)\n",
      "  File \"C:\\Users\\khsan\\anaconda3\\lib\\site-packages\\sklearn\\metrics\\_scorer.py\", line 234, in __call__\n",
      "    return self._score(\n",
      "  File \"C:\\Users\\khsan\\anaconda3\\lib\\site-packages\\sklearn\\metrics\\_scorer.py\", line 282, in _score\n",
      "    return self._sign * self._score_func(y_true, y_pred, **self._kwargs)\n",
      "  File \"C:\\Users\\khsan\\AppData\\Local\\Temp\\ipykernel_21092\\344946441.py\", line 31, in Accuracy_Score\n",
      "    MAPE = np.mean(100 * (np.abs(orig-pred)/orig))\n",
      "NameError: name 'np' is not defined\n",
      "\n",
      "  warnings.warn(\n"
     ]
    },
    {
     "name": "stdout",
     "output_type": "stream",
     "text": [
      "Epoch 1/20\n",
      "402/402 [==============================] - 3s 4ms/step - loss: 5646.0923\n",
      "Epoch 2/20\n",
      "402/402 [==============================] - 2s 4ms/step - loss: 211.6626\n",
      "Epoch 3/20\n",
      "402/402 [==============================] - 2s 4ms/step - loss: 198.7620\n",
      "Epoch 4/20\n",
      "402/402 [==============================] - 2s 4ms/step - loss: 185.1153\n",
      "Epoch 5/20\n",
      "402/402 [==============================] - 2s 4ms/step - loss: 170.6194\n",
      "Epoch 6/20\n",
      "402/402 [==============================] - 2s 4ms/step - loss: 152.9218\n",
      "Epoch 7/20\n",
      "402/402 [==============================] - 2s 4ms/step - loss: 133.0666\n",
      "Epoch 8/20\n",
      "402/402 [==============================] - 2s 4ms/step - loss: 107.2748\n",
      "Epoch 9/20\n",
      "402/402 [==============================] - 2s 4ms/step - loss: 73.6923\n",
      "Epoch 10/20\n",
      "402/402 [==============================] - 2s 4ms/step - loss: 42.8160\n",
      "Epoch 11/20\n",
      "402/402 [==============================] - 2s 4ms/step - loss: 24.9695\n",
      "Epoch 12/20\n",
      "402/402 [==============================] - 2s 4ms/step - loss: 19.3694\n",
      "Epoch 13/20\n",
      "402/402 [==============================] - 2s 4ms/step - loss: 17.7521\n",
      "Epoch 14/20\n",
      "402/402 [==============================] - 2s 4ms/step - loss: 16.2146\n",
      "Epoch 15/20\n",
      "402/402 [==============================] - 2s 4ms/step - loss: 15.1076\n",
      "Epoch 16/20\n",
      "402/402 [==============================] - 2s 4ms/step - loss: 14.0390\n",
      "Epoch 17/20\n",
      "402/402 [==============================] - 2s 4ms/step - loss: 13.0427\n",
      "Epoch 18/20\n",
      "402/402 [==============================] - 2s 4ms/step - loss: 12.0665\n",
      "Epoch 19/20\n",
      "402/402 [==============================] - 2s 4ms/step - loss: 11.2607\n",
      "Epoch 20/20\n",
      "402/402 [==============================] - 2s 4ms/step - loss: 10.5417\n"
     ]
    },
    {
     "name": "stderr",
     "output_type": "stream",
     "text": [
      "C:\\Users\\khsan\\anaconda3\\lib\\site-packages\\sklearn\\model_selection\\_validation.py:778: UserWarning: Scoring failed. The score on this train-test partition for these parameters will be set to nan. Details: \n",
      "Traceback (most recent call last):\n",
      "  File \"C:\\Users\\khsan\\anaconda3\\lib\\site-packages\\sklearn\\model_selection\\_validation.py\", line 767, in _score\n",
      "    scores = scorer(estimator, X_test, y_test)\n",
      "  File \"C:\\Users\\khsan\\anaconda3\\lib\\site-packages\\sklearn\\metrics\\_scorer.py\", line 234, in __call__\n",
      "    return self._score(\n",
      "  File \"C:\\Users\\khsan\\anaconda3\\lib\\site-packages\\sklearn\\metrics\\_scorer.py\", line 282, in _score\n",
      "    return self._sign * self._score_func(y_true, y_pred, **self._kwargs)\n",
      "  File \"C:\\Users\\khsan\\AppData\\Local\\Temp\\ipykernel_21092\\344946441.py\", line 31, in Accuracy_Score\n",
      "    MAPE = np.mean(100 * (np.abs(orig-pred)/orig))\n",
      "NameError: name 'np' is not defined\n",
      "\n",
      "  warnings.warn(\n"
     ]
    },
    {
     "name": "stdout",
     "output_type": "stream",
     "text": [
      "Epoch 1/20\n",
      "402/402 [==============================] - 3s 4ms/step - loss: 3414.4160\n",
      "Epoch 2/20\n",
      "402/402 [==============================] - 2s 4ms/step - loss: 224.7481\n",
      "Epoch 3/20\n",
      "402/402 [==============================] - 2s 4ms/step - loss: 203.1088\n",
      "Epoch 4/20\n",
      "402/402 [==============================] - 2s 4ms/step - loss: 180.5383\n",
      "Epoch 5/20\n",
      "402/402 [==============================] - 2s 4ms/step - loss: 152.3361\n",
      "Epoch 6/20\n",
      "402/402 [==============================] - 2s 4ms/step - loss: 114.3324\n",
      "Epoch 7/20\n",
      "402/402 [==============================] - 2s 4ms/step - loss: 68.5849\n",
      "Epoch 8/20\n",
      "402/402 [==============================] - 2s 4ms/step - loss: 32.4273\n",
      "Epoch 9/20\n",
      "402/402 [==============================] - 2s 4ms/step - loss: 17.3227\n",
      "Epoch 10/20\n",
      "402/402 [==============================] - 1s 4ms/step - loss: 14.0526\n",
      "Epoch 11/20\n",
      "402/402 [==============================] - 1s 4ms/step - loss: 12.9279\n",
      "Epoch 12/20\n",
      "402/402 [==============================] - 1s 4ms/step - loss: 11.7085\n",
      "Epoch 13/20\n",
      "402/402 [==============================] - 1s 4ms/step - loss: 10.9929\n",
      "Epoch 14/20\n",
      "402/402 [==============================] - 1653s 4s/step - loss: 10.4229\n",
      "Epoch 15/20\n",
      "402/402 [==============================] - 1s 2ms/step - loss: 9.7046\n",
      "Epoch 16/20\n",
      "402/402 [==============================] - 0s 1ms/step - loss: 9.1572\n",
      "Epoch 17/20\n",
      "402/402 [==============================] - 1s 1ms/step - loss: 8.8497\n",
      "Epoch 18/20\n",
      "402/402 [==============================] - 0s 1ms/step - loss: 8.5195\n",
      "Epoch 19/20\n",
      "402/402 [==============================] - 1s 1ms/step - loss: 8.1843\n",
      "Epoch 20/20\n",
      "402/402 [==============================] - 1s 2ms/step - loss: 7.8403\n",
      "Epoch 1/20\n"
     ]
    },
    {
     "name": "stderr",
     "output_type": "stream",
     "text": [
      "C:\\Users\\khsan\\anaconda3\\lib\\site-packages\\sklearn\\model_selection\\_validation.py:778: UserWarning: Scoring failed. The score on this train-test partition for these parameters will be set to nan. Details: \n",
      "Traceback (most recent call last):\n",
      "  File \"C:\\Users\\khsan\\anaconda3\\lib\\site-packages\\sklearn\\model_selection\\_validation.py\", line 767, in _score\n",
      "    scores = scorer(estimator, X_test, y_test)\n",
      "  File \"C:\\Users\\khsan\\anaconda3\\lib\\site-packages\\sklearn\\metrics\\_scorer.py\", line 234, in __call__\n",
      "    return self._score(\n",
      "  File \"C:\\Users\\khsan\\anaconda3\\lib\\site-packages\\sklearn\\metrics\\_scorer.py\", line 282, in _score\n",
      "    return self._sign * self._score_func(y_true, y_pred, **self._kwargs)\n",
      "  File \"C:\\Users\\khsan\\AppData\\Local\\Temp\\ipykernel_21092\\344946441.py\", line 31, in Accuracy_Score\n",
      "    MAPE = np.mean(100 * (np.abs(orig-pred)/orig))\n",
      "NameError: name 'np' is not defined\n",
      "\n",
      "  warnings.warn(\n"
     ]
    },
    {
     "name": "stdout",
     "output_type": "stream",
     "text": [
      "402/402 [==============================] - 1s 2ms/step - loss: 5121.3130\n",
      "Epoch 2/20\n",
      "402/402 [==============================] - 2s 4ms/step - loss: 220.3503\n",
      "Epoch 3/20\n",
      "402/402 [==============================] - 2s 4ms/step - loss: 204.1852\n",
      "Epoch 4/20\n",
      "402/402 [==============================] - 2s 5ms/step - loss: 185.4949\n",
      "Epoch 5/20\n",
      "402/402 [==============================] - 2s 4ms/step - loss: 164.4861\n",
      "Epoch 6/20\n",
      "402/402 [==============================] - 2s 5ms/step - loss: 138.1382\n",
      "Epoch 7/20\n",
      "402/402 [==============================] - 2s 4ms/step - loss: 103.9279\n",
      "Epoch 8/20\n",
      "402/402 [==============================] - 2s 5ms/step - loss: 64.4183\n",
      "Epoch 9/20\n",
      "402/402 [==============================] - 2s 4ms/step - loss: 30.4915\n",
      "Epoch 10/20\n",
      "402/402 [==============================] - 2s 5ms/step - loss: 18.9188\n",
      "Epoch 11/20\n",
      "402/402 [==============================] - 2s 5ms/step - loss: 16.3403\n",
      "Epoch 12/20\n",
      "402/402 [==============================] - 2s 5ms/step - loss: 14.8479\n",
      "Epoch 13/20\n",
      "402/402 [==============================] - 2s 5ms/step - loss: 13.8241\n",
      "Epoch 14/20\n",
      "402/402 [==============================] - 2s 5ms/step - loss: 12.8572\n",
      "Epoch 15/20\n",
      "402/402 [==============================] - 2s 4ms/step - loss: 11.8141\n",
      "Epoch 16/20\n",
      "402/402 [==============================] - 2s 4ms/step - loss: 11.1317\n",
      "Epoch 17/20\n",
      "402/402 [==============================] - 2s 4ms/step - loss: 10.3567\n",
      "Epoch 18/20\n",
      "402/402 [==============================] - 2s 4ms/step - loss: 9.5228\n",
      "Epoch 19/20\n",
      "402/402 [==============================] - 2s 5ms/step - loss: 9.0165\n",
      "Epoch 20/20\n",
      "402/402 [==============================] - 2s 4ms/step - loss: 8.4089\n"
     ]
    },
    {
     "name": "stderr",
     "output_type": "stream",
     "text": [
      "C:\\Users\\khsan\\anaconda3\\lib\\site-packages\\sklearn\\model_selection\\_validation.py:778: UserWarning: Scoring failed. The score on this train-test partition for these parameters will be set to nan. Details: \n",
      "Traceback (most recent call last):\n",
      "  File \"C:\\Users\\khsan\\anaconda3\\lib\\site-packages\\sklearn\\model_selection\\_validation.py\", line 767, in _score\n",
      "    scores = scorer(estimator, X_test, y_test)\n",
      "  File \"C:\\Users\\khsan\\anaconda3\\lib\\site-packages\\sklearn\\metrics\\_scorer.py\", line 234, in __call__\n",
      "    return self._score(\n",
      "  File \"C:\\Users\\khsan\\anaconda3\\lib\\site-packages\\sklearn\\metrics\\_scorer.py\", line 282, in _score\n",
      "    return self._sign * self._score_func(y_true, y_pred, **self._kwargs)\n",
      "  File \"C:\\Users\\khsan\\AppData\\Local\\Temp\\ipykernel_21092\\344946441.py\", line 31, in Accuracy_Score\n",
      "    MAPE = np.mean(100 * (np.abs(orig-pred)/orig))\n",
      "NameError: name 'np' is not defined\n",
      "\n",
      "  warnings.warn(\n",
      "C:\\Users\\khsan\\anaconda3\\lib\\site-packages\\sklearn\\model_selection\\_search.py:952: UserWarning: One or more of the test scores are non-finite: [nan nan nan nan nan nan nan nan nan nan nan nan]\n",
      "  warnings.warn(\n"
     ]
    },
    {
     "name": "stdout",
     "output_type": "stream",
     "text": [
      "Epoch 1/10\n",
      "1504/1504 [==============================] - 8s 4ms/step - loss: 1210.3743\n",
      "Epoch 2/10\n",
      "1504/1504 [==============================] - 6s 4ms/step - loss: 191.7276\n",
      "Epoch 3/10\n",
      "1504/1504 [==============================] - 6s 4ms/step - loss: 130.9809\n",
      "Epoch 4/10\n",
      "1504/1504 [==============================] - 7s 5ms/step - loss: 46.0327\n",
      "Epoch 5/10\n",
      "1504/1504 [==============================] - 7s 4ms/step - loss: 15.8981\n",
      "Epoch 6/10\n",
      "1504/1504 [==============================] - 6s 4ms/step - loss: 8.7868\n",
      "Epoch 7/10\n",
      "1504/1504 [==============================] - 7s 4ms/step - loss: 6.9568\n",
      "Epoch 8/10\n",
      "1504/1504 [==============================] - 7s 5ms/step - loss: 5.7124\n",
      "Epoch 9/10\n",
      "1504/1504 [==============================] - 6s 4ms/step - loss: 4.8538\n",
      "Epoch 10/10\n",
      "1504/1504 [==============================] - 7s 4ms/step - loss: 4.1771\n",
      "########## Total Time Taken:  92 Minutes\n",
      "### Printing Best parameters ###\n"
     ]
    },
    {
     "data": {
      "text/plain": [
       "{'Optimizer_trial': 'adam', 'batch_size': 10, 'epochs': 10}"
      ]
     },
     "execution_count": 41,
     "metadata": {},
     "output_type": "execute_result"
    }
   ],
   "source": [
    "def make_regression_ann(Optimizer_trial):\n",
    "    from keras.models import Sequential\n",
    "    from keras.layers import Dense\n",
    "    \n",
    "    model = Sequential()\n",
    "    model.add(Dense(units=5, input_dim=10, kernel_initializer='normal', activation='relu'))\n",
    "    model.add(Dense(units=5, kernel_initializer='normal', activation='relu'))\n",
    "    model.add(Dense(1, kernel_initializer='normal'))\n",
    "    model.compile(loss='mean_squared_error', optimizer=Optimizer_trial)\n",
    "    return model\n",
    " \n",
    "###########################################\n",
    "from sklearn.model_selection import GridSearchCV\n",
    "from scikeras.wrappers import KerasRegressor\n",
    " \n",
    "# Listing all the parameters to try\n",
    "Parameter_Trials={'batch_size':[10,20,30],\n",
    "                      'epochs':[10,20],\n",
    "                    'Optimizer_trial':['adam', 'rmsprop']\n",
    "                 }\n",
    " \n",
    "# Creating the regression ANN model\n",
    "adam=Adam(lr=0.01)\n",
    "RegModel=KerasRegressor(make_regression_ann, verbose=0,Optimizer_trial=adam)\n",
    " \n",
    "###########################################\n",
    "from sklearn.metrics import make_scorer\n",
    " \n",
    "# Defining a custom function to calculate accuracy\n",
    "def Accuracy_Score(orig,pred):\n",
    "    MAPE = np.mean(100 * (np.abs(orig-pred)/orig))\n",
    "    print('#'*70,'Accuracy:', 100-MAPE)\n",
    "    return(100-MAPE)\n",
    " \n",
    "custom_Scoring=make_scorer(Accuracy_Score, greater_is_better=True)\n",
    " \n",
    "#########################################\n",
    "# Creating the Grid search space\n",
    "# See different scoring methods by using sklearn.metrics.SCORERS.keys()\n",
    "grid_search=GridSearchCV(estimator=RegModel, \n",
    "                         param_grid=Parameter_Trials, \n",
    "                         scoring=custom_Scoring, \n",
    "                         cv=5)\n",
    " \n",
    "#########################################\n",
    "# Measuring how much time it took to find the best params\n",
    "import time\n",
    "StartTime=time.time()\n",
    " \n",
    "# Running Grid Search for different paramenters\n",
    "grid_search.fit(x1,y1, verbose=1)\n",
    " \n",
    "EndTime=time.time()\n",
    "print(\"########## Total Time Taken: \", round((EndTime-StartTime)/60), 'Minutes')\n",
    " \n",
    "print('### Printing Best parameters ###')\n",
    "grid_search.best_params_"
   ]
  },
  {
   "cell_type": "code",
   "execution_count": 42,
   "id": "3cb437e8",
   "metadata": {},
   "outputs": [],
   "source": [
    "model=KerasRegressor(make_regression_ann, verbose=0,Optimizer_trial=adam)"
   ]
  },
  {
   "cell_type": "code",
   "execution_count": 43,
   "id": "9ad2ba79",
   "metadata": {},
   "outputs": [
    {
     "data": {
      "text/html": [
       "<style>#sk-container-id-7 {color: black;background-color: white;}#sk-container-id-7 pre{padding: 0;}#sk-container-id-7 div.sk-toggleable {background-color: white;}#sk-container-id-7 label.sk-toggleable__label {cursor: pointer;display: block;width: 100%;margin-bottom: 0;padding: 0.3em;box-sizing: border-box;text-align: center;}#sk-container-id-7 label.sk-toggleable__label-arrow:before {content: \"▸\";float: left;margin-right: 0.25em;color: #696969;}#sk-container-id-7 label.sk-toggleable__label-arrow:hover:before {color: black;}#sk-container-id-7 div.sk-estimator:hover label.sk-toggleable__label-arrow:before {color: black;}#sk-container-id-7 div.sk-toggleable__content {max-height: 0;max-width: 0;overflow: hidden;text-align: left;background-color: #f0f8ff;}#sk-container-id-7 div.sk-toggleable__content pre {margin: 0.2em;color: black;border-radius: 0.25em;background-color: #f0f8ff;}#sk-container-id-7 input.sk-toggleable__control:checked~div.sk-toggleable__content {max-height: 200px;max-width: 100%;overflow: auto;}#sk-container-id-7 input.sk-toggleable__control:checked~label.sk-toggleable__label-arrow:before {content: \"▾\";}#sk-container-id-7 div.sk-estimator input.sk-toggleable__control:checked~label.sk-toggleable__label {background-color: #d4ebff;}#sk-container-id-7 div.sk-label input.sk-toggleable__control:checked~label.sk-toggleable__label {background-color: #d4ebff;}#sk-container-id-7 input.sk-hidden--visually {border: 0;clip: rect(1px 1px 1px 1px);clip: rect(1px, 1px, 1px, 1px);height: 1px;margin: -1px;overflow: hidden;padding: 0;position: absolute;width: 1px;}#sk-container-id-7 div.sk-estimator {font-family: monospace;background-color: #f0f8ff;border: 1px dotted black;border-radius: 0.25em;box-sizing: border-box;margin-bottom: 0.5em;}#sk-container-id-7 div.sk-estimator:hover {background-color: #d4ebff;}#sk-container-id-7 div.sk-parallel-item::after {content: \"\";width: 100%;border-bottom: 1px solid gray;flex-grow: 1;}#sk-container-id-7 div.sk-label:hover label.sk-toggleable__label {background-color: #d4ebff;}#sk-container-id-7 div.sk-serial::before {content: \"\";position: absolute;border-left: 1px solid gray;box-sizing: border-box;top: 0;bottom: 0;left: 50%;z-index: 0;}#sk-container-id-7 div.sk-serial {display: flex;flex-direction: column;align-items: center;background-color: white;padding-right: 0.2em;padding-left: 0.2em;position: relative;}#sk-container-id-7 div.sk-item {position: relative;z-index: 1;}#sk-container-id-7 div.sk-parallel {display: flex;align-items: stretch;justify-content: center;background-color: white;position: relative;}#sk-container-id-7 div.sk-item::before, #sk-container-id-7 div.sk-parallel-item::before {content: \"\";position: absolute;border-left: 1px solid gray;box-sizing: border-box;top: 0;bottom: 0;left: 50%;z-index: -1;}#sk-container-id-7 div.sk-parallel-item {display: flex;flex-direction: column;z-index: 1;position: relative;background-color: white;}#sk-container-id-7 div.sk-parallel-item:first-child::after {align-self: flex-end;width: 50%;}#sk-container-id-7 div.sk-parallel-item:last-child::after {align-self: flex-start;width: 50%;}#sk-container-id-7 div.sk-parallel-item:only-child::after {width: 0;}#sk-container-id-7 div.sk-dashed-wrapped {border: 1px dashed gray;margin: 0 0.4em 0.5em 0.4em;box-sizing: border-box;padding-bottom: 0.4em;background-color: white;}#sk-container-id-7 div.sk-label label {font-family: monospace;font-weight: bold;display: inline-block;line-height: 1.2em;}#sk-container-id-7 div.sk-label-container {text-align: center;}#sk-container-id-7 div.sk-container {/* jupyter's `normalize.less` sets `[hidden] { display: none; }` but bootstrap.min.css set `[hidden] { display: none !important; }` so we also need the `!important` here to be able to override the default hidden behavior on the sphinx rendered scikit-learn.org. See: https://github.com/scikit-learn/scikit-learn/issues/21755 */display: inline-block !important;position: relative;}#sk-container-id-7 div.sk-text-repr-fallback {display: none;}</style><div id=\"sk-container-id-7\" class=\"sk-top-container\"><div class=\"sk-text-repr-fallback\"><pre>KerasRegressor(\n",
       "\tmodel=&lt;function make_regression_ann at 0x0000019AF8275AB0&gt;\n",
       "\tbuild_fn=None\n",
       "\twarm_start=False\n",
       "\trandom_state=None\n",
       "\toptimizer=rmsprop\n",
       "\tloss=None\n",
       "\tmetrics=None\n",
       "\tbatch_size=None\n",
       "\tvalidation_batch_size=None\n",
       "\tverbose=0\n",
       "\tcallbacks=None\n",
       "\tvalidation_split=0.0\n",
       "\tshuffle=True\n",
       "\trun_eagerly=False\n",
       "\tepochs=1\n",
       "\tOptimizer_trial=&lt;keras.src.optimizers.adam.Adam object at 0x0000019AF7F4AEF0&gt;\n",
       ")</pre><b>In a Jupyter environment, please rerun this cell to show the HTML representation or trust the notebook. <br />On GitHub, the HTML representation is unable to render, please try loading this page with nbviewer.org.</b></div><div class=\"sk-container\" hidden><div class=\"sk-item\"><div class=\"sk-estimator sk-toggleable\"><input class=\"sk-toggleable__control sk-hidden--visually\" id=\"sk-estimator-id-7\" type=\"checkbox\" checked><label for=\"sk-estimator-id-7\" class=\"sk-toggleable__label sk-toggleable__label-arrow\">KerasRegressor</label><div class=\"sk-toggleable__content\"><pre>KerasRegressor(\n",
       "\tmodel=&lt;function make_regression_ann at 0x0000019AF8275AB0&gt;\n",
       "\tbuild_fn=None\n",
       "\twarm_start=False\n",
       "\trandom_state=None\n",
       "\toptimizer=rmsprop\n",
       "\tloss=None\n",
       "\tmetrics=None\n",
       "\tbatch_size=None\n",
       "\tvalidation_batch_size=None\n",
       "\tverbose=0\n",
       "\tcallbacks=None\n",
       "\tvalidation_split=0.0\n",
       "\tshuffle=True\n",
       "\trun_eagerly=False\n",
       "\tepochs=1\n",
       "\tOptimizer_trial=&lt;keras.src.optimizers.adam.Adam object at 0x0000019AF7F4AEF0&gt;\n",
       ")</pre></div></div></div></div></div>"
      ],
      "text/plain": [
       "KerasRegressor(\n",
       "\tmodel=<function make_regression_ann at 0x0000019AF8275AB0>\n",
       "\tbuild_fn=None\n",
       "\twarm_start=False\n",
       "\trandom_state=None\n",
       "\toptimizer=rmsprop\n",
       "\tloss=None\n",
       "\tmetrics=None\n",
       "\tbatch_size=None\n",
       "\tvalidation_batch_size=None\n",
       "\tverbose=0\n",
       "\tcallbacks=None\n",
       "\tvalidation_split=0.0\n",
       "\tshuffle=True\n",
       "\trun_eagerly=False\n",
       "\tepochs=1\n",
       "\tOptimizer_trial=<keras.src.optimizers.adam.Adam object at 0x0000019AF7F4AEF0>\n",
       ")"
      ]
     },
     "execution_count": 43,
     "metadata": {},
     "output_type": "execute_result"
    }
   ],
   "source": [
    "model.fit(x1,y1,batch_size=40,epochs=100)"
   ]
  },
  {
   "cell_type": "code",
   "execution_count": 44,
   "id": "14c7005e",
   "metadata": {},
   "outputs": [
    {
     "data": {
      "text/plain": [
       "0.9951973343648202"
      ]
     },
     "execution_count": 44,
     "metadata": {},
     "output_type": "execute_result"
    }
   ],
   "source": [
    "model.score(x1,y1)"
   ]
  },
  {
   "cell_type": "code",
   "execution_count": 46,
   "id": "c88e8f45",
   "metadata": {},
   "outputs": [
    {
     "data": {
      "text/plain": [
       "array([117.1917  , 117.29418 , 117.405846, ..., 112.21704 , 113.20095 ,\n",
       "       114.36343 ], dtype=float32)"
      ]
     },
     "execution_count": 46,
     "metadata": {},
     "output_type": "execute_result"
    }
   ],
   "source": [
    "model.predict(x1)"
   ]
  },
  {
   "cell_type": "code",
   "execution_count": null,
   "id": "d0e2da6b",
   "metadata": {},
   "outputs": [],
   "source": []
  }
 ],
 "metadata": {
  "kernelspec": {
   "display_name": "Python 3 (ipykernel)",
   "language": "python",
   "name": "python3"
  },
  "language_info": {
   "codemirror_mode": {
    "name": "ipython",
    "version": 3
   },
   "file_extension": ".py",
   "mimetype": "text/x-python",
   "name": "python",
   "nbconvert_exporter": "python",
   "pygments_lexer": "ipython3",
   "version": "3.10.9"
  }
 },
 "nbformat": 4,
 "nbformat_minor": 5
}
